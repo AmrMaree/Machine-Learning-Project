{
 "cells": [
  {
   "cell_type": "markdown",
   "id": "1384cc86",
   "metadata": {},
   "source": [
    "# Importing libraries"
   ]
  },
  {
   "cell_type": "code",
   "execution_count": 875,
   "id": "6a141e81",
   "metadata": {},
   "outputs": [],
   "source": [
    "import numpy as np\n",
    "import pandas as pd\n",
    "import matplotlib.pyplot as plt\n",
    "import seaborn as sns\n",
    "# from sklearn.preprocessing import StandardScaler"
   ]
  },
  {
   "cell_type": "markdown",
   "id": "f500c1b5",
   "metadata": {},
   "source": [
    "# Data Inspecting"
   ]
  },
  {
   "cell_type": "code",
   "execution_count": 876,
   "id": "d856efbd",
   "metadata": {},
   "outputs": [
    {
     "name": "stderr",
     "output_type": "stream",
     "text": [
      "C:\\Users\\yasse\\AppData\\Local\\Temp\\ipykernel_24504\\1388265767.py:1: DtypeWarning: Columns (0,2,7) have mixed types. Specify dtype option on import or set low_memory=False.\n",
      "  info_df = pd.read_csv('info_base_games.csv')\n"
     ]
    }
   ],
   "source": [
    "info_df = pd.read_csv('info_base_games.csv')\n",
    "gamalytic_df = pd.read_csv('gamalytic_steam_games.csv')\n",
    "dlcs_df = pd.read_csv('dlcs.csv')\n",
    "demos_df = pd.read_csv('demos.csv')"
   ]
  },
  {
   "cell_type": "code",
   "execution_count": 877,
   "id": "9f597813",
   "metadata": {},
   "outputs": [
    {
     "data": {
      "text/html": [
       "<div>\n",
       "<style scoped>\n",
       "    .dataframe tbody tr th:only-of-type {\n",
       "        vertical-align: middle;\n",
       "    }\n",
       "\n",
       "    .dataframe tbody tr th {\n",
       "        vertical-align: top;\n",
       "    }\n",
       "\n",
       "    .dataframe thead th {\n",
       "        text-align: right;\n",
       "    }\n",
       "</style>\n",
       "<table border=\"1\" class=\"dataframe\">\n",
       "  <thead>\n",
       "    <tr style=\"text-align: right;\">\n",
       "      <th></th>\n",
       "      <th>appid</th>\n",
       "      <th>name</th>\n",
       "      <th>metacritic</th>\n",
       "      <th>steam_achievements</th>\n",
       "      <th>steam_trading_cards</th>\n",
       "      <th>workshop_support</th>\n",
       "      <th>genres</th>\n",
       "      <th>achievements_total</th>\n",
       "      <th>release_date</th>\n",
       "      <th>supported_platforms</th>\n",
       "    </tr>\n",
       "  </thead>\n",
       "  <tbody>\n",
       "    <tr>\n",
       "      <th>0</th>\n",
       "      <td>2574000</td>\n",
       "      <td>Femboy Burgers</td>\n",
       "      <td>NaN</td>\n",
       "      <td>True</td>\n",
       "      <td>True</td>\n",
       "      <td>True</td>\n",
       "      <td>Casual, Indie</td>\n",
       "      <td>NaN</td>\n",
       "      <td>Oct 9, 2023</td>\n",
       "      <td>['windows', 'mac', 'linux']</td>\n",
       "    </tr>\n",
       "    <tr>\n",
       "      <th>1</th>\n",
       "      <td>2574120</td>\n",
       "      <td>PPA Pickleball Tour 2025</td>\n",
       "      <td>NaN</td>\n",
       "      <td>True</td>\n",
       "      <td>True</td>\n",
       "      <td>True</td>\n",
       "      <td>Indie, Simulation, Sports</td>\n",
       "      <td>18</td>\n",
       "      <td>Jul 16, 2024</td>\n",
       "      <td>['windows', 'mac', 'linux']</td>\n",
       "    </tr>\n",
       "    <tr>\n",
       "      <th>2</th>\n",
       "      <td>2573200</td>\n",
       "      <td>Squeaky Squad</td>\n",
       "      <td>NaN</td>\n",
       "      <td>True</td>\n",
       "      <td>True</td>\n",
       "      <td>True</td>\n",
       "      <td>Action, Adventure, Indie</td>\n",
       "      <td>27</td>\n",
       "      <td>Mar 29, 2024</td>\n",
       "      <td>['windows', 'mac', 'linux']</td>\n",
       "    </tr>\n",
       "    <tr>\n",
       "      <th>3</th>\n",
       "      <td>2573440</td>\n",
       "      <td>Paradox Metal</td>\n",
       "      <td>NaN</td>\n",
       "      <td>True</td>\n",
       "      <td>True</td>\n",
       "      <td>True</td>\n",
       "      <td>Action, Early Access</td>\n",
       "      <td>NaN</td>\n",
       "      <td>Coming soon</td>\n",
       "      <td>['windows', 'mac', 'linux']</td>\n",
       "    </tr>\n",
       "    <tr>\n",
       "      <th>4</th>\n",
       "      <td>2569520</td>\n",
       "      <td>Naturpark Lillebælt VR</td>\n",
       "      <td>NaN</td>\n",
       "      <td>True</td>\n",
       "      <td>True</td>\n",
       "      <td>True</td>\n",
       "      <td>Action, Adventure</td>\n",
       "      <td>NaN</td>\n",
       "      <td>Sep 18, 2023</td>\n",
       "      <td>['windows', 'mac', 'linux']</td>\n",
       "    </tr>\n",
       "  </tbody>\n",
       "</table>\n",
       "</div>"
      ],
      "text/plain": [
       "     appid                      name metacritic  steam_achievements  \\\n",
       "0  2574000            Femboy Burgers        NaN                True   \n",
       "1  2574120  PPA Pickleball Tour 2025        NaN                True   \n",
       "2  2573200             Squeaky Squad        NaN                True   \n",
       "3  2573440             Paradox Metal        NaN                True   \n",
       "4  2569520    Naturpark Lillebælt VR        NaN                True   \n",
       "\n",
       "   steam_trading_cards  workshop_support                     genres  \\\n",
       "0                 True              True              Casual, Indie   \n",
       "1                 True              True  Indie, Simulation, Sports   \n",
       "2                 True              True   Action, Adventure, Indie   \n",
       "3                 True              True       Action, Early Access   \n",
       "4                 True              True          Action, Adventure   \n",
       "\n",
       "  achievements_total  release_date          supported_platforms  \n",
       "0                NaN   Oct 9, 2023  ['windows', 'mac', 'linux']  \n",
       "1                 18  Jul 16, 2024  ['windows', 'mac', 'linux']  \n",
       "2                 27  Mar 29, 2024  ['windows', 'mac', 'linux']  \n",
       "3                NaN   Coming soon  ['windows', 'mac', 'linux']  \n",
       "4                NaN  Sep 18, 2023  ['windows', 'mac', 'linux']  "
      ]
     },
     "execution_count": 877,
     "metadata": {},
     "output_type": "execute_result"
    }
   ],
   "source": [
    "info_df.head()"
   ]
  },
  {
   "cell_type": "code",
   "execution_count": 878,
   "id": "b73d9638",
   "metadata": {},
   "outputs": [
    {
     "name": "stdout",
     "output_type": "stream",
     "text": [
      "<class 'pandas.core.frame.DataFrame'>\n",
      "RangeIndex: 99167 entries, 0 to 99166\n",
      "Data columns (total 10 columns):\n",
      " #   Column               Non-Null Count  Dtype \n",
      "---  ------               --------------  ----- \n",
      " 0   appid                99167 non-null  object\n",
      " 1   name                 99149 non-null  object\n",
      " 2   metacritic           3019 non-null   object\n",
      " 3   steam_achievements   99167 non-null  bool  \n",
      " 4   steam_trading_cards  99167 non-null  bool  \n",
      " 5   workshop_support     99167 non-null  bool  \n",
      " 6   genres               94389 non-null  object\n",
      " 7   achievements_total   38115 non-null  object\n",
      " 8   release_date         98861 non-null  object\n",
      " 9   supported_platforms  99167 non-null  object\n",
      "dtypes: bool(3), object(7)\n",
      "memory usage: 5.6+ MB\n"
     ]
    }
   ],
   "source": [
    "info_df.info()"
   ]
  },
  {
   "cell_type": "code",
   "execution_count": 879,
   "id": "2c0dcdb4",
   "metadata": {},
   "outputs": [
    {
     "data": {
      "text/plain": [
       "release_date\n",
       "Coming soon        12109\n",
       "To be announced     5872\n",
       "2025                2699\n",
       "Q1 2025              753\n",
       "Q2 2025              626\n",
       "Mar-25               258\n",
       "Q4 2025              233\n",
       "Q3 2025              219\n",
       "2026                 160\n",
       "Feb-25               149\n",
       "Dec 5, 2024          148\n",
       "Nov 15, 2024         142\n",
       "Oct 31, 2024         141\n",
       "Dec 13, 2024         137\n",
       "Oct 24, 2024         135\n",
       "Apr-25               131\n",
       "Aug 1, 2024          129\n",
       "Jan 31, 2025         126\n",
       "Nov 22, 2024         122\n",
       "Dec 12, 2024         119\n",
       "Nov 14, 2024         118\n",
       "Nov 8, 2024          115\n",
       "Dec 6, 2024          114\n",
       "Jan 30, 2025         112\n",
       "Oct 28, 2024         111\n",
       "Oct 22, 2024         111\n",
       "Nov 7, 2024          110\n",
       "Nov 6, 2024          108\n",
       "Aug 30, 2024         106\n",
       "Oct 25, 2024         106\n",
       "Name: count, dtype: int64"
      ]
     },
     "execution_count": 879,
     "metadata": {},
     "output_type": "execute_result"
    }
   ],
   "source": [
    "info_df['release_date'].value_counts().head(30)"
   ]
  },
  {
   "cell_type": "code",
   "execution_count": 880,
   "id": "0eaabfba",
   "metadata": {},
   "outputs": [
    {
     "data": {
      "text/html": [
       "<div>\n",
       "<style scoped>\n",
       "    .dataframe tbody tr th:only-of-type {\n",
       "        vertical-align: middle;\n",
       "    }\n",
       "\n",
       "    .dataframe tbody tr th {\n",
       "        vertical-align: top;\n",
       "    }\n",
       "\n",
       "    .dataframe thead th {\n",
       "        text-align: right;\n",
       "    }\n",
       "</style>\n",
       "<table border=\"1\" class=\"dataframe\">\n",
       "  <thead>\n",
       "    <tr style=\"text-align: right;\">\n",
       "      <th></th>\n",
       "      <th>steamId</th>\n",
       "      <th>price</th>\n",
       "      <th>copiesSold</th>\n",
       "      <th>publisherClass</th>\n",
       "      <th>reviewScore</th>\n",
       "      <th>aiContent</th>\n",
       "    </tr>\n",
       "  </thead>\n",
       "  <tbody>\n",
       "    <tr>\n",
       "      <th>0</th>\n",
       "      <td>730</td>\n",
       "      <td>0.0</td>\n",
       "      <td>302158048</td>\n",
       "      <td>AAA</td>\n",
       "      <td>87</td>\n",
       "      <td>NaN</td>\n",
       "    </tr>\n",
       "    <tr>\n",
       "      <th>1</th>\n",
       "      <td>570</td>\n",
       "      <td>0.0</td>\n",
       "      <td>212896574</td>\n",
       "      <td>AAA</td>\n",
       "      <td>82</td>\n",
       "      <td>NaN</td>\n",
       "    </tr>\n",
       "    <tr>\n",
       "      <th>2</th>\n",
       "      <td>578080</td>\n",
       "      <td>0.0</td>\n",
       "      <td>161971233</td>\n",
       "      <td>AAA</td>\n",
       "      <td>59</td>\n",
       "      <td>NaN</td>\n",
       "    </tr>\n",
       "    <tr>\n",
       "      <th>3</th>\n",
       "      <td>440</td>\n",
       "      <td>0.0</td>\n",
       "      <td>99060457</td>\n",
       "      <td>AAA</td>\n",
       "      <td>90</td>\n",
       "      <td>NaN</td>\n",
       "    </tr>\n",
       "    <tr>\n",
       "      <th>4</th>\n",
       "      <td>1172470</td>\n",
       "      <td>0.0</td>\n",
       "      <td>67554185</td>\n",
       "      <td>AAA</td>\n",
       "      <td>67</td>\n",
       "      <td>NaN</td>\n",
       "    </tr>\n",
       "  </tbody>\n",
       "</table>\n",
       "</div>"
      ],
      "text/plain": [
       "   steamId  price  copiesSold publisherClass  reviewScore  aiContent\n",
       "0      730    0.0   302158048            AAA           87        NaN\n",
       "1      570    0.0   212896574            AAA           82        NaN\n",
       "2   578080    0.0   161971233            AAA           59        NaN\n",
       "3      440    0.0    99060457            AAA           90        NaN\n",
       "4  1172470    0.0    67554185            AAA           67        NaN"
      ]
     },
     "execution_count": 880,
     "metadata": {},
     "output_type": "execute_result"
    }
   ],
   "source": [
    "gamalytic_df.head()"
   ]
  },
  {
   "cell_type": "code",
   "execution_count": 881,
   "id": "a0f8d44e",
   "metadata": {},
   "outputs": [
    {
     "name": "stdout",
     "output_type": "stream",
     "text": [
      "<class 'pandas.core.frame.DataFrame'>\n",
      "RangeIndex: 93338 entries, 0 to 93337\n",
      "Data columns (total 6 columns):\n",
      " #   Column          Non-Null Count  Dtype  \n",
      "---  ------          --------------  -----  \n",
      " 0   steamId         93338 non-null  int64  \n",
      " 1   price           93338 non-null  float64\n",
      " 2   copiesSold      93338 non-null  int64  \n",
      " 3   publisherClass  93338 non-null  object \n",
      " 4   reviewScore     93338 non-null  int64  \n",
      " 5   aiContent       0 non-null      float64\n",
      "dtypes: float64(2), int64(3), object(1)\n",
      "memory usage: 4.3+ MB\n"
     ]
    }
   ],
   "source": [
    "gamalytic_df.info()"
   ]
  },
  {
   "cell_type": "code",
   "execution_count": 882,
   "id": "a55a9720",
   "metadata": {},
   "outputs": [
    {
     "data": {
      "text/html": [
       "<div>\n",
       "<style scoped>\n",
       "    .dataframe tbody tr th:only-of-type {\n",
       "        vertical-align: middle;\n",
       "    }\n",
       "\n",
       "    .dataframe tbody tr th {\n",
       "        vertical-align: top;\n",
       "    }\n",
       "\n",
       "    .dataframe thead th {\n",
       "        text-align: right;\n",
       "    }\n",
       "</style>\n",
       "<table border=\"1\" class=\"dataframe\">\n",
       "  <thead>\n",
       "    <tr style=\"text-align: right;\">\n",
       "      <th></th>\n",
       "      <th>base_appid</th>\n",
       "      <th>dlc_appid</th>\n",
       "      <th>name</th>\n",
       "    </tr>\n",
       "  </thead>\n",
       "  <tbody>\n",
       "    <tr>\n",
       "      <th>0</th>\n",
       "      <td>1786750</td>\n",
       "      <td>2568660</td>\n",
       "      <td>家出王女 - 全年齢版ストーリー&amp;グラフィック追加 DLC</td>\n",
       "    </tr>\n",
       "    <tr>\n",
       "      <th>1</th>\n",
       "      <td>1981700</td>\n",
       "      <td>2563730</td>\n",
       "      <td>Jacob's Quest - Voyage</td>\n",
       "    </tr>\n",
       "    <tr>\n",
       "      <th>2</th>\n",
       "      <td>2009450</td>\n",
       "      <td>2552980</td>\n",
       "      <td>Invector: Rhythm Galaxy - Latin Power Song Pack</td>\n",
       "    </tr>\n",
       "    <tr>\n",
       "      <th>3</th>\n",
       "      <td>1133420</td>\n",
       "      <td>2550750</td>\n",
       "      <td>Hero or Villain: Genesis — Supercharged!</td>\n",
       "    </tr>\n",
       "    <tr>\n",
       "      <th>4</th>\n",
       "      <td>2533950</td>\n",
       "      <td>2551000</td>\n",
       "      <td>Hot And Lovely ：Uniform - adult patch</td>\n",
       "    </tr>\n",
       "  </tbody>\n",
       "</table>\n",
       "</div>"
      ],
      "text/plain": [
       "  base_appid dlc_appid                                             name\n",
       "0    1786750   2568660                    家出王女 - 全年齢版ストーリー&グラフィック追加 DLC\n",
       "1    1981700   2563730                           Jacob's Quest - Voyage\n",
       "2    2009450   2552980  Invector: Rhythm Galaxy - Latin Power Song Pack\n",
       "3    1133420   2550750         Hero or Villain: Genesis — Supercharged!\n",
       "4    2533950   2551000            Hot And Lovely ：Uniform - adult patch"
      ]
     },
     "execution_count": 882,
     "metadata": {},
     "output_type": "execute_result"
    }
   ],
   "source": [
    "dlcs_df.head()"
   ]
  },
  {
   "cell_type": "code",
   "execution_count": 883,
   "id": "55e42e91",
   "metadata": {},
   "outputs": [
    {
     "name": "stdout",
     "output_type": "stream",
     "text": [
      "<class 'pandas.core.frame.DataFrame'>\n",
      "RangeIndex: 5445 entries, 0 to 5444\n",
      "Data columns (total 3 columns):\n",
      " #   Column      Non-Null Count  Dtype \n",
      "---  ------      --------------  ----- \n",
      " 0   base_appid  5445 non-null   object\n",
      " 1   dlc_appid   5445 non-null   object\n",
      " 2   name        5445 non-null   object\n",
      "dtypes: object(3)\n",
      "memory usage: 127.7+ KB\n"
     ]
    }
   ],
   "source": [
    "dlcs_df.info()"
   ]
  },
  {
   "cell_type": "code",
   "execution_count": 884,
   "id": "1afa2299",
   "metadata": {},
   "outputs": [
    {
     "data": {
      "text/html": [
       "<div>\n",
       "<style scoped>\n",
       "    .dataframe tbody tr th:only-of-type {\n",
       "        vertical-align: middle;\n",
       "    }\n",
       "\n",
       "    .dataframe tbody tr th {\n",
       "        vertical-align: top;\n",
       "    }\n",
       "\n",
       "    .dataframe thead th {\n",
       "        text-align: right;\n",
       "    }\n",
       "</style>\n",
       "<table border=\"1\" class=\"dataframe\">\n",
       "  <thead>\n",
       "    <tr style=\"text-align: right;\">\n",
       "      <th></th>\n",
       "      <th>Unnamed: 0</th>\n",
       "      <th>full_game_appid</th>\n",
       "      <th>demo_appid</th>\n",
       "      <th>name</th>\n",
       "    </tr>\n",
       "  </thead>\n",
       "  <tbody>\n",
       "    <tr>\n",
       "      <th>0</th>\n",
       "      <td>0</td>\n",
       "      <td>2214650</td>\n",
       "      <td>2573370</td>\n",
       "      <td>Rolando Deluxe Demo</td>\n",
       "    </tr>\n",
       "    <tr>\n",
       "      <th>1</th>\n",
       "      <td>1</td>\n",
       "      <td>1439980</td>\n",
       "      <td>2573460</td>\n",
       "      <td>Outrunner: Neon Nights Demo</td>\n",
       "    </tr>\n",
       "    <tr>\n",
       "      <th>2</th>\n",
       "      <td>2</td>\n",
       "      <td>2412240</td>\n",
       "      <td>2572840</td>\n",
       "      <td>Bubble Ghost Remake Demo</td>\n",
       "    </tr>\n",
       "    <tr>\n",
       "      <th>3</th>\n",
       "      <td>3</td>\n",
       "      <td>2448830</td>\n",
       "      <td>2572240</td>\n",
       "      <td>Time Handlers Demo</td>\n",
       "    </tr>\n",
       "    <tr>\n",
       "      <th>4</th>\n",
       "      <td>4</td>\n",
       "      <td>2379590</td>\n",
       "      <td>2570800</td>\n",
       "      <td>Hope's Final Defense Demo</td>\n",
       "    </tr>\n",
       "  </tbody>\n",
       "</table>\n",
       "</div>"
      ],
      "text/plain": [
       "   Unnamed: 0 full_game_appid demo_appid                         name\n",
       "0           0         2214650    2573370          Rolando Deluxe Demo\n",
       "1           1         1439980    2573460  Outrunner: Neon Nights Demo\n",
       "2           2         2412240    2572840     Bubble Ghost Remake Demo\n",
       "3           3         2448830    2572240           Time Handlers Demo\n",
       "4           4         2379590    2570800    Hope's Final Defense Demo"
      ]
     },
     "execution_count": 884,
     "metadata": {},
     "output_type": "execute_result"
    }
   ],
   "source": [
    "demos_df.head()"
   ]
  },
  {
   "cell_type": "code",
   "execution_count": 885,
   "id": "28aba7e1",
   "metadata": {},
   "outputs": [
    {
     "name": "stdout",
     "output_type": "stream",
     "text": [
      "<class 'pandas.core.frame.DataFrame'>\n",
      "RangeIndex: 15449 entries, 0 to 15448\n",
      "Data columns (total 4 columns):\n",
      " #   Column           Non-Null Count  Dtype \n",
      "---  ------           --------------  ----- \n",
      " 0   Unnamed: 0       15449 non-null  int64 \n",
      " 1   full_game_appid  15449 non-null  object\n",
      " 2   demo_appid       15449 non-null  object\n",
      " 3   name             15448 non-null  object\n",
      "dtypes: int64(1), object(3)\n",
      "memory usage: 482.9+ KB\n"
     ]
    }
   ],
   "source": [
    "demos_df.info()"
   ]
  },
  {
   "cell_type": "markdown",
   "id": "e7054d5e",
   "metadata": {},
   "source": [
    "# Data Preprocessing"
   ]
  },
  {
   "cell_type": "markdown",
   "id": "68d9601a",
   "metadata": {},
   "source": [
    "### Renaming columns to have a common 'id' column for merging"
   ]
  },
  {
   "cell_type": "code",
   "execution_count": null,
   "id": "b049fd6e",
   "metadata": {},
   "outputs": [],
   "source": [
    "info_df.rename(columns={'appid': 'id'}, inplace=True)\n",
    "gamalytic_df.rename(columns={'steamId': 'id'}, inplace=True)\n",
    "dlcs_df.rename(columns={'base_appid': 'id'}, inplace=True)\n",
    "demos_df.rename(columns={'full_game_appid': 'id'}, inplace=True)"
   ]
  },
  {
   "cell_type": "markdown",
   "id": "56c1f28c",
   "metadata": {},
   "source": [
    "### Ensure consistent ID types"
   ]
  },
  {
   "cell_type": "code",
   "execution_count": null,
   "id": "3c84bc68",
   "metadata": {},
   "outputs": [],
   "source": [
    "\n",
    "info_df['id'] = info_df['id'].astype(str)\n",
    "gamalytic_df['id'] = gamalytic_df['id'].astype(str)\n",
    "dlcs_df['id'] = dlcs_df['id'].astype(str)\n",
    "demos_df['id'] = demos_df['id'].astype(str)"
   ]
  },
  {
   "cell_type": "markdown",
   "id": "fd8e8c3e",
   "metadata": {},
   "source": [
    "### Data Merging"
   ]
  },
  {
   "cell_type": "code",
   "execution_count": 888,
   "id": "6f9ff868",
   "metadata": {},
   "outputs": [],
   "source": [
    "# Merge info_df and gamalytic_df\n",
    "merged_df = pd.merge(info_df, gamalytic_df, on='id', how='inner')\n",
    "\n",
    "# Aggregate DLCs (count per game)\n",
    "dlc_count = dlcs_df.groupby('id').size().reset_index(name='dlc_count')\n",
    "\n",
    "merged_df = pd.merge(merged_df, dlc_count, on='id', how='left')\n",
    "merged_df['dlc_count'] = merged_df['dlc_count'].fillna(0)\n",
    "\n",
    "# Add demo presence\n",
    "merged_df['hasDemo'] = merged_df['id'].isin(demos_df['id']).astype(int)"
   ]
  },
  {
   "cell_type": "code",
   "execution_count": 889,
   "id": "08ff15c2",
   "metadata": {},
   "outputs": [
    {
     "name": "stdout",
     "output_type": "stream",
     "text": [
      "<class 'pandas.core.frame.DataFrame'>\n",
      "RangeIndex: 69428 entries, 0 to 69427\n",
      "Data columns (total 17 columns):\n",
      " #   Column               Non-Null Count  Dtype  \n",
      "---  ------               --------------  -----  \n",
      " 0   id                   69428 non-null  object \n",
      " 1   name                 69428 non-null  object \n",
      " 2   metacritic           2933 non-null   object \n",
      " 3   steam_achievements   69428 non-null  bool   \n",
      " 4   steam_trading_cards  69428 non-null  bool   \n",
      " 5   workshop_support     69428 non-null  bool   \n",
      " 6   genres               69324 non-null  object \n",
      " 7   achievements_total   37295 non-null  object \n",
      " 8   release_date         69426 non-null  object \n",
      " 9   supported_platforms  69428 non-null  object \n",
      " 10  price                69428 non-null  float64\n",
      " 11  copiesSold           69428 non-null  int64  \n",
      " 12  publisherClass       69428 non-null  object \n",
      " 13  reviewScore          69428 non-null  int64  \n",
      " 14  aiContent            0 non-null      float64\n",
      " 15  dlc_count            69428 non-null  float64\n",
      " 16  hasDemo              69428 non-null  int64  \n",
      "dtypes: bool(3), float64(3), int64(3), object(8)\n",
      "memory usage: 7.6+ MB\n"
     ]
    }
   ],
   "source": [
    "merged_df.info()"
   ]
  },
  {
   "cell_type": "code",
   "execution_count": 890,
   "id": "98ce7a53",
   "metadata": {},
   "outputs": [
    {
     "data": {
      "text/plain": [
       "id                         0\n",
       "name                       0\n",
       "metacritic             66495\n",
       "steam_achievements         0\n",
       "steam_trading_cards        0\n",
       "workshop_support           0\n",
       "genres                   104\n",
       "achievements_total     32133\n",
       "release_date               2\n",
       "supported_platforms        0\n",
       "price                      0\n",
       "copiesSold                 0\n",
       "publisherClass             0\n",
       "reviewScore                0\n",
       "aiContent              69428\n",
       "dlc_count                  0\n",
       "hasDemo                    0\n",
       "dtype: int64"
      ]
     },
     "execution_count": 890,
     "metadata": {},
     "output_type": "execute_result"
    }
   ],
   "source": [
    "merged_df.isnull().sum()"
   ]
  },
  {
   "cell_type": "code",
   "execution_count": 892,
   "id": "f2c9e057",
   "metadata": {},
   "outputs": [],
   "source": [
    "# merged_df.to_csv('final_merged_data.csv', index=False)"
   ]
  },
  {
   "cell_type": "code",
   "execution_count": null,
   "id": "4d4a4a3a",
   "metadata": {},
   "outputs": [],
   "source": [
    "df = merged_df.copy()"
   ]
  },
  {
   "cell_type": "markdown",
   "id": "d909e7d5",
   "metadata": {},
   "source": [
    "## Data Cleaning"
   ]
  },
  {
   "cell_type": "markdown",
   "id": "c6e3c0e4",
   "metadata": {},
   "source": [
    "### Handle missing values"
   ]
  },
  {
   "cell_type": "code",
   "execution_count": null,
   "id": "003d1dbf",
   "metadata": {},
   "outputs": [],
   "source": [
    "df['metacritic'] = pd.to_numeric(df['metacritic'], errors='coerce').fillna(0)\n",
    "df['achievements_total'] = pd.to_numeric(df['achievements_total'], errors='coerce').fillna(0)\n",
    "df['genres'] = df['genres'].fillna('Unknown')\n",
    "df['release_date'] = df['release_date'].replace('Coming soon', pd.NA)\n",
    "df['release_date'] = pd.to_datetime(df['release_date'], errors='coerce')\n",
    "df['release_year'] = df['release_date'].dt.year.fillna(df['release_date'].dt.year.mode()[0])"
   ]
  },
  {
   "cell_type": "code",
   "execution_count": 895,
   "id": "2175d245",
   "metadata": {},
   "outputs": [],
   "source": [
    "# Drop aiContent if all NaN\n",
    "df.drop(columns=['aiContent'], inplace=True)"
   ]
  },
  {
   "cell_type": "code",
   "execution_count": 896,
   "id": "74194970",
   "metadata": {},
   "outputs": [
    {
     "data": {
      "text/plain": [
       "id                        0\n",
       "name                      0\n",
       "metacritic                0\n",
       "steam_achievements        0\n",
       "steam_trading_cards       0\n",
       "workshop_support          0\n",
       "genres                    0\n",
       "achievements_total        0\n",
       "release_date           1223\n",
       "supported_platforms       0\n",
       "price                     0\n",
       "copiesSold                0\n",
       "publisherClass            0\n",
       "reviewScore               0\n",
       "dlc_count                 0\n",
       "hasDemo                   0\n",
       "release_year              0\n",
       "dtype: int64"
      ]
     },
     "execution_count": 896,
     "metadata": {},
     "output_type": "execute_result"
    }
   ],
   "source": [
    "df.isnull().sum()"
   ]
  },
  {
   "cell_type": "code",
   "execution_count": 897,
   "id": "b674fc6e",
   "metadata": {},
   "outputs": [
    {
     "data": {
      "text/plain": [
       "release_year\n",
       "2024.0    17492\n",
       "2021.0     9089\n",
       "2023.0     8174\n",
       "2018.0     6265\n",
       "2022.0     5979\n",
       "2019.0     5852\n",
       "2020.0     5507\n",
       "2017.0     3836\n",
       "2025.0     2631\n",
       "2014.0     1441\n",
       "2015.0     1080\n",
       "2013.0      438\n",
       "2016.0      357\n",
       "2012.0      299\n",
       "2009.0      264\n",
       "2011.0      228\n",
       "2010.0      194\n",
       "2008.0      142\n",
       "2007.0       78\n",
       "2006.0       59\n",
       "2005.0        6\n",
       "2001.0        3\n",
       "2003.0        3\n",
       "2004.0        3\n",
       "1997.0        2\n",
       "1999.0        2\n",
       "2000.0        2\n",
       "2002.0        1\n",
       "1998.0        1\n",
       "Name: count, dtype: int64"
      ]
     },
     "execution_count": 897,
     "metadata": {},
     "output_type": "execute_result"
    }
   ],
   "source": [
    "df['release_year'].value_counts()"
   ]
  },
  {
   "cell_type": "code",
   "execution_count": 898,
   "id": "1d6089db",
   "metadata": {},
   "outputs": [
    {
     "data": {
      "text/plain": [
       "publisherClass\n",
       "Hobbyist    39623\n",
       "Indie       26834\n",
       "AA           2166\n",
       "AAA           805\n",
       "Name: count, dtype: int64"
      ]
     },
     "execution_count": 898,
     "metadata": {},
     "output_type": "execute_result"
    }
   ],
   "source": [
    "df['publisherClass'].value_counts()"
   ]
  },
  {
   "cell_type": "code",
   "execution_count": 899,
   "id": "8a87b053",
   "metadata": {},
   "outputs": [],
   "source": [
    "# Encode categorical variables\n",
    "df['steam_achievements'] = df['steam_achievements'].astype(int)\n",
    "df['steam_trading_cards'] = df['steam_trading_cards'].astype(int)\n",
    "df['workshop_support'] = df['workshop_support'].astype(int)\n",
    "df = pd.get_dummies(df, columns=['publisherClass'], dtype=int)"
   ]
  },
  {
   "cell_type": "code",
   "execution_count": 900,
   "id": "4891e1c9",
   "metadata": {},
   "outputs": [
    {
     "data": {
      "text/plain": [
       "steam_achievements\n",
       "1    36184\n",
       "0    33244\n",
       "Name: count, dtype: int64"
      ]
     },
     "execution_count": 900,
     "metadata": {},
     "output_type": "execute_result"
    }
   ],
   "source": [
    "df[\"steam_achievements\"].value_counts()"
   ]
  },
  {
   "cell_type": "code",
   "execution_count": 901,
   "id": "f207504e",
   "metadata": {},
   "outputs": [
    {
     "data": {
      "text/plain": [
       "steam_trading_cards\n",
       "0    58141\n",
       "1    11287\n",
       "Name: count, dtype: int64"
      ]
     },
     "execution_count": 901,
     "metadata": {},
     "output_type": "execute_result"
    }
   ],
   "source": [
    "df['steam_trading_cards'].value_counts()"
   ]
  },
  {
   "cell_type": "code",
   "execution_count": 902,
   "id": "a2856a50",
   "metadata": {},
   "outputs": [
    {
     "data": {
      "text/plain": [
       "workshop_support\n",
       "0    62357\n",
       "1     7071\n",
       "Name: count, dtype: int64"
      ]
     },
     "execution_count": 902,
     "metadata": {},
     "output_type": "execute_result"
    }
   ],
   "source": [
    "df['workshop_support'].value_counts()"
   ]
  },
  {
   "cell_type": "code",
   "execution_count": 903,
   "id": "fb86f748",
   "metadata": {},
   "outputs": [
    {
     "name": "stdout",
     "output_type": "stream",
     "text": [
      "<class 'pandas.core.frame.DataFrame'>\n",
      "RangeIndex: 69428 entries, 0 to 69427\n",
      "Data columns (total 20 columns):\n",
      " #   Column                   Non-Null Count  Dtype         \n",
      "---  ------                   --------------  -----         \n",
      " 0   id                       69428 non-null  int64         \n",
      " 1   name                     69428 non-null  object        \n",
      " 2   metacritic               69428 non-null  float64       \n",
      " 3   steam_achievements       69428 non-null  int64         \n",
      " 4   steam_trading_cards      69428 non-null  int64         \n",
      " 5   workshop_support         69428 non-null  int64         \n",
      " 6   genres                   69428 non-null  object        \n",
      " 7   achievements_total       69428 non-null  float64       \n",
      " 8   release_date             68205 non-null  datetime64[ns]\n",
      " 9   supported_platforms      69428 non-null  object        \n",
      " 10  price                    69428 non-null  float64       \n",
      " 11  copiesSold               69428 non-null  int64         \n",
      " 12  reviewScore              69428 non-null  int64         \n",
      " 13  dlc_count                69428 non-null  float64       \n",
      " 14  hasDemo                  69428 non-null  int64         \n",
      " 15  release_year             69428 non-null  float64       \n",
      " 16  publisherClass_AA        69428 non-null  int64         \n",
      " 17  publisherClass_AAA       69428 non-null  int64         \n",
      " 18  publisherClass_Hobbyist  69428 non-null  int64         \n",
      " 19  publisherClass_Indie     69428 non-null  int64         \n",
      "dtypes: datetime64[ns](1), float64(5), int64(11), object(3)\n",
      "memory usage: 10.6+ MB\n"
     ]
    }
   ],
   "source": [
    "df.info()"
   ]
  },
  {
   "cell_type": "code",
   "execution_count": 904,
   "id": "79ddf7e0",
   "metadata": {},
   "outputs": [
    {
     "data": {
      "text/plain": [
       "publisherClass_AA\n",
       "0    67262\n",
       "1     2166\n",
       "Name: count, dtype: int64"
      ]
     },
     "execution_count": 904,
     "metadata": {},
     "output_type": "execute_result"
    }
   ],
   "source": [
    "df[\"publisherClass_AA\"].value_counts()"
   ]
  },
  {
   "cell_type": "code",
   "execution_count": 905,
   "id": "821e960e",
   "metadata": {},
   "outputs": [
    {
     "data": {
      "text/plain": [
       "publisherClass_AAA\n",
       "0    68623\n",
       "1      805\n",
       "Name: count, dtype: int64"
      ]
     },
     "execution_count": 905,
     "metadata": {},
     "output_type": "execute_result"
    }
   ],
   "source": [
    "df[\"publisherClass_AAA\"].value_counts()"
   ]
  },
  {
   "cell_type": "code",
   "execution_count": 906,
   "id": "2d7fd499",
   "metadata": {},
   "outputs": [
    {
     "data": {
      "text/plain": [
       "publisherClass_Indie\n",
       "0    42594\n",
       "1    26834\n",
       "Name: count, dtype: int64"
      ]
     },
     "execution_count": 906,
     "metadata": {},
     "output_type": "execute_result"
    }
   ],
   "source": [
    "df[\"publisherClass_Indie\"].value_counts()"
   ]
  },
  {
   "cell_type": "code",
   "execution_count": 907,
   "id": "dfe8c168",
   "metadata": {},
   "outputs": [
    {
     "data": {
      "text/plain": [
       "publisherClass_Hobbyist\n",
       "1    39623\n",
       "0    29805\n",
       "Name: count, dtype: int64"
      ]
     },
     "execution_count": 907,
     "metadata": {},
     "output_type": "execute_result"
    }
   ],
   "source": [
    "df[\"publisherClass_Hobbyist\"].value_counts() "
   ]
  },
  {
   "cell_type": "code",
   "execution_count": 910,
   "id": "edba9189",
   "metadata": {},
   "outputs": [],
   "source": [
    "# Parse supported_platforms\n",
    "df['isWindows'] = df['supported_platforms'].apply(lambda x: 1 if 'windows' in str(x).lower() else 0)\n",
    "df['isMac'] = df['supported_platforms'].apply(lambda x: 1 if 'mac' in str(x).lower() else 0)\n",
    "df['isLinux'] = df['supported_platforms'].apply(lambda x: 1 if 'linux' in str(x).lower() else 0)"
   ]
  },
  {
   "cell_type": "code",
   "execution_count": null,
   "id": "f3395452",
   "metadata": {},
   "outputs": [
    {
     "name": "stdout",
     "output_type": "stream",
     "text": [
      "<class 'pandas.core.frame.DataFrame'>\n",
      "RangeIndex: 69428 entries, 0 to 69427\n",
      "Data columns (total 23 columns):\n",
      " #   Column                   Non-Null Count  Dtype         \n",
      "---  ------                   --------------  -----         \n",
      " 0   id                       69428 non-null  int64         \n",
      " 1   name                     69428 non-null  object        \n",
      " 2   metacritic               69428 non-null  float64       \n",
      " 3   steam_achievements       69428 non-null  int64         \n",
      " 4   steam_trading_cards      69428 non-null  int64         \n",
      " 5   workshop_support         69428 non-null  int64         \n",
      " 6   genres                   69428 non-null  object        \n",
      " 7   achievements_total       69428 non-null  float64       \n",
      " 8   release_date             68205 non-null  datetime64[ns]\n",
      " 9   supported_platforms      69428 non-null  object        \n",
      " 10  price                    69428 non-null  float64       \n",
      " 11  copiesSold               69428 non-null  int64         \n",
      " 12  reviewScore              69428 non-null  int64         \n",
      " 13  dlc_count                69428 non-null  float64       \n",
      " 14  hasDemo                  69428 non-null  int64         \n",
      " 15  release_year             69428 non-null  float64       \n",
      " 16  publisherClass_AA        69428 non-null  int64         \n",
      " 17  publisherClass_AAA       69428 non-null  int64         \n",
      " 18  publisherClass_Hobbyist  69428 non-null  int64         \n",
      " 19  publisherClass_Indie     69428 non-null  int64         \n",
      " 20  isWindows                69428 non-null  int64         \n",
      " 21  isMac                    69428 non-null  int64         \n",
      " 22  isLinux                  69428 non-null  int64         \n",
      "dtypes: datetime64[ns](1), float64(5), int64(14), object(3)\n",
      "memory usage: 12.2+ MB\n"
     ]
    }
   ],
   "source": [
    "df.info()"
   ]
  },
  {
   "cell_type": "code",
   "execution_count": 914,
   "id": "844a26cf",
   "metadata": {},
   "outputs": [
    {
     "data": {
      "text/plain": [
       "isLinux\n",
       "0    55181\n",
       "1    14247\n",
       "Name: count, dtype: int64"
      ]
     },
     "execution_count": 914,
     "metadata": {},
     "output_type": "execute_result"
    }
   ],
   "source": [
    "df['isLinux'].value_counts()"
   ]
  },
  {
   "cell_type": "code",
   "execution_count": 915,
   "id": "759bc681",
   "metadata": {},
   "outputs": [
    {
     "data": {
      "text/plain": [
       "isMac\n",
       "0    51736\n",
       "1    17692\n",
       "Name: count, dtype: int64"
      ]
     },
     "execution_count": 915,
     "metadata": {},
     "output_type": "execute_result"
    }
   ],
   "source": [
    "df['isMac'].value_counts()"
   ]
  },
  {
   "cell_type": "code",
   "execution_count": 916,
   "id": "49d9fbfe",
   "metadata": {},
   "outputs": [
    {
     "data": {
      "text/plain": [
       "isWindows\n",
       "1    69420\n",
       "0        8\n",
       "Name: count, dtype: int64"
      ]
     },
     "execution_count": 916,
     "metadata": {},
     "output_type": "execute_result"
    }
   ],
   "source": [
    "df['isWindows'].value_counts()"
   ]
  },
  {
   "cell_type": "code",
   "execution_count": 920,
   "id": "27b8ed7f",
   "metadata": {},
   "outputs": [
    {
     "data": {
      "text/plain": [
       "genres\n",
       "Casual, Indie                           4139\n",
       "Action, Indie                           3470\n",
       "Action, Adventure, Indie                3164\n",
       "Adventure, Indie                        2696\n",
       "Adventure, Casual, Indie                2228\n",
       "Casual                                  2144\n",
       "Action, Casual, Indie                   2144\n",
       "Indie                                   1938\n",
       "Action                                  1866\n",
       "Casual, Indie, Strategy                 1391\n",
       "Adventure                               1333\n",
       "Action, Adventure, Casual, Indie        1291\n",
       "Casual, Indie, Simulation               1261\n",
       "Adventure, Indie, RPG                    998\n",
       "Action, Adventure                        995\n",
       "Adventure, Casual                        975\n",
       "Action, Adventure, Indie, RPG            945\n",
       "Strategy                                 867\n",
       "Simulation                               782\n",
       "Indie, Strategy                          747\n",
       "RPG                                      741\n",
       "Indie, RPG                               607\n",
       "Indie, Simulation                        583\n",
       "Casual, Indie, Simulation, Strategy      556\n",
       "Indie, Simulation, Strategy              518\n",
       "Action, Indie, Early Access              501\n",
       "Adventure, Casual, Indie, RPG            444\n",
       "Adventure, Casual, Indie, Simulation     435\n",
       "Action, Indie, RPG                       415\n",
       "Casual, Simulation                       399\n",
       "Name: count, dtype: int64"
      ]
     },
     "execution_count": 920,
     "metadata": {},
     "output_type": "execute_result"
    }
   ],
   "source": [
    "df['genres'].value_counts().head(30)"
   ]
  },
  {
   "cell_type": "code",
   "execution_count": 921,
   "id": "93186b95",
   "metadata": {},
   "outputs": [],
   "source": [
    "df['genres'].to_csv('genres.csv', index=False)"
   ]
  },
  {
   "cell_type": "code",
   "execution_count": 909,
   "id": "04aa67af",
   "metadata": {},
   "outputs": [],
   "source": [
    "# import requests\n",
    "# from bs4 import BeautifulSoup\n",
    "# import re\n",
    "# import json\n",
    "\n",
    "# def scrape_steam_game(appid):\n",
    "#     url = f\"https://store.steampowered.com/app/{appid}/\"\n",
    "#     headers = {\n",
    "#         \"User-Agent\": \"Mozilla/5.0 (Windows NT 10.0; Win64; x64) Chrome/91.0.4472.124\",\n",
    "#         \"Cookie\": \"birthtime=0; lastagecheckage=1-January-1970\"\n",
    "#     }\n",
    "    \n",
    "#     try:\n",
    "#         response = requests.get(url, headers=headers, timeout=10)\n",
    "#         response.raise_for_status()\n",
    "#     except requests.RequestException as e:\n",
    "#         return {\"error\": f\"Failed to fetch page: {str(e)}\"}\n",
    "    \n",
    "#     soup = BeautifulSoup(response.text, \"html.parser\")\n",
    "#     result = {}\n",
    "    \n",
    "#     # Name\n",
    "#     result[\"name\"] = soup.find(\"div\", class_=\"apphub_AppName\").get_text(strip=True) if soup.find(\"div\", class_=\"apphub_AppName\") else None\n",
    "    \n",
    "#     # Metacritic\n",
    "#     metacritic = soup.find(\"div\", class_=re.compile(r\"score (high|medium|low)\"))\n",
    "#     result[\"metacritic\"] = int(metacritic.get_text(strip=True)) if metacritic else None\n",
    "    \n",
    "#     # Steam Achievements\n",
    "#     result[\"steam_achievements\"] = bool(soup.find(\"div\", class_=\"game_area_achievement_stats\"))\n",
    "    \n",
    "#     # Steam Trading Cards\n",
    "#     result[\"steam_trading_cards\"] = bool(soup.find(\"a\", href=re.compile(r\"tradingcards\")))\n",
    "    \n",
    "#     # Workshop Support\n",
    "#     result[\"workshop_support\"] = bool(soup.find(\"a\", href=re.compile(r\"steamcommunity\\.com\\/app\\/\\d+\\/workshop\")))\n",
    "    \n",
    "#     # Genres\n",
    "#     genres = [a.get_text(strip=True) for a in soup.find_all(\"a\", class_=\"app_tag\") if a.get_text(strip=True).lower() != \"indie\"]\n",
    "#     result[\"genres\"] = genres if genres else None\n",
    "    \n",
    "#     # Achievements Total\n",
    "#     achievements = soup.find(\"span\", class_=\"communitylink_achievement_count\")\n",
    "#     result[\"achievements_total\"] = int(achievements.get_text(strip=True)) if achievements else None\n",
    "    \n",
    "#     # Release Date\n",
    "#     release_date = soup.find(\"div\", class_=\"release_date\")\n",
    "#     result[\"release_date\"] = release_date.find(\"div\", class_=\"date\").get_text(strip=True) if release_date else None\n",
    "    \n",
    "#     # Supported Platforms\n",
    "#     platforms = []\n",
    "#     if soup.find(\"div\", class_=\"sysreq_tab\", attrs={\"data-os\": \"win\"}): platforms.append(\"Windows\")\n",
    "#     if soup.find(\"div\", class_=\"sysreq_tab\", attrs={\"data-os\": \"mac\"}): platforms.append(\"Mac\")\n",
    "#     if soup.find(\"div\", class_=\"sysreq_tab\", attrs={\"data-os\": \"linux\"}): platforms.append(\"Linux\")\n",
    "#     result[\"supported_platforms\"] = platforms if platforms else None\n",
    "    \n",
    "#     # Price\n",
    "#     price = soup.find(\"div\", class_=\"game_purchase_price\")\n",
    "#     result[\"price\"] = price.get_text(strip=True) if price else \"Free\"\n",
    "    \n",
    "#     # Copies Sold\n",
    "#     result[\"copiesSold\"] = None  # Not available on store page\n",
    "    \n",
    "#     # Publisher Class\n",
    "#     publisher = soup.find(\"div\", id=\"developers_list\")\n",
    "#     if publisher:\n",
    "#         publisher_name = publisher.find(\"a\").get_text(strip=True)\n",
    "#         aaa_publishers = [\"Valve\", \"Bethesda\", \"Rockstar\", \"EA\", \"Ubisoft\", \"Activision\"]\n",
    "#         result[\"publisherClass\"] = \"AAA\" if publisher_name in aaa_publishers else \"Indie\"\n",
    "#     else:\n",
    "#         result[\"publisherClass\"] = None\n",
    "    \n",
    "#     # Review Score\n",
    "#     review_summary = soup.find(\"span\", class_=\"game_review_summary\")\n",
    "#     review_percent = soup.find(\"span\", class_=\"nonresponsive_hidden responsive_reviewdesc\")\n",
    "#     review_score = review_summary.get_text(strip=True) if review_summary else None\n",
    "#     if review_percent:\n",
    "#         percent = re.search(r\"\\d+%\", review_percent.get_text(strip=True))\n",
    "#         review_score += f\" ({percent.group()})\" if percent else \"\"\n",
    "#     result[\"reviewScore\"] = review_score\n",
    "    \n",
    "#     # AI Content\n",
    "#     description = soup.find(\"div\", class_=\"game_area_description\")\n",
    "#     result[\"aiContent\"] = bool(description and (\"ai-generated\" in description.get_text(strip=True).lower() or \"artificial intelligence\" in description.get_text(strip=True).lower()))\n",
    "    \n",
    "#     # DLC App IDs\n",
    "#     dlc_section = soup.find(\"div\", class_=\"gameDlcBlocks\")\n",
    "#     dlc_appids = [a[\"href\"].split(\"/\")[4] for a in dlc_section.find_all(\"a\", href=re.compile(r\"store\\.steampowered\\.com\\/app\\/\\d+\"))] if dlc_section else None\n",
    "#     result[\"dlc_appid\"] = dlc_appids\n",
    "    \n",
    "#     # Demo App ID\n",
    "#     demo = soup.find(\"a\", href=re.compile(r\"store\\.steampowered\\.com\\/app\\/\\d+\\/.*demo\"))\n",
    "#     result[\"demo_appid\"] = demo[\"href\"].split(\"/\")[4] if demo else None\n",
    "    \n",
    "#     return result\n",
    "\n",
    "# # Example usage\n",
    "# if __name__ == \"__main__\":\n",
    "#     appid = \"730\"  # Counter-Strike 2\n",
    "#     data = scrape_steam_game(appid)\n",
    "#     print(json.dumps(data, indent=2))"
   ]
  }
 ],
 "metadata": {
  "kernelspec": {
   "display_name": "venv",
   "language": "python",
   "name": "python3"
  },
  "language_info": {
   "codemirror_mode": {
    "name": "ipython",
    "version": 3
   },
   "file_extension": ".py",
   "mimetype": "text/x-python",
   "name": "python",
   "nbconvert_exporter": "python",
   "pygments_lexer": "ipython3",
   "version": "3.11.2"
  }
 },
 "nbformat": 4,
 "nbformat_minor": 5
}
