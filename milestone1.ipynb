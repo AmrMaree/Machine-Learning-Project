{
 "cells": [
  {
   "cell_type": "code",
   "execution_count": 84,
   "id": "6a141e81",
   "metadata": {},
   "outputs": [],
   "source": [
    "import numpy as np\n",
    "import pandas as pd\n",
    "import matplotlib.pyplot as plt\n",
    "import seaborn as sns"
   ]
  },
  {
   "cell_type": "code",
   "execution_count": 85,
   "id": "d856efbd",
   "metadata": {},
   "outputs": [
    {
     "name": "stderr",
     "output_type": "stream",
     "text": [
      "C:\\Users\\yasse\\AppData\\Local\\Temp\\ipykernel_30592\\4063682341.py:1: DtypeWarning: Columns (0,2,7) have mixed types. Specify dtype option on import or set low_memory=False.\n",
      "  info_df = pd.read_csv('D:\\Amr\\Projects\\ML project\\Data - Reviews\\info_base_games.csv')\n"
     ]
    }
   ],
   "source": [
    "info_df = pd.read_csv('D:\\Amr\\Projects\\ML project\\Data - Reviews\\info_base_games.csv')\n",
    "gamalytic_df = pd.read_csv('D:\\Amr\\Projects\\ML project\\Data - Reviews\\gamalytic_steam_games.csv')\n",
    "dlcs_df = pd.read_csv('D:\\Amr\\Projects\\ML project\\Data - Reviews\\dlcs.csv')\n",
    "demos_df = pd.read_csv('D:\\Amr\\Projects\\ML project\\Data - Reviews\\demos.csv')"
   ]
  },
  {
   "cell_type": "code",
   "execution_count": 86,
   "id": "9f597813",
   "metadata": {},
   "outputs": [
    {
     "data": {
      "text/html": [
       "<div>\n",
       "<style scoped>\n",
       "    .dataframe tbody tr th:only-of-type {\n",
       "        vertical-align: middle;\n",
       "    }\n",
       "\n",
       "    .dataframe tbody tr th {\n",
       "        vertical-align: top;\n",
       "    }\n",
       "\n",
       "    .dataframe thead th {\n",
       "        text-align: right;\n",
       "    }\n",
       "</style>\n",
       "<table border=\"1\" class=\"dataframe\">\n",
       "  <thead>\n",
       "    <tr style=\"text-align: right;\">\n",
       "      <th></th>\n",
       "      <th>appid</th>\n",
       "      <th>name</th>\n",
       "      <th>metacritic</th>\n",
       "      <th>steam_achievements</th>\n",
       "      <th>steam_trading_cards</th>\n",
       "      <th>workshop_support</th>\n",
       "      <th>genres</th>\n",
       "      <th>achievements_total</th>\n",
       "      <th>release_date</th>\n",
       "      <th>supported_platforms</th>\n",
       "    </tr>\n",
       "  </thead>\n",
       "  <tbody>\n",
       "    <tr>\n",
       "      <th>0</th>\n",
       "      <td>2574000</td>\n",
       "      <td>Femboy Burgers</td>\n",
       "      <td>NaN</td>\n",
       "      <td>True</td>\n",
       "      <td>True</td>\n",
       "      <td>True</td>\n",
       "      <td>Casual, Indie</td>\n",
       "      <td>NaN</td>\n",
       "      <td>Oct 9, 2023</td>\n",
       "      <td>['windows', 'mac', 'linux']</td>\n",
       "    </tr>\n",
       "    <tr>\n",
       "      <th>1</th>\n",
       "      <td>2574120</td>\n",
       "      <td>PPA Pickleball Tour 2025</td>\n",
       "      <td>NaN</td>\n",
       "      <td>True</td>\n",
       "      <td>True</td>\n",
       "      <td>True</td>\n",
       "      <td>Indie, Simulation, Sports</td>\n",
       "      <td>18</td>\n",
       "      <td>Jul 16, 2024</td>\n",
       "      <td>['windows', 'mac', 'linux']</td>\n",
       "    </tr>\n",
       "    <tr>\n",
       "      <th>2</th>\n",
       "      <td>2573200</td>\n",
       "      <td>Squeaky Squad</td>\n",
       "      <td>NaN</td>\n",
       "      <td>True</td>\n",
       "      <td>True</td>\n",
       "      <td>True</td>\n",
       "      <td>Action, Adventure, Indie</td>\n",
       "      <td>27</td>\n",
       "      <td>Mar 29, 2024</td>\n",
       "      <td>['windows', 'mac', 'linux']</td>\n",
       "    </tr>\n",
       "    <tr>\n",
       "      <th>3</th>\n",
       "      <td>2573440</td>\n",
       "      <td>Paradox Metal</td>\n",
       "      <td>NaN</td>\n",
       "      <td>True</td>\n",
       "      <td>True</td>\n",
       "      <td>True</td>\n",
       "      <td>Action, Early Access</td>\n",
       "      <td>NaN</td>\n",
       "      <td>Coming soon</td>\n",
       "      <td>['windows', 'mac', 'linux']</td>\n",
       "    </tr>\n",
       "    <tr>\n",
       "      <th>4</th>\n",
       "      <td>2569520</td>\n",
       "      <td>Naturpark Lillebælt VR</td>\n",
       "      <td>NaN</td>\n",
       "      <td>True</td>\n",
       "      <td>True</td>\n",
       "      <td>True</td>\n",
       "      <td>Action, Adventure</td>\n",
       "      <td>NaN</td>\n",
       "      <td>Sep 18, 2023</td>\n",
       "      <td>['windows', 'mac', 'linux']</td>\n",
       "    </tr>\n",
       "  </tbody>\n",
       "</table>\n",
       "</div>"
      ],
      "text/plain": [
       "     appid                      name metacritic  steam_achievements  \\\n",
       "0  2574000            Femboy Burgers        NaN                True   \n",
       "1  2574120  PPA Pickleball Tour 2025        NaN                True   \n",
       "2  2573200             Squeaky Squad        NaN                True   \n",
       "3  2573440             Paradox Metal        NaN                True   \n",
       "4  2569520    Naturpark Lillebælt VR        NaN                True   \n",
       "\n",
       "   steam_trading_cards  workshop_support                     genres  \\\n",
       "0                 True              True              Casual, Indie   \n",
       "1                 True              True  Indie, Simulation, Sports   \n",
       "2                 True              True   Action, Adventure, Indie   \n",
       "3                 True              True       Action, Early Access   \n",
       "4                 True              True          Action, Adventure   \n",
       "\n",
       "  achievements_total  release_date          supported_platforms  \n",
       "0                NaN   Oct 9, 2023  ['windows', 'mac', 'linux']  \n",
       "1                 18  Jul 16, 2024  ['windows', 'mac', 'linux']  \n",
       "2                 27  Mar 29, 2024  ['windows', 'mac', 'linux']  \n",
       "3                NaN   Coming soon  ['windows', 'mac', 'linux']  \n",
       "4                NaN  Sep 18, 2023  ['windows', 'mac', 'linux']  "
      ]
     },
     "execution_count": 86,
     "metadata": {},
     "output_type": "execute_result"
    }
   ],
   "source": [
    "info_df.head()"
   ]
  },
  {
   "cell_type": "code",
   "execution_count": 87,
   "id": "b73d9638",
   "metadata": {},
   "outputs": [
    {
     "name": "stdout",
     "output_type": "stream",
     "text": [
      "<class 'pandas.core.frame.DataFrame'>\n",
      "RangeIndex: 99167 entries, 0 to 99166\n",
      "Data columns (total 10 columns):\n",
      " #   Column               Non-Null Count  Dtype \n",
      "---  ------               --------------  ----- \n",
      " 0   appid                99167 non-null  object\n",
      " 1   name                 99149 non-null  object\n",
      " 2   metacritic           3019 non-null   object\n",
      " 3   steam_achievements   99167 non-null  bool  \n",
      " 4   steam_trading_cards  99167 non-null  bool  \n",
      " 5   workshop_support     99167 non-null  bool  \n",
      " 6   genres               94389 non-null  object\n",
      " 7   achievements_total   38115 non-null  object\n",
      " 8   release_date         98861 non-null  object\n",
      " 9   supported_platforms  99167 non-null  object\n",
      "dtypes: bool(3), object(7)\n",
      "memory usage: 5.6+ MB\n"
     ]
    }
   ],
   "source": [
    "info_df.info()"
   ]
  },
  {
   "cell_type": "code",
   "execution_count": 88,
   "id": "0eaabfba",
   "metadata": {},
   "outputs": [
    {
     "data": {
      "text/html": [
       "<div>\n",
       "<style scoped>\n",
       "    .dataframe tbody tr th:only-of-type {\n",
       "        vertical-align: middle;\n",
       "    }\n",
       "\n",
       "    .dataframe tbody tr th {\n",
       "        vertical-align: top;\n",
       "    }\n",
       "\n",
       "    .dataframe thead th {\n",
       "        text-align: right;\n",
       "    }\n",
       "</style>\n",
       "<table border=\"1\" class=\"dataframe\">\n",
       "  <thead>\n",
       "    <tr style=\"text-align: right;\">\n",
       "      <th></th>\n",
       "      <th>steamId</th>\n",
       "      <th>price</th>\n",
       "      <th>copiesSold</th>\n",
       "      <th>publisherClass</th>\n",
       "      <th>reviewScore</th>\n",
       "      <th>aiContent</th>\n",
       "    </tr>\n",
       "  </thead>\n",
       "  <tbody>\n",
       "    <tr>\n",
       "      <th>0</th>\n",
       "      <td>730</td>\n",
       "      <td>0.0</td>\n",
       "      <td>302158048</td>\n",
       "      <td>AAA</td>\n",
       "      <td>87</td>\n",
       "      <td>NaN</td>\n",
       "    </tr>\n",
       "    <tr>\n",
       "      <th>1</th>\n",
       "      <td>570</td>\n",
       "      <td>0.0</td>\n",
       "      <td>212896574</td>\n",
       "      <td>AAA</td>\n",
       "      <td>82</td>\n",
       "      <td>NaN</td>\n",
       "    </tr>\n",
       "    <tr>\n",
       "      <th>2</th>\n",
       "      <td>578080</td>\n",
       "      <td>0.0</td>\n",
       "      <td>161971233</td>\n",
       "      <td>AAA</td>\n",
       "      <td>59</td>\n",
       "      <td>NaN</td>\n",
       "    </tr>\n",
       "    <tr>\n",
       "      <th>3</th>\n",
       "      <td>440</td>\n",
       "      <td>0.0</td>\n",
       "      <td>99060457</td>\n",
       "      <td>AAA</td>\n",
       "      <td>90</td>\n",
       "      <td>NaN</td>\n",
       "    </tr>\n",
       "    <tr>\n",
       "      <th>4</th>\n",
       "      <td>1172470</td>\n",
       "      <td>0.0</td>\n",
       "      <td>67554185</td>\n",
       "      <td>AAA</td>\n",
       "      <td>67</td>\n",
       "      <td>NaN</td>\n",
       "    </tr>\n",
       "  </tbody>\n",
       "</table>\n",
       "</div>"
      ],
      "text/plain": [
       "   steamId  price  copiesSold publisherClass  reviewScore  aiContent\n",
       "0      730    0.0   302158048            AAA           87        NaN\n",
       "1      570    0.0   212896574            AAA           82        NaN\n",
       "2   578080    0.0   161971233            AAA           59        NaN\n",
       "3      440    0.0    99060457            AAA           90        NaN\n",
       "4  1172470    0.0    67554185            AAA           67        NaN"
      ]
     },
     "execution_count": 88,
     "metadata": {},
     "output_type": "execute_result"
    }
   ],
   "source": [
    "gamalytic_df.head()"
   ]
  },
  {
   "cell_type": "code",
   "execution_count": 89,
   "id": "a0f8d44e",
   "metadata": {},
   "outputs": [
    {
     "name": "stdout",
     "output_type": "stream",
     "text": [
      "<class 'pandas.core.frame.DataFrame'>\n",
      "RangeIndex: 93338 entries, 0 to 93337\n",
      "Data columns (total 6 columns):\n",
      " #   Column          Non-Null Count  Dtype  \n",
      "---  ------          --------------  -----  \n",
      " 0   steamId         93338 non-null  int64  \n",
      " 1   price           93338 non-null  float64\n",
      " 2   copiesSold      93338 non-null  int64  \n",
      " 3   publisherClass  93338 non-null  object \n",
      " 4   reviewScore     93338 non-null  int64  \n",
      " 5   aiContent       0 non-null      float64\n",
      "dtypes: float64(2), int64(3), object(1)\n",
      "memory usage: 4.3+ MB\n"
     ]
    }
   ],
   "source": [
    "gamalytic_df.info()"
   ]
  },
  {
   "cell_type": "code",
   "execution_count": 90,
   "id": "a55a9720",
   "metadata": {},
   "outputs": [
    {
     "data": {
      "text/html": [
       "<div>\n",
       "<style scoped>\n",
       "    .dataframe tbody tr th:only-of-type {\n",
       "        vertical-align: middle;\n",
       "    }\n",
       "\n",
       "    .dataframe tbody tr th {\n",
       "        vertical-align: top;\n",
       "    }\n",
       "\n",
       "    .dataframe thead th {\n",
       "        text-align: right;\n",
       "    }\n",
       "</style>\n",
       "<table border=\"1\" class=\"dataframe\">\n",
       "  <thead>\n",
       "    <tr style=\"text-align: right;\">\n",
       "      <th></th>\n",
       "      <th>base_appid</th>\n",
       "      <th>dlc_appid</th>\n",
       "      <th>name</th>\n",
       "    </tr>\n",
       "  </thead>\n",
       "  <tbody>\n",
       "    <tr>\n",
       "      <th>0</th>\n",
       "      <td>1786750</td>\n",
       "      <td>2568660</td>\n",
       "      <td>家出王女 - 全年齢版ストーリー&amp;グラフィック追加 DLC</td>\n",
       "    </tr>\n",
       "    <tr>\n",
       "      <th>1</th>\n",
       "      <td>1981700</td>\n",
       "      <td>2563730</td>\n",
       "      <td>Jacob's Quest - Voyage</td>\n",
       "    </tr>\n",
       "    <tr>\n",
       "      <th>2</th>\n",
       "      <td>2009450</td>\n",
       "      <td>2552980</td>\n",
       "      <td>Invector: Rhythm Galaxy - Latin Power Song Pack</td>\n",
       "    </tr>\n",
       "    <tr>\n",
       "      <th>3</th>\n",
       "      <td>1133420</td>\n",
       "      <td>2550750</td>\n",
       "      <td>Hero or Villain: Genesis — Supercharged!</td>\n",
       "    </tr>\n",
       "    <tr>\n",
       "      <th>4</th>\n",
       "      <td>2533950</td>\n",
       "      <td>2551000</td>\n",
       "      <td>Hot And Lovely ：Uniform - adult patch</td>\n",
       "    </tr>\n",
       "  </tbody>\n",
       "</table>\n",
       "</div>"
      ],
      "text/plain": [
       "  base_appid dlc_appid                                             name\n",
       "0    1786750   2568660                    家出王女 - 全年齢版ストーリー&グラフィック追加 DLC\n",
       "1    1981700   2563730                           Jacob's Quest - Voyage\n",
       "2    2009450   2552980  Invector: Rhythm Galaxy - Latin Power Song Pack\n",
       "3    1133420   2550750         Hero or Villain: Genesis — Supercharged!\n",
       "4    2533950   2551000            Hot And Lovely ：Uniform - adult patch"
      ]
     },
     "execution_count": 90,
     "metadata": {},
     "output_type": "execute_result"
    }
   ],
   "source": [
    "dlcs_df.head()"
   ]
  },
  {
   "cell_type": "code",
   "execution_count": 91,
   "id": "55e42e91",
   "metadata": {},
   "outputs": [
    {
     "name": "stdout",
     "output_type": "stream",
     "text": [
      "<class 'pandas.core.frame.DataFrame'>\n",
      "RangeIndex: 5445 entries, 0 to 5444\n",
      "Data columns (total 3 columns):\n",
      " #   Column      Non-Null Count  Dtype \n",
      "---  ------      --------------  ----- \n",
      " 0   base_appid  5445 non-null   object\n",
      " 1   dlc_appid   5445 non-null   object\n",
      " 2   name        5445 non-null   object\n",
      "dtypes: object(3)\n",
      "memory usage: 127.7+ KB\n"
     ]
    }
   ],
   "source": [
    "dlcs_df.info()"
   ]
  },
  {
   "cell_type": "code",
   "execution_count": 92,
   "id": "1afa2299",
   "metadata": {},
   "outputs": [
    {
     "data": {
      "text/html": [
       "<div>\n",
       "<style scoped>\n",
       "    .dataframe tbody tr th:only-of-type {\n",
       "        vertical-align: middle;\n",
       "    }\n",
       "\n",
       "    .dataframe tbody tr th {\n",
       "        vertical-align: top;\n",
       "    }\n",
       "\n",
       "    .dataframe thead th {\n",
       "        text-align: right;\n",
       "    }\n",
       "</style>\n",
       "<table border=\"1\" class=\"dataframe\">\n",
       "  <thead>\n",
       "    <tr style=\"text-align: right;\">\n",
       "      <th></th>\n",
       "      <th>Unnamed: 0</th>\n",
       "      <th>full_game_appid</th>\n",
       "      <th>demo_appid</th>\n",
       "      <th>name</th>\n",
       "    </tr>\n",
       "  </thead>\n",
       "  <tbody>\n",
       "    <tr>\n",
       "      <th>0</th>\n",
       "      <td>0</td>\n",
       "      <td>2214650</td>\n",
       "      <td>2573370</td>\n",
       "      <td>Rolando Deluxe Demo</td>\n",
       "    </tr>\n",
       "    <tr>\n",
       "      <th>1</th>\n",
       "      <td>1</td>\n",
       "      <td>1439980</td>\n",
       "      <td>2573460</td>\n",
       "      <td>Outrunner: Neon Nights Demo</td>\n",
       "    </tr>\n",
       "    <tr>\n",
       "      <th>2</th>\n",
       "      <td>2</td>\n",
       "      <td>2412240</td>\n",
       "      <td>2572840</td>\n",
       "      <td>Bubble Ghost Remake Demo</td>\n",
       "    </tr>\n",
       "    <tr>\n",
       "      <th>3</th>\n",
       "      <td>3</td>\n",
       "      <td>2448830</td>\n",
       "      <td>2572240</td>\n",
       "      <td>Time Handlers Demo</td>\n",
       "    </tr>\n",
       "    <tr>\n",
       "      <th>4</th>\n",
       "      <td>4</td>\n",
       "      <td>2379590</td>\n",
       "      <td>2570800</td>\n",
       "      <td>Hope's Final Defense Demo</td>\n",
       "    </tr>\n",
       "  </tbody>\n",
       "</table>\n",
       "</div>"
      ],
      "text/plain": [
       "   Unnamed: 0 full_game_appid demo_appid                         name\n",
       "0           0         2214650    2573370          Rolando Deluxe Demo\n",
       "1           1         1439980    2573460  Outrunner: Neon Nights Demo\n",
       "2           2         2412240    2572840     Bubble Ghost Remake Demo\n",
       "3           3         2448830    2572240           Time Handlers Demo\n",
       "4           4         2379590    2570800    Hope's Final Defense Demo"
      ]
     },
     "execution_count": 92,
     "metadata": {},
     "output_type": "execute_result"
    }
   ],
   "source": [
    "demos_df.head()"
   ]
  },
  {
   "cell_type": "code",
   "execution_count": 93,
   "id": "28aba7e1",
   "metadata": {},
   "outputs": [
    {
     "name": "stdout",
     "output_type": "stream",
     "text": [
      "<class 'pandas.core.frame.DataFrame'>\n",
      "RangeIndex: 15449 entries, 0 to 15448\n",
      "Data columns (total 4 columns):\n",
      " #   Column           Non-Null Count  Dtype \n",
      "---  ------           --------------  ----- \n",
      " 0   Unnamed: 0       15449 non-null  int64 \n",
      " 1   full_game_appid  15449 non-null  object\n",
      " 2   demo_appid       15449 non-null  object\n",
      " 3   name             15448 non-null  object\n",
      "dtypes: int64(1), object(3)\n",
      "memory usage: 482.9+ KB\n"
     ]
    }
   ],
   "source": [
    "demos_df.info()"
   ]
  },
  {
   "cell_type": "code",
   "execution_count": 94,
   "id": "b049fd6e",
   "metadata": {},
   "outputs": [],
   "source": [
    "info_df.rename(columns={'appid': 'id'}, inplace=True)\n",
    "gamalytic_df.rename(columns={'steamId': 'id'}, inplace=True)\n",
    "dlcs_df.rename(columns={'base_appid': 'id'}, inplace=True)\n",
    "demos_df.rename(columns={'full_game_appid': 'id'}, inplace=True)"
   ]
  },
  {
   "cell_type": "code",
   "execution_count": null,
   "id": "6f9ff868",
   "metadata": {},
   "outputs": [],
   "source": [
    "# Merging on game title or a common ID\n",
    "merged_df = pd.merge(info_df, gamalytic_df, on='id', how='outer')\n",
    "merged_df = pd.merge(merged_df, dlcs_df, on=['id','name'], how='outer')\n",
    "merged_df = pd.merge(merged_df, demos_df,on=['id','name'], how='outer')"
   ]
  },
  {
   "cell_type": "code",
   "execution_count": 96,
   "id": "08ff15c2",
   "metadata": {},
   "outputs": [
    {
     "name": "stdout",
     "output_type": "stream",
     "text": [
      "<class 'pandas.core.frame.DataFrame'>\n",
      "RangeIndex: 189675 entries, 0 to 189674\n",
      "Data columns (total 18 columns):\n",
      " #   Column               Non-Null Count   Dtype  \n",
      "---  ------               --------------   -----  \n",
      " 0   id                   189675 non-null  object \n",
      " 1   name                 120009 non-null  object \n",
      " 2   metacritic           3019 non-null    object \n",
      " 3   steam_achievements   99167 non-null   object \n",
      " 4   steam_trading_cards  99167 non-null   object \n",
      " 5   workshop_support     99167 non-null   object \n",
      " 6   genres               94389 non-null   object \n",
      " 7   achievements_total   38115 non-null   object \n",
      " 8   release_date         98861 non-null   object \n",
      " 9   supported_platforms  99167 non-null   object \n",
      " 10  price                93338 non-null   float64\n",
      " 11  copiesSold           93338 non-null   float64\n",
      " 12  publisherClass       93338 non-null   object \n",
      " 13  reviewScore          93338 non-null   float64\n",
      " 14  aiContent            0 non-null       float64\n",
      " 15  dlc_appid            5445 non-null    object \n",
      " 16  Unnamed: 0           15449 non-null   float64\n",
      " 17  demo_appid           15449 non-null   object \n",
      "dtypes: float64(5), object(13)\n",
      "memory usage: 26.0+ MB\n"
     ]
    }
   ],
   "source": [
    "merged_df.info()"
   ]
  },
  {
   "cell_type": "code",
   "execution_count": 98,
   "id": "98ce7a53",
   "metadata": {},
   "outputs": [
    {
     "data": {
      "text/plain": [
       "id                          0\n",
       "name                    69666\n",
       "metacritic             186656\n",
       "steam_achievements      90508\n",
       "steam_trading_cards     90508\n",
       "workshop_support        90508\n",
       "genres                  95286\n",
       "achievements_total     151560\n",
       "release_date            90814\n",
       "supported_platforms     90508\n",
       "price                   96337\n",
       "copiesSold              96337\n",
       "publisherClass          96337\n",
       "reviewScore             96337\n",
       "aiContent              189675\n",
       "dlc_appid              184230\n",
       "Unnamed: 0             174226\n",
       "demo_appid             174226\n",
       "dtype: int64"
      ]
     },
     "execution_count": 98,
     "metadata": {},
     "output_type": "execute_result"
    }
   ],
   "source": [
    "merged_df.isnull().sum()"
   ]
  },
  {
   "cell_type": "code",
   "execution_count": 99,
   "id": "8dfb2077",
   "metadata": {},
   "outputs": [],
   "source": [
    "merged_df.drop(columns=['Unnamed: 0'], inplace=True)"
   ]
  },
  {
   "cell_type": "code",
   "execution_count": 102,
   "id": "02c7352e",
   "metadata": {},
   "outputs": [
    {
     "name": "stdout",
     "output_type": "stream",
     "text": [
      "<class 'pandas.core.frame.DataFrame'>\n",
      "RangeIndex: 189675 entries, 0 to 189674\n",
      "Data columns (total 17 columns):\n",
      " #   Column               Non-Null Count   Dtype  \n",
      "---  ------               --------------   -----  \n",
      " 0   id                   189675 non-null  object \n",
      " 1   name                 120009 non-null  object \n",
      " 2   metacritic           3019 non-null    object \n",
      " 3   steam_achievements   99167 non-null   object \n",
      " 4   steam_trading_cards  99167 non-null   object \n",
      " 5   workshop_support     99167 non-null   object \n",
      " 6   genres               94389 non-null   object \n",
      " 7   achievements_total   38115 non-null   object \n",
      " 8   release_date         98861 non-null   object \n",
      " 9   supported_platforms  99167 non-null   object \n",
      " 10  price                93338 non-null   float64\n",
      " 11  copiesSold           93338 non-null   float64\n",
      " 12  publisherClass       93338 non-null   object \n",
      " 13  reviewScore          93338 non-null   float64\n",
      " 14  aiContent            0 non-null       float64\n",
      " 15  dlc_appid            5445 non-null    object \n",
      " 16  demo_appid           15449 non-null   object \n",
      "dtypes: float64(4), object(13)\n",
      "memory usage: 24.6+ MB\n"
     ]
    }
   ],
   "source": [
    "merged_df.info()"
   ]
  },
  {
   "cell_type": "code",
   "execution_count": null,
   "id": "f2c9e057",
   "metadata": {},
   "outputs": [],
   "source": [
    "merged_df.to_csv('final_merged_data.csv', index=False)"
   ]
  }
 ],
 "metadata": {
  "kernelspec": {
   "display_name": "venv",
   "language": "python",
   "name": "python3"
  },
  "language_info": {
   "codemirror_mode": {
    "name": "ipython",
    "version": 3
   },
   "file_extension": ".py",
   "mimetype": "text/x-python",
   "name": "python",
   "nbconvert_exporter": "python",
   "pygments_lexer": "ipython3",
   "version": "3.11.2"
  }
 },
 "nbformat": 4,
 "nbformat_minor": 5
}
