{
 "cells": [
  {
   "cell_type": "markdown",
   "id": "dea4fb01",
   "metadata": {},
   "source": [
    "# **Imports**\n"
   ]
  },
  {
   "cell_type": "code",
   "execution_count": null,
   "id": "555bc376",
   "metadata": {},
   "outputs": [
    {
     "ename": "ModuleNotFoundError",
     "evalue": "No module named 'sklearn'",
     "output_type": "error",
     "traceback": [
      "\u001b[31m---------------------------------------------------------------------------\u001b[39m",
      "\u001b[31mModuleNotFoundError\u001b[39m                       Traceback (most recent call last)",
      "\u001b[36mCell\u001b[39m\u001b[36m \u001b[39m\u001b[32mIn[6]\u001b[39m\u001b[32m, line 5\u001b[39m\n\u001b[32m      3\u001b[39m \u001b[38;5;28;01mimport\u001b[39;00m\u001b[38;5;250m \u001b[39m\u001b[34;01mmatplotlib\u001b[39;00m\u001b[34;01m.\u001b[39;00m\u001b[34;01mpyplot\u001b[39;00m\u001b[38;5;250m \u001b[39m\u001b[38;5;28;01mas\u001b[39;00m\u001b[38;5;250m \u001b[39m\u001b[34;01mplt\u001b[39;00m\n\u001b[32m      4\u001b[39m \u001b[38;5;28;01mimport\u001b[39;00m\u001b[38;5;250m \u001b[39m\u001b[34;01mseaborn\u001b[39;00m\u001b[38;5;250m \u001b[39m\u001b[38;5;28;01mas\u001b[39;00m\u001b[38;5;250m \u001b[39m\u001b[34;01msns\u001b[39;00m\n\u001b[32m----> \u001b[39m\u001b[32m5\u001b[39m \u001b[38;5;28;01mfrom\u001b[39;00m\u001b[38;5;250m \u001b[39m\u001b[34;01msklearn\u001b[39;00m\u001b[34;01m.\u001b[39;00m\u001b[34;01mmodel_selection\u001b[39;00m\u001b[38;5;250m \u001b[39m\u001b[38;5;28;01mimport\u001b[39;00m train_test_split\n\u001b[32m      6\u001b[39m \u001b[38;5;28;01mfrom\u001b[39;00m\u001b[38;5;250m \u001b[39m\u001b[34;01msklearn\u001b[39;00m\u001b[34;01m.\u001b[39;00m\u001b[34;01mpreprocessing\u001b[39;00m\u001b[38;5;250m \u001b[39m\u001b[38;5;28;01mimport\u001b[39;00m LabelEncoder\n\u001b[32m      7\u001b[39m \u001b[38;5;28;01mimport\u001b[39;00m\u001b[38;5;250m \u001b[39m\u001b[34;01mxgboost\u001b[39;00m\u001b[38;5;250m \u001b[39m\u001b[38;5;28;01mas\u001b[39;00m\u001b[38;5;250m \u001b[39m\u001b[34;01mxgb\u001b[39;00m\n",
      "\u001b[31mModuleNotFoundError\u001b[39m: No module named 'sklearn'"
     ]
    }
   ],
   "source": [
    "import numpy as np\n",
    "import pandas as pd\n",
    "import matplotlib.pyplot as plt\n",
    "import seaborn as sns\n",
    "from sklearn.model_selection import train_test_split\n",
    "from sklearn.preprocessing import LabelEncoder,StandardScaler\n",
    "import xgboost as xgb\n",
    "import lightgbm as lgb\n",
    "from sklearn.metrics import mean_squared_error\n"
   ]
  },
  {
   "cell_type": "markdown",
   "id": "985157b3",
   "metadata": {},
   "source": [
    "# **Data Inspecting**"
   ]
  },
  {
   "cell_type": "markdown",
   "id": "722a6a09",
   "metadata": {},
   "source": [
    "### Read Data "
   ]
  },
  {
   "cell_type": "code",
   "execution_count": null,
   "id": "fc246cdb",
   "metadata": {},
   "outputs": [],
   "source": [
    "info_df = pd.read_csv('info_base_games.csv')\n",
    "gamalytic_df = pd.read_csv('gamalytic_steam_games.csv')\n",
    "dlcs_df = pd.read_csv('dlcs.csv')\n",
    "demos_df = pd.read_csv('demos.csv')"
   ]
  },
  {
   "cell_type": "markdown",
   "id": "672d1e06",
   "metadata": {},
   "source": [
    "### Renaming the id columns (so i can easliy merge the columns)\n"
   ]
  },
  {
   "cell_type": "code",
   "execution_count": null,
   "id": "2e62efa7",
   "metadata": {},
   "outputs": [],
   "source": [
    "info_df.rename(columns={'appid': 'id'}, inplace=True)\n",
    "gamalytic_df.rename(columns={'steamId': 'id'}, inplace=True)\n",
    "dlcs_df.rename(columns={'base_appid': 'id'}, inplace=True)\n",
    "demos_df.rename(columns={'full_game_appid': 'id'}, inplace=True)"
   ]
  },
  {
   "cell_type": "markdown",
   "id": "68dbb5c5",
   "metadata": {},
   "source": [
    "### adjusting the id data type"
   ]
  },
  {
   "cell_type": "code",
   "execution_count": null,
   "id": "2976151b",
   "metadata": {},
   "outputs": [],
   "source": [
    "info_df['id'] = info_df['id'].astype(str)\n",
    "gamalytic_df['id'] = gamalytic_df['id'].astype(str)\n",
    "dlcs_df['id'] = dlcs_df['id'].astype(str)\n",
    "demos_df['id'] = demos_df['id'].astype(str)"
   ]
  },
  {
   "cell_type": "markdown",
   "id": "10f13bd4",
   "metadata": {},
   "source": [
    "### Merging the datasets on the id column\n"
   ]
  },
  {
   "cell_type": "code",
   "execution_count": null,
   "id": "d8d8d348",
   "metadata": {},
   "outputs": [],
   "source": [
    "# Merge info_df and gamalytic_df\n",
    "merged_df = pd.merge(info_df, gamalytic_df, on='id', how='inner')\n",
    "\n",
    "# Aggregate DLCs (count per game)\n",
    "dlc_count = dlcs_df.groupby('id').size().reset_index(name='dlc_count')\n",
    "\n",
    "merged_df = pd.merge(merged_df, dlc_count, on='id', how='left')\n",
    "merged_df['dlc_count'] = merged_df['dlc_count'].fillna(0)\n",
    "\n",
    "# Add demo presence\n",
    "merged_df['hasDemo'] = merged_df['id'].isin(demos_df['id']).astype(int)"
   ]
  }
 ],
 "metadata": {
  "kernelspec": {
   "display_name": "venv",
   "language": "python",
   "name": "python3"
  },
  "language_info": {
   "codemirror_mode": {
    "name": "ipython",
    "version": 3
   },
   "file_extension": ".py",
   "mimetype": "text/x-python",
   "name": "python",
   "nbconvert_exporter": "python",
   "pygments_lexer": "ipython3",
   "version": "3.11.2"
  }
 },
 "nbformat": 4,
 "nbformat_minor": 5
}
