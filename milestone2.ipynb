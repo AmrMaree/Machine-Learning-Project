{
 "cells": [
  {
   "cell_type": "markdown",
   "id": "dea4fb01",
   "metadata": {},
   "source": [
    "# **Imports**\n"
   ]
  },
  {
   "cell_type": "code",
   "execution_count": 250,
   "id": "555bc376",
   "metadata": {},
   "outputs": [],
   "source": [
    "import numpy as np\n",
    "import pandas as pd\n",
    "import matplotlib.pyplot as plt\n",
    "import seaborn as sns\n",
    "from sklearn.model_selection import train_test_split\n",
    "from sklearn.feature_selection import SelectKBest, chi2\n",
    "from sklearn.preprocessing import LabelEncoder,StandardScaler,MultiLabelBinarizer\n",
    "from sklearn.linear_model import LogisticRegression\n",
    "import xgboost as xgb\n",
    "import lightgbm as lgb\n",
    "from sklearn.metrics import accuracy_score,classification_report"
   ]
  },
  {
   "cell_type": "markdown",
   "id": "985157b3",
   "metadata": {},
   "source": [
    "# **Data Inspecting**"
   ]
  },
  {
   "cell_type": "markdown",
   "id": "722a6a09",
   "metadata": {},
   "source": [
    "### Read Data "
   ]
  },
  {
   "cell_type": "code",
   "execution_count": 251,
   "id": "fc246cdb",
   "metadata": {},
   "outputs": [
    {
     "name": "stderr",
     "output_type": "stream",
     "text": [
      "C:\\Users\\abdel\\AppData\\Local\\Temp\\ipykernel_31368\\1591714977.py:1: DtypeWarning: Columns (0,2,7) have mixed types. Specify dtype option on import or set low_memory=False.\n",
      "  info_df = pd.read_csv('Classification_Dataset/info_base_games.csv')\n"
     ]
    }
   ],
   "source": [
    "info_df = pd.read_csv('Classification_Dataset/info_base_games.csv')\n",
    "gamalytic_df = pd.read_csv('Classification_Dataset/ms2_gamalytic_steam_games.csv')\n",
    "dlcs_df = pd.read_csv('Classification_Dataset/dlcs.csv')\n",
    "demos_df = pd.read_csv('Classification_Dataset/demos.csv')"
   ]
  },
  {
   "cell_type": "markdown",
   "id": "672d1e06",
   "metadata": {},
   "source": [
    "### Renaming the id columns (so i can easliy merge the columns)\n"
   ]
  },
  {
   "cell_type": "code",
   "execution_count": 252,
   "id": "2e62efa7",
   "metadata": {},
   "outputs": [],
   "source": [
    "info_df.rename(columns={'appid': 'id'}, inplace=True)\n",
    "gamalytic_df.rename(columns={'steamId': 'id'}, inplace=True)\n",
    "dlcs_df.rename(columns={'base_appid': 'id'}, inplace=True)\n",
    "demos_df.rename(columns={'full_game_appid': 'id'}, inplace=True)"
   ]
  },
  {
   "cell_type": "markdown",
   "id": "68dbb5c5",
   "metadata": {},
   "source": [
    "### adjusting the id data type"
   ]
  },
  {
   "cell_type": "code",
   "execution_count": 253,
   "id": "2976151b",
   "metadata": {},
   "outputs": [],
   "source": [
    "info_df['id'] = info_df['id'].astype(str)\n",
    "gamalytic_df['id'] = gamalytic_df['id'].astype(str)\n",
    "dlcs_df['id'] = dlcs_df['id'].astype(str)\n",
    "demos_df['id'] = demos_df['id'].astype(str)"
   ]
  },
  {
   "cell_type": "markdown",
   "id": "10f13bd4",
   "metadata": {},
   "source": [
    "### Merging the datasets on the id column\n"
   ]
  },
  {
   "cell_type": "code",
   "execution_count": 254,
   "id": "d8d8d348",
   "metadata": {},
   "outputs": [],
   "source": [
    "# Merge info_df and gamalytic_df\n",
    "merged_df = pd.merge(info_df, gamalytic_df, on='id', how='inner')\n",
    "\n",
    "# Aggregate DLCs (count per game)\n",
    "dlc_count = dlcs_df.groupby('id').size().reset_index(name='dlc_count')\n",
    "\n",
    "merged_df = pd.merge(merged_df, dlc_count, on='id', how='left')\n",
    "merged_df['dlc_count'] = merged_df['dlc_count'].fillna(0)\n",
    "\n",
    "# Add demo presence\n",
    "merged_df['hasDemo'] = merged_df['id'].isin(demos_df['id']).astype(int)"
   ]
  },
  {
   "cell_type": "code",
   "execution_count": 255,
   "id": "08bf42cf",
   "metadata": {},
   "outputs": [
    {
     "name": "stdout",
     "output_type": "stream",
     "text": [
      "<class 'pandas.core.frame.DataFrame'>\n",
      "RangeIndex: 69428 entries, 0 to 69427\n",
      "Data columns (total 17 columns):\n",
      " #   Column               Non-Null Count  Dtype  \n",
      "---  ------               --------------  -----  \n",
      " 0   id                   69428 non-null  object \n",
      " 1   name                 69428 non-null  object \n",
      " 2   metacritic           2933 non-null   object \n",
      " 3   steam_achievements   69428 non-null  bool   \n",
      " 4   steam_trading_cards  69428 non-null  bool   \n",
      " 5   workshop_support     69428 non-null  bool   \n",
      " 6   genres               69324 non-null  object \n",
      " 7   achievements_total   37295 non-null  object \n",
      " 8   release_date         69426 non-null  object \n",
      " 9   supported_platforms  69428 non-null  object \n",
      " 10  price                69428 non-null  float64\n",
      " 11  copiesSold           69428 non-null  int64  \n",
      " 12  publisherClass       69428 non-null  object \n",
      " 13  reviewScore          69428 non-null  object \n",
      " 14  aiContent            0 non-null      float64\n",
      " 15  dlc_count            69428 non-null  float64\n",
      " 16  hasDemo              69428 non-null  int32  \n",
      "dtypes: bool(3), float64(3), int32(1), int64(1), object(9)\n",
      "memory usage: 7.3+ MB\n"
     ]
    }
   ],
   "source": [
    "merged_df.info()"
   ]
  },
  {
   "cell_type": "code",
   "execution_count": 256,
   "id": "a688b7d2",
   "metadata": {},
   "outputs": [
    {
     "data": {
      "text/plain": [
       "id                         0\n",
       "name                       0\n",
       "metacritic             66495\n",
       "steam_achievements         0\n",
       "steam_trading_cards        0\n",
       "workshop_support           0\n",
       "genres                   104\n",
       "achievements_total     32133\n",
       "release_date               2\n",
       "supported_platforms        0\n",
       "price                      0\n",
       "copiesSold                 0\n",
       "publisherClass             0\n",
       "reviewScore                0\n",
       "aiContent              69428\n",
       "dlc_count                  0\n",
       "hasDemo                    0\n",
       "dtype: int64"
      ]
     },
     "execution_count": 256,
     "metadata": {},
     "output_type": "execute_result"
    }
   ],
   "source": [
    "merged_df.isnull().sum()"
   ]
  },
  {
   "cell_type": "code",
   "execution_count": 257,
   "id": "7e6b4df3",
   "metadata": {},
   "outputs": [],
   "source": [
    "df = merged_df.copy()"
   ]
  },
  {
   "cell_type": "markdown",
   "id": "6d2e31ed",
   "metadata": {},
   "source": [
    "# Splitting the data into training and testing sets"
   ]
  },
  {
   "cell_type": "code",
   "execution_count": 258,
   "id": "65d01ff4",
   "metadata": {},
   "outputs": [],
   "source": [
    "train_df, test_df = train_test_split(df, test_size=0.2, random_state=42)\n",
    "\n",
    "# Save to CSV files\n",
    "# train_df.to_csv('train.csv', index=False)\n",
    "# test_df.to_csv('test.csv', index=False)"
   ]
  },
  {
   "cell_type": "code",
   "execution_count": 259,
   "id": "94b0613b",
   "metadata": {},
   "outputs": [
    {
     "name": "stdout",
     "output_type": "stream",
     "text": [
      "<class 'pandas.core.frame.DataFrame'>\n",
      "Index: 55542 entries, 33136 to 15795\n",
      "Data columns (total 17 columns):\n",
      " #   Column               Non-Null Count  Dtype  \n",
      "---  ------               --------------  -----  \n",
      " 0   id                   55542 non-null  object \n",
      " 1   name                 55542 non-null  object \n",
      " 2   metacritic           2332 non-null   object \n",
      " 3   steam_achievements   55542 non-null  bool   \n",
      " 4   steam_trading_cards  55542 non-null  bool   \n",
      " 5   workshop_support     55542 non-null  bool   \n",
      " 6   genres               55456 non-null  object \n",
      " 7   achievements_total   29878 non-null  object \n",
      " 8   release_date         55541 non-null  object \n",
      " 9   supported_platforms  55542 non-null  object \n",
      " 10  price                55542 non-null  float64\n",
      " 11  copiesSold           55542 non-null  int64  \n",
      " 12  publisherClass       55542 non-null  object \n",
      " 13  reviewScore          55542 non-null  object \n",
      " 14  aiContent            0 non-null      float64\n",
      " 15  dlc_count            55542 non-null  float64\n",
      " 16  hasDemo              55542 non-null  int32  \n",
      "dtypes: bool(3), float64(3), int32(1), int64(1), object(9)\n",
      "memory usage: 6.3+ MB\n"
     ]
    }
   ],
   "source": [
    "train_df.info()"
   ]
  },
  {
   "cell_type": "markdown",
   "id": "6c3f4568",
   "metadata": {},
   "source": [
    "# Data wrangling \n"
   ]
  },
  {
   "cell_type": "code",
   "execution_count": 260,
   "id": "67a992f8",
   "metadata": {},
   "outputs": [],
   "source": [
    "train_df['metacritic'] = pd.to_numeric(train_df['metacritic'], errors='coerce').fillna(0)\n",
    "train_df['achievements_total'] = pd.to_numeric(train_df['achievements_total'], errors='coerce').fillna(0)\n",
    "train_df['genres'] = train_df['genres'].fillna('Unknown')\n",
    "train_df['release_date'] = train_df['release_date'].replace('Coming soon', pd.NA)\n",
    "train_df['release_date'] = pd.to_datetime(train_df['release_date'], errors='coerce')\n",
    "train_df['release_year'] = train_df['release_date'].dt.year.fillna(train_df['release_date'].dt.year.mode()[0])"
   ]
  },
  {
   "cell_type": "code",
   "execution_count": 261,
   "id": "c6e0b179",
   "metadata": {},
   "outputs": [
    {
     "data": {
      "text/plain": [
       "id                         0\n",
       "name                       0\n",
       "metacritic                 0\n",
       "steam_achievements         0\n",
       "steam_trading_cards        0\n",
       "workshop_support           0\n",
       "genres                     0\n",
       "achievements_total         0\n",
       "release_date             967\n",
       "supported_platforms        0\n",
       "price                      0\n",
       "copiesSold                 0\n",
       "publisherClass             0\n",
       "reviewScore                0\n",
       "aiContent              55542\n",
       "dlc_count                  0\n",
       "hasDemo                    0\n",
       "release_year               0\n",
       "dtype: int64"
      ]
     },
     "execution_count": 261,
     "metadata": {},
     "output_type": "execute_result"
    }
   ],
   "source": [
    "train_df.isnull().sum()"
   ]
  },
  {
   "cell_type": "code",
   "execution_count": 262,
   "id": "3f9112f0",
   "metadata": {},
   "outputs": [],
   "source": [
    "train_df.drop(columns=['aiContent'], inplace=True)"
   ]
  },
  {
   "cell_type": "code",
   "execution_count": 263,
   "id": "8bf97a0b",
   "metadata": {},
   "outputs": [
    {
     "data": {
      "text/plain": [
       "id                       0\n",
       "name                     0\n",
       "metacritic               0\n",
       "steam_achievements       0\n",
       "steam_trading_cards      0\n",
       "workshop_support         0\n",
       "genres                   0\n",
       "achievements_total       0\n",
       "release_date           967\n",
       "supported_platforms      0\n",
       "price                    0\n",
       "copiesSold               0\n",
       "publisherClass           0\n",
       "reviewScore              0\n",
       "dlc_count                0\n",
       "hasDemo                  0\n",
       "release_year             0\n",
       "dtype: int64"
      ]
     },
     "execution_count": 263,
     "metadata": {},
     "output_type": "execute_result"
    }
   ],
   "source": [
    "train_df.isnull().sum()"
   ]
  },
  {
   "cell_type": "code",
   "execution_count": 264,
   "id": "44aa6d2b",
   "metadata": {},
   "outputs": [
    {
     "name": "stdout",
     "output_type": "stream",
     "text": [
      "<class 'pandas.core.frame.DataFrame'>\n",
      "Index: 55542 entries, 33136 to 15795\n",
      "Data columns (total 17 columns):\n",
      " #   Column               Non-Null Count  Dtype         \n",
      "---  ------               --------------  -----         \n",
      " 0   id                   55542 non-null  object        \n",
      " 1   name                 55542 non-null  object        \n",
      " 2   metacritic           55542 non-null  float64       \n",
      " 3   steam_achievements   55542 non-null  bool          \n",
      " 4   steam_trading_cards  55542 non-null  bool          \n",
      " 5   workshop_support     55542 non-null  bool          \n",
      " 6   genres               55542 non-null  object        \n",
      " 7   achievements_total   55542 non-null  float64       \n",
      " 8   release_date         54575 non-null  datetime64[ns]\n",
      " 9   supported_platforms  55542 non-null  object        \n",
      " 10  price                55542 non-null  float64       \n",
      " 11  copiesSold           55542 non-null  int64         \n",
      " 12  publisherClass       55542 non-null  object        \n",
      " 13  reviewScore          55542 non-null  object        \n",
      " 14  dlc_count            55542 non-null  float64       \n",
      " 15  hasDemo              55542 non-null  int32         \n",
      " 16  release_year         55542 non-null  float64       \n",
      "dtypes: bool(3), datetime64[ns](1), float64(5), int32(1), int64(1), object(6)\n",
      "memory usage: 6.3+ MB\n"
     ]
    }
   ],
   "source": [
    "train_df.info()"
   ]
  },
  {
   "cell_type": "markdown",
   "id": "44006961",
   "metadata": {},
   "source": [
    "# Preprocessing"
   ]
  },
  {
   "cell_type": "code",
   "execution_count": 265,
   "id": "a4bb424d",
   "metadata": {},
   "outputs": [],
   "source": [
    "train_df = pd.get_dummies(train_df, columns=['publisherClass'], dtype=int)"
   ]
  },
  {
   "cell_type": "code",
   "execution_count": 266,
   "id": "30f01ade",
   "metadata": {},
   "outputs": [],
   "source": [
    "df['isWindows'] = df['supported_platforms'].apply(lambda x: 1 if 'windows' in str(x).lower() else 0)\n",
    "df['isMac'] = df['supported_platforms'].apply(lambda x: 1 if 'mac' in str(x).lower() else 0)\n",
    "df['isLinux'] = df['supported_platforms'].apply(lambda x: 1 if 'linux' in str(x).lower() else 0)"
   ]
  },
  {
   "cell_type": "code",
   "execution_count": 267,
   "id": "df5a9d49",
   "metadata": {},
   "outputs": [
    {
     "data": {
      "text/plain": [
       "reviewScore\n",
       "Positive                   21501\n",
       "Mixed                      11976\n",
       "Mostly Positive             7481\n",
       "Very Positive               6710\n",
       "Negative                    4877\n",
       "Mostly Negative             2348\n",
       "Overwhelmingly Positive      621\n",
       "Very Negative                 21\n",
       "Overwhelmingly Negative        7\n",
       "Name: count, dtype: int64"
      ]
     },
     "execution_count": 267,
     "metadata": {},
     "output_type": "execute_result"
    }
   ],
   "source": [
    "train_df.reviewScore.value_counts()"
   ]
  },
  {
   "cell_type": "code",
   "execution_count": 268,
   "id": "5808fa7b",
   "metadata": {},
   "outputs": [],
   "source": [
    "categorical_columns = ['steam_achievements', 'steam_trading_cards', 'workshop_support','reviewScore']\n",
    "encoder = LabelEncoder()\n",
    "for col in categorical_columns:\n",
    "    train_df[col] = encoder.fit_transform(train_df[col])"
   ]
  },
  {
   "cell_type": "code",
   "execution_count": 269,
   "id": "290133d3",
   "metadata": {},
   "outputs": [
    {
     "data": {
      "text/plain": [
       "count    5.554200e+04\n",
       "mean     8.402942e+04\n",
       "std      1.733042e+06\n",
       "min      0.000000e+00\n",
       "25%      6.000000e+01\n",
       "50%      4.540000e+02\n",
       "75%      3.956000e+03\n",
       "max      3.021580e+08\n",
       "Name: copiesSold, dtype: float64"
      ]
     },
     "execution_count": 269,
     "metadata": {},
     "output_type": "execute_result"
    }
   ],
   "source": [
    "train_df['copiesSold'].describe()"
   ]
  },
  {
   "cell_type": "code",
   "execution_count": 270,
   "id": "06125664",
   "metadata": {},
   "outputs": [
    {
     "name": "stdout",
     "output_type": "stream",
     "text": [
      "-5784.0\n",
      "9800.0\n"
     ]
    }
   ],
   "source": [
    "Q1 = train_df['copiesSold'].quantile(0.25)\n",
    "Q3 = train_df['copiesSold'].quantile(0.75)\n",
    "IQR = Q3 - Q1\n",
    "\n",
    "# Define outlier thresholds\n",
    "lower_bound = Q1 - 1.5 * IQR\n",
    "upper_bound = Q3 + 1.5 * IQR\n",
    "\n",
    "# Detect outliers\n",
    "outliers = train_df[(train_df['copiesSold'] < lower_bound) | (train_df['copiesSold'] > upper_bound)]\n",
    "print(lower_bound)\n",
    "print(upper_bound)"
   ]
  },
  {
   "cell_type": "code",
   "execution_count": 271,
   "id": "f3b9c0c1",
   "metadata": {},
   "outputs": [],
   "source": [
    "train_df.loc[train_df['copiesSold'] <= 0, 'copiesSold'] *= -1"
   ]
  },
  {
   "cell_type": "code",
   "execution_count": 272,
   "id": "f5c12638",
   "metadata": {},
   "outputs": [],
   "source": [
    "#train_df = (train_df[train_df['copiesSold'] <= 1])"
   ]
  },
  {
   "cell_type": "markdown",
   "id": "01dd0667",
   "metadata": {},
   "source": [
    "## Price outliers"
   ]
  },
  {
   "cell_type": "code",
   "execution_count": 273,
   "id": "26ffd015",
   "metadata": {},
   "outputs": [
    {
     "name": "stdout",
     "output_type": "stream",
     "text": [
      "-12.51\n",
      "23.490000000000002\n"
     ]
    }
   ],
   "source": [
    "Q1 = train_df['price'].quantile(0.25)\n",
    "Q3 = train_df['price'].quantile(0.75)\n",
    "IQR = Q3 - Q1\n",
    "\n",
    "# Define outlier thresholds\n",
    "lower_bound = Q1 - 1.5 * IQR\n",
    "upper_bound = Q3 + 1.5 * IQR\n",
    "\n",
    "# Detect outliers\n",
    "outliers = train_df[(train_df['price'] < lower_bound) | (train_df['price'] > upper_bound)]\n",
    "print(lower_bound)\n",
    "print(upper_bound)"
   ]
  },
  {
   "cell_type": "code",
   "execution_count": 274,
   "id": "6993a753",
   "metadata": {},
   "outputs": [],
   "source": [
    "train_df = train_df[(train_df['price'] <= 70) & (train_df['price'] > 0)]"
   ]
  },
  {
   "cell_type": "code",
   "execution_count": 275,
   "id": "6d423d0c",
   "metadata": {},
   "outputs": [],
   "source": [
    "train_df['genres_split'] = train_df['genres'].str.split(',')\n",
    "\n",
    "exploded_genres = train_df.explode('genres_split')\n",
    "exploded_genres['genres_split'] = exploded_genres['genres_split'].str.strip()\n",
    "genre_counts = exploded_genres['genres_split'].value_counts()\n",
    "\n",
    "\n",
    "rare_genres = genre_counts[genre_counts < 5000].index\n",
    "exploded_genres['genres_split'] = exploded_genres['genres_split'].apply(lambda x: 'Other_genres' if x in rare_genres else x)\n",
    "\n",
    "train_df['genres'] = (\n",
    "    exploded_genres\n",
    "    .groupby(exploded_genres.index)['genres_split']\n",
    "    .apply(lambda x: ', '.join(sorted(set(x))))\n",
    ")\n",
    "\n",
    "train_df.drop(columns=['genres_split'],inplace=True)\n",
    "train_df['genre_diversity'] = train_df['genres'].str.split(',').apply(len)"
   ]
  },
  {
   "cell_type": "code",
   "execution_count": 276,
   "id": "5c11b4c7",
   "metadata": {},
   "outputs": [],
   "source": [
    "train_df['genres_list'] = train_df['genres'].str.split(', ')\n",
    "\n",
    "mlb = MultiLabelBinarizer()\n",
    "\n",
    "genres_encoded = mlb.fit_transform(list(train_df['genres_list']))\n",
    "genres_df = pd.DataFrame(genres_encoded, columns=mlb.classes_,index=train_df.index)\n",
    "\n",
    "train_df = pd.concat([train_df, genres_df], axis=1)\n",
    "train_df.drop(columns=['genres_list','genres'], inplace=True)"
   ]
  },
  {
   "cell_type": "code",
   "execution_count": 277,
   "id": "a45fcfa6",
   "metadata": {},
   "outputs": [
    {
     "name": "stdout",
     "output_type": "stream",
     "text": [
      "<class 'pandas.core.frame.DataFrame'>\n",
      "Index: 47068 entries, 33136 to 860\n",
      "Data columns (total 28 columns):\n",
      " #   Column                   Non-Null Count  Dtype         \n",
      "---  ------                   --------------  -----         \n",
      " 0   id                       47068 non-null  object        \n",
      " 1   name                     47068 non-null  object        \n",
      " 2   metacritic               47068 non-null  float64       \n",
      " 3   steam_achievements       47068 non-null  int64         \n",
      " 4   steam_trading_cards      47068 non-null  int64         \n",
      " 5   workshop_support         47068 non-null  int64         \n",
      " 6   achievements_total       47068 non-null  float64       \n",
      " 7   release_date             46235 non-null  datetime64[ns]\n",
      " 8   supported_platforms      47068 non-null  object        \n",
      " 9   price                    47068 non-null  float64       \n",
      " 10  copiesSold               47068 non-null  int64         \n",
      " 11  reviewScore              47068 non-null  int32         \n",
      " 12  dlc_count                47068 non-null  float64       \n",
      " 13  hasDemo                  47068 non-null  int32         \n",
      " 14  release_year             47068 non-null  float64       \n",
      " 15  publisherClass_AA        47068 non-null  int32         \n",
      " 16  publisherClass_AAA       47068 non-null  int32         \n",
      " 17  publisherClass_Hobbyist  47068 non-null  int32         \n",
      " 18  publisherClass_Indie     47068 non-null  int32         \n",
      " 19  genre_diversity          47068 non-null  int64         \n",
      " 20  Action                   47068 non-null  int32         \n",
      " 21  Adventure                47068 non-null  int32         \n",
      " 22  Casual                   47068 non-null  int32         \n",
      " 23  Indie                    47068 non-null  int32         \n",
      " 24  Other_genres             47068 non-null  int32         \n",
      " 25  RPG                      47068 non-null  int32         \n",
      " 26  Simulation               47068 non-null  int32         \n",
      " 27  Strategy                 47068 non-null  int32         \n",
      "dtypes: datetime64[ns](1), float64(5), int32(14), int64(5), object(3)\n",
      "memory usage: 7.9+ MB\n"
     ]
    }
   ],
   "source": [
    "train_df.info()"
   ]
  },
  {
   "cell_type": "code",
   "execution_count": 278,
   "id": "15b0e726",
   "metadata": {},
   "outputs": [],
   "source": [
    "# scaler = StandardScaler()\n",
    "# train_df['copiesSold'] = scaler.fit_transform(train_df[['copiesSold']])"
   ]
  },
  {
   "cell_type": "code",
   "execution_count": 279,
   "id": "49bde22f",
   "metadata": {},
   "outputs": [],
   "source": [
    "columns = [\n",
    "    'steam_achievements', 'steam_trading_cards', \n",
    "    'workshop_support', 'achievements_total', \n",
    "    'dlc_count', 'hasDemo', 'release_year', \n",
    "    'publisherClass_AA', 'publisherClass_AAA', 'publisherClass_Hobbyist', \n",
    "    'publisherClass_Indie', 'genre_diversity', 'Action', 'Adventure', 'Casual', \n",
    "    'copiesSold','Indie', 'Other_genres', 'RPG', 'Simulation', \n",
    "    'Strategy'\n",
    "]"
   ]
  },
  {
   "cell_type": "code",
   "execution_count": 280,
   "id": "401ee43c",
   "metadata": {},
   "outputs": [
    {
     "name": "stdout",
     "output_type": "stream",
     "text": [
      "                    Feature    Chi2 Score\n",
      "15               copiesSold  3.475336e+10\n",
      "3        achievements_total  3.336902e+05\n",
      "9   publisherClass_Hobbyist  5.499679e+03\n",
      "10     publisherClass_Indie  4.078569e+03\n",
      "7         publisherClass_AA  2.740379e+03\n",
      "1       steam_trading_cards  2.061800e+03\n",
      "8        publisherClass_AAA  1.328631e+03\n",
      "4                 dlc_count  9.627238e+02\n",
      "0        steam_achievements  8.966288e+02\n",
      "19               Simulation  6.135459e+02\n",
      "5                   hasDemo  4.776628e+02\n",
      "2          workshop_support  4.579380e+02\n",
      "14                   Casual  3.447322e+02\n",
      "18                      RPG  2.737686e+02\n",
      "17             Other_genres  1.758857e+02\n",
      "11          genre_diversity  1.079242e+02\n",
      "16                    Indie  8.222606e+01\n",
      "13                Adventure  7.816500e+01\n",
      "20                 Strategy  6.504052e+01\n",
      "6              release_year  2.877341e+01\n",
      "12                   Action  1.172273e+01\n"
     ]
    }
   ],
   "source": [
    "X = train_df[columns]\n",
    "y = train_df['reviewScore']\n",
    "\n",
    "# Apply Chi-Squared\n",
    "chi2_selector = SelectKBest(score_func=chi2, k='all')\n",
    "chi2_selector.fit(X, y)\n",
    "feature_scores = pd.DataFrame({'Feature': columns, 'Chi2 Score': chi2_selector.scores_})\n",
    "print(feature_scores.sort_values(by='Chi2 Score', ascending=False))"
   ]
  },
  {
   "cell_type": "code",
   "execution_count": 281,
   "id": "e11fc0b4",
   "metadata": {},
   "outputs": [],
   "source": [
    "top_features = feature_scores.sort_values(by='Chi2 Score', ascending=False).head(10)['Feature'].tolist()\n",
    "X_selected = X[top_features]"
   ]
  },
  {
   "cell_type": "code",
   "execution_count": 282,
   "id": "860127fe",
   "metadata": {},
   "outputs": [
    {
     "data": {
      "text/plain": [
       "['copiesSold',\n",
       " 'achievements_total',\n",
       " 'publisherClass_Hobbyist',\n",
       " 'publisherClass_Indie',\n",
       " 'publisherClass_AA',\n",
       " 'steam_trading_cards',\n",
       " 'publisherClass_AAA',\n",
       " 'dlc_count',\n",
       " 'steam_achievements',\n",
       " 'Simulation']"
      ]
     },
     "execution_count": 282,
     "metadata": {},
     "output_type": "execute_result"
    }
   ],
   "source": [
    "top_features"
   ]
  },
  {
   "cell_type": "code",
   "execution_count": 283,
   "id": "1c756b6e",
   "metadata": {},
   "outputs": [],
   "source": [
    "X_chi2 = X.copy()\n",
    "for col in X_chi2.columns:\n",
    "    min_val = X_chi2[col].min()\n",
    "    if min_val < 0:\n",
    "        X_chi2[col] = X_chi2[col] - min_val\n",
    "\n",
    "selector = SelectKBest(score_func=chi2, k=10)\n",
    "X_selected = selector.fit_transform(X_chi2, y)"
   ]
  },
  {
   "cell_type": "code",
   "execution_count": 284,
   "id": "c4bedb96",
   "metadata": {},
   "outputs": [
    {
     "name": "stdout",
     "output_type": "stream",
     "text": [
      "CatBoost Accuracy: 0.5813681750584236\n",
      "              precision    recall  f1-score   support\n",
      "\n",
      "           0       0.47      0.27      0.34      1957\n",
      "           1       0.36      0.01      0.02       420\n",
      "           2       0.50      0.05      0.09      1223\n",
      "           3       0.69      0.66      0.68       982\n",
      "           4       0.00      0.00      0.00         2\n",
      "           5       0.46      0.12      0.19       111\n",
      "           6       0.60      0.88      0.71      3670\n",
      "           7       0.00      0.00      0.00         6\n",
      "           8       0.56      0.95      0.70      1043\n",
      "\n",
      "    accuracy                           0.58      9414\n",
      "   macro avg       0.40      0.33      0.30      9414\n",
      "weighted avg       0.55      0.58      0.51      9414\n",
      "\n"
     ]
    },
    {
     "name": "stderr",
     "output_type": "stream",
     "text": [
      "c:\\Users\\abdel\\AppData\\Local\\Programs\\Python\\Python312\\Lib\\site-packages\\sklearn\\metrics\\_classification.py:1509: UndefinedMetricWarning: Precision is ill-defined and being set to 0.0 in labels with no predicted samples. Use `zero_division` parameter to control this behavior.\n",
      "  _warn_prf(average, modifier, f\"{metric.capitalize()} is\", len(result))\n",
      "c:\\Users\\abdel\\AppData\\Local\\Programs\\Python\\Python312\\Lib\\site-packages\\sklearn\\metrics\\_classification.py:1509: UndefinedMetricWarning: Precision is ill-defined and being set to 0.0 in labels with no predicted samples. Use `zero_division` parameter to control this behavior.\n",
      "  _warn_prf(average, modifier, f\"{metric.capitalize()} is\", len(result))\n",
      "c:\\Users\\abdel\\AppData\\Local\\Programs\\Python\\Python312\\Lib\\site-packages\\sklearn\\metrics\\_classification.py:1509: UndefinedMetricWarning: Precision is ill-defined and being set to 0.0 in labels with no predicted samples. Use `zero_division` parameter to control this behavior.\n",
      "  _warn_prf(average, modifier, f\"{metric.capitalize()} is\", len(result))\n"
     ]
    }
   ],
   "source": [
    "from catboost import CatBoostClassifier\n",
    "X_train, X_test, y_train, y_test = train_test_split(X_selected, y, test_size=0.2, random_state=42)\n",
    "\n",
    "catboost_model = CatBoostClassifier(verbose=0)  # verbose=0 to suppress output\n",
    "catboost_model.fit(X_train, y_train)\n",
    "\n",
    "# Evaluation\n",
    "y_pred = catboost_model.predict(X_test)\n",
    "print(\"CatBoost Accuracy:\", accuracy_score(y_test, y_pred))\n",
    "print(classification_report(y_test, y_pred))"
   ]
  },
  {
   "cell_type": "code",
   "execution_count": null,
   "id": "40ed5636",
   "metadata": {},
   "outputs": [],
   "source": []
  }
 ],
 "metadata": {
  "kernelspec": {
   "display_name": "Python 3",
   "language": "python",
   "name": "python3"
  },
  "language_info": {
   "codemirror_mode": {
    "name": "ipython",
    "version": 3
   },
   "file_extension": ".py",
   "mimetype": "text/x-python",
   "name": "python",
   "nbconvert_exporter": "python",
   "pygments_lexer": "ipython3",
   "version": "3.12.6"
  }
 },
 "nbformat": 4,
 "nbformat_minor": 5
}
