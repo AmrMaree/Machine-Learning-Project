{
 "cells": [
  {
   "cell_type": "markdown",
   "id": "dea4fb01",
   "metadata": {},
   "source": [
    "# **Imports**\n"
   ]
  },
  {
   "cell_type": "code",
   "execution_count": 1300,
   "id": "555bc376",
   "metadata": {},
   "outputs": [],
   "source": [
    "import numpy as np\n",
    "import pandas as pd\n",
    "import matplotlib.pyplot as plt\n",
    "import seaborn as sns\n",
    "from sklearn.model_selection import train_test_split, GridSearchCV\n",
    "from sklearn.feature_selection import SelectKBest, chi2\n",
    "from sklearn.preprocessing import LabelEncoder,StandardScaler,MultiLabelBinarizer\n",
    "from sklearn.linear_model import LogisticRegression\n",
    "import xgboost as xgb\n",
    "import lightgbm as lgb\n",
    "from sklearn.metrics import accuracy_score,classification_report"
   ]
  },
  {
   "cell_type": "markdown",
   "id": "985157b3",
   "metadata": {},
   "source": [
    "# **Data Inspecting**"
   ]
  },
  {
   "cell_type": "markdown",
   "id": "722a6a09",
   "metadata": {},
   "source": [
    "### Read Data "
   ]
  },
  {
   "cell_type": "code",
   "execution_count": 1301,
   "id": "fc246cdb",
   "metadata": {},
   "outputs": [
    {
     "name": "stderr",
     "output_type": "stream",
     "text": [
      "C:\\Users\\abdel\\AppData\\Local\\Temp\\ipykernel_36808\\1591714977.py:1: DtypeWarning: Columns (0,2,7) have mixed types. Specify dtype option on import or set low_memory=False.\n",
      "  info_df = pd.read_csv('Classification_Dataset/info_base_games.csv')\n"
     ]
    }
   ],
   "source": [
    "info_df = pd.read_csv('Classification_Dataset/info_base_games.csv')\n",
    "gamalytic_df = pd.read_csv('Classification_Dataset/ms2_gamalytic_steam_games.csv')\n",
    "dlcs_df = pd.read_csv('Classification_Dataset/dlcs.csv')\n",
    "demos_df = pd.read_csv('Classification_Dataset/demos.csv')"
   ]
  },
  {
   "cell_type": "markdown",
   "id": "672d1e06",
   "metadata": {},
   "source": [
    "### Renaming the id columns (so i can easliy merge the columns)\n"
   ]
  },
  {
   "cell_type": "code",
   "execution_count": 1302,
   "id": "2e62efa7",
   "metadata": {},
   "outputs": [],
   "source": [
    "info_df.rename(columns={'appid': 'id'}, inplace=True)\n",
    "gamalytic_df.rename(columns={'steamId': 'id'}, inplace=True)\n",
    "dlcs_df.rename(columns={'base_appid': 'id'}, inplace=True)\n",
    "demos_df.rename(columns={'full_game_appid': 'id'}, inplace=True)"
   ]
  },
  {
   "cell_type": "markdown",
   "id": "68dbb5c5",
   "metadata": {},
   "source": [
    "### adjusting the id data type"
   ]
  },
  {
   "cell_type": "code",
   "execution_count": 1303,
   "id": "2976151b",
   "metadata": {},
   "outputs": [],
   "source": [
    "info_df['id'] = info_df['id'].astype(str)\n",
    "gamalytic_df['id'] = gamalytic_df['id'].astype(str)\n",
    "dlcs_df['id'] = dlcs_df['id'].astype(str)\n",
    "demos_df['id'] = demos_df['id'].astype(str)"
   ]
  },
  {
   "cell_type": "markdown",
   "id": "10f13bd4",
   "metadata": {},
   "source": [
    "### Merging the datasets on the id column\n"
   ]
  },
  {
   "cell_type": "code",
   "execution_count": 1304,
   "id": "d8d8d348",
   "metadata": {},
   "outputs": [],
   "source": [
    "# Merge info_df and gamalytic_df\n",
    "merged_df = pd.merge(info_df, gamalytic_df, on='id', how='inner')\n",
    "\n",
    "# Aggregate DLCs (count per game)\n",
    "dlc_count = dlcs_df.groupby('id').size().reset_index(name='dlc_count')\n",
    "\n",
    "merged_df = pd.merge(merged_df, dlc_count, on='id', how='left')\n",
    "merged_df['dlc_count'] = merged_df['dlc_count'].fillna(0)\n",
    "\n",
    "# Add demo presence\n",
    "merged_df['hasDemo'] = merged_df['id'].isin(demos_df['id']).astype(int)"
   ]
  },
  {
   "cell_type": "code",
   "execution_count": 1305,
   "id": "08bf42cf",
   "metadata": {},
   "outputs": [
    {
     "name": "stdout",
     "output_type": "stream",
     "text": [
      "<class 'pandas.core.frame.DataFrame'>\n",
      "RangeIndex: 69428 entries, 0 to 69427\n",
      "Data columns (total 17 columns):\n",
      " #   Column               Non-Null Count  Dtype  \n",
      "---  ------               --------------  -----  \n",
      " 0   id                   69428 non-null  object \n",
      " 1   name                 69428 non-null  object \n",
      " 2   metacritic           2933 non-null   object \n",
      " 3   steam_achievements   69428 non-null  bool   \n",
      " 4   steam_trading_cards  69428 non-null  bool   \n",
      " 5   workshop_support     69428 non-null  bool   \n",
      " 6   genres               69324 non-null  object \n",
      " 7   achievements_total   37295 non-null  object \n",
      " 8   release_date         69426 non-null  object \n",
      " 9   supported_platforms  69428 non-null  object \n",
      " 10  price                69428 non-null  float64\n",
      " 11  copiesSold           69428 non-null  int64  \n",
      " 12  publisherClass       69428 non-null  object \n",
      " 13  reviewScore          69428 non-null  object \n",
      " 14  aiContent            0 non-null      float64\n",
      " 15  dlc_count            69428 non-null  float64\n",
      " 16  hasDemo              69428 non-null  int32  \n",
      "dtypes: bool(3), float64(3), int32(1), int64(1), object(9)\n",
      "memory usage: 7.3+ MB\n"
     ]
    }
   ],
   "source": [
    "merged_df.info()"
   ]
  },
  {
   "cell_type": "code",
   "execution_count": 1306,
   "id": "a688b7d2",
   "metadata": {},
   "outputs": [
    {
     "data": {
      "text/plain": [
       "id                         0\n",
       "name                       0\n",
       "metacritic             66495\n",
       "steam_achievements         0\n",
       "steam_trading_cards        0\n",
       "workshop_support           0\n",
       "genres                   104\n",
       "achievements_total     32133\n",
       "release_date               2\n",
       "supported_platforms        0\n",
       "price                      0\n",
       "copiesSold                 0\n",
       "publisherClass             0\n",
       "reviewScore                0\n",
       "aiContent              69428\n",
       "dlc_count                  0\n",
       "hasDemo                    0\n",
       "dtype: int64"
      ]
     },
     "execution_count": 1306,
     "metadata": {},
     "output_type": "execute_result"
    }
   ],
   "source": [
    "merged_df.isnull().sum()"
   ]
  },
  {
   "cell_type": "code",
   "execution_count": 1307,
   "id": "7e6b4df3",
   "metadata": {},
   "outputs": [],
   "source": [
    "df = merged_df.copy()"
   ]
  },
  {
   "cell_type": "markdown",
   "id": "6d2e31ed",
   "metadata": {},
   "source": [
    "# Splitting the data into training and testing sets"
   ]
  },
  {
   "cell_type": "code",
   "execution_count": 1308,
   "id": "65d01ff4",
   "metadata": {},
   "outputs": [],
   "source": [
    "train_df, test_df = train_test_split(df, test_size=0.2, random_state=42)\n",
    "\n",
    "# Save to CSV files\n",
    "# train_df.to_csv('train.csv', index=False)\n",
    "# test_df.to_csv('test.csv', index=False)"
   ]
  },
  {
   "cell_type": "code",
   "execution_count": 1309,
   "id": "94b0613b",
   "metadata": {},
   "outputs": [
    {
     "name": "stdout",
     "output_type": "stream",
     "text": [
      "<class 'pandas.core.frame.DataFrame'>\n",
      "Index: 55542 entries, 33136 to 15795\n",
      "Data columns (total 17 columns):\n",
      " #   Column               Non-Null Count  Dtype  \n",
      "---  ------               --------------  -----  \n",
      " 0   id                   55542 non-null  object \n",
      " 1   name                 55542 non-null  object \n",
      " 2   metacritic           2332 non-null   object \n",
      " 3   steam_achievements   55542 non-null  bool   \n",
      " 4   steam_trading_cards  55542 non-null  bool   \n",
      " 5   workshop_support     55542 non-null  bool   \n",
      " 6   genres               55456 non-null  object \n",
      " 7   achievements_total   29878 non-null  object \n",
      " 8   release_date         55541 non-null  object \n",
      " 9   supported_platforms  55542 non-null  object \n",
      " 10  price                55542 non-null  float64\n",
      " 11  copiesSold           55542 non-null  int64  \n",
      " 12  publisherClass       55542 non-null  object \n",
      " 13  reviewScore          55542 non-null  object \n",
      " 14  aiContent            0 non-null      float64\n",
      " 15  dlc_count            55542 non-null  float64\n",
      " 16  hasDemo              55542 non-null  int32  \n",
      "dtypes: bool(3), float64(3), int32(1), int64(1), object(9)\n",
      "memory usage: 6.3+ MB\n"
     ]
    }
   ],
   "source": [
    "train_df.info()"
   ]
  },
  {
   "cell_type": "markdown",
   "id": "6c3f4568",
   "metadata": {},
   "source": [
    "# Data wrangling \n"
   ]
  },
  {
   "cell_type": "code",
   "execution_count": 1310,
   "id": "67a992f8",
   "metadata": {},
   "outputs": [],
   "source": [
    "train_df['metacritic'] = pd.to_numeric(train_df['metacritic'], errors='coerce').fillna(0)\n",
    "train_df['achievements_total'] = pd.to_numeric(train_df['achievements_total'], errors='coerce').fillna(0)\n",
    "train_df['genres'] = train_df['genres'].fillna('Unknown')\n",
    "train_df['release_date'] = train_df['release_date'].replace('Coming soon', pd.NA)\n",
    "train_df['release_date'] = pd.to_datetime(train_df['release_date'], errors='coerce')\n",
    "train_df['release_year'] = train_df['release_date'].dt.year.fillna(train_df['release_date'].dt.year.mode()[0])"
   ]
  },
  {
   "cell_type": "code",
   "execution_count": 1311,
   "id": "c6e0b179",
   "metadata": {},
   "outputs": [
    {
     "data": {
      "text/plain": [
       "id                         0\n",
       "name                       0\n",
       "metacritic                 0\n",
       "steam_achievements         0\n",
       "steam_trading_cards        0\n",
       "workshop_support           0\n",
       "genres                     0\n",
       "achievements_total         0\n",
       "release_date             967\n",
       "supported_platforms        0\n",
       "price                      0\n",
       "copiesSold                 0\n",
       "publisherClass             0\n",
       "reviewScore                0\n",
       "aiContent              55542\n",
       "dlc_count                  0\n",
       "hasDemo                    0\n",
       "release_year               0\n",
       "dtype: int64"
      ]
     },
     "execution_count": 1311,
     "metadata": {},
     "output_type": "execute_result"
    }
   ],
   "source": [
    "train_df.isnull().sum()"
   ]
  },
  {
   "cell_type": "code",
   "execution_count": 1312,
   "id": "3f9112f0",
   "metadata": {},
   "outputs": [],
   "source": [
    "train_df.drop(columns=['aiContent'], inplace=True)"
   ]
  },
  {
   "cell_type": "code",
   "execution_count": 1313,
   "id": "8bf97a0b",
   "metadata": {},
   "outputs": [
    {
     "data": {
      "text/plain": [
       "id                       0\n",
       "name                     0\n",
       "metacritic               0\n",
       "steam_achievements       0\n",
       "steam_trading_cards      0\n",
       "workshop_support         0\n",
       "genres                   0\n",
       "achievements_total       0\n",
       "release_date           967\n",
       "supported_platforms      0\n",
       "price                    0\n",
       "copiesSold               0\n",
       "publisherClass           0\n",
       "reviewScore              0\n",
       "dlc_count                0\n",
       "hasDemo                  0\n",
       "release_year             0\n",
       "dtype: int64"
      ]
     },
     "execution_count": 1313,
     "metadata": {},
     "output_type": "execute_result"
    }
   ],
   "source": [
    "train_df.isnull().sum()"
   ]
  },
  {
   "cell_type": "code",
   "execution_count": 1314,
   "id": "44aa6d2b",
   "metadata": {},
   "outputs": [
    {
     "name": "stdout",
     "output_type": "stream",
     "text": [
      "<class 'pandas.core.frame.DataFrame'>\n",
      "Index: 55542 entries, 33136 to 15795\n",
      "Data columns (total 17 columns):\n",
      " #   Column               Non-Null Count  Dtype         \n",
      "---  ------               --------------  -----         \n",
      " 0   id                   55542 non-null  object        \n",
      " 1   name                 55542 non-null  object        \n",
      " 2   metacritic           55542 non-null  float64       \n",
      " 3   steam_achievements   55542 non-null  bool          \n",
      " 4   steam_trading_cards  55542 non-null  bool          \n",
      " 5   workshop_support     55542 non-null  bool          \n",
      " 6   genres               55542 non-null  object        \n",
      " 7   achievements_total   55542 non-null  float64       \n",
      " 8   release_date         54575 non-null  datetime64[ns]\n",
      " 9   supported_platforms  55542 non-null  object        \n",
      " 10  price                55542 non-null  float64       \n",
      " 11  copiesSold           55542 non-null  int64         \n",
      " 12  publisherClass       55542 non-null  object        \n",
      " 13  reviewScore          55542 non-null  object        \n",
      " 14  dlc_count            55542 non-null  float64       \n",
      " 15  hasDemo              55542 non-null  int32         \n",
      " 16  release_year         55542 non-null  float64       \n",
      "dtypes: bool(3), datetime64[ns](1), float64(5), int32(1), int64(1), object(6)\n",
      "memory usage: 6.3+ MB\n"
     ]
    }
   ],
   "source": [
    "train_df.info()"
   ]
  },
  {
   "cell_type": "markdown",
   "id": "44006961",
   "metadata": {},
   "source": [
    "# Preprocessing"
   ]
  },
  {
   "cell_type": "code",
   "execution_count": 1315,
   "id": "c95b9e64",
   "metadata": {},
   "outputs": [],
   "source": [
    "from datetime import datetime\n",
    "current_year = datetime.now().year\n",
    "train_df['game_age'] = current_year - train_df['release_year']\n",
    "\n",
    "# 2. Price Categories\n",
    "train_df['price_category'] = pd.cut(\n",
    "    train_df['price'],\n",
    "    bins=[-1, 0, 5, 15, 30, 60, float('inf')],\n",
    "    labels=['Free', 'Low', 'Medium', 'High', 'Very High', 'Premium']\n",
    ")"
   ]
  },
  {
   "cell_type": "code",
   "execution_count": 1316,
   "id": "30f01ade",
   "metadata": {},
   "outputs": [],
   "source": [
    "train_df['isWindows'] = train_df['supported_platforms'].apply(lambda x: 1 if 'windows' in str(x).lower() else 0)\n",
    "train_df['isMac'] = train_df['supported_platforms'].apply(lambda x: 1 if 'mac' in str(x).lower() else 0)\n",
    "train_df['isLinux'] = train_df['supported_platforms'].apply(lambda x: 1 if 'linux' in str(x).lower() else 0)\n",
    "train_df['num_platforms'] = train_df[['isWindows', 'isMac', 'isLinux']].sum(axis=1)"
   ]
  },
  {
   "cell_type": "code",
   "execution_count": 1317,
   "id": "297afac1",
   "metadata": {},
   "outputs": [],
   "source": [
    "train_df['price_per_dlc'] = train_df['price'] / (train_df['dlc_count'] + 1)\n",
    "train_df['achievements_per_dlc'] = train_df['achievements_total'] / (train_df['dlc_count'] + 1)\n",
    "\n",
    "# 5. Log Transformation\n",
    "train_df['log_copiesSold'] = np.log1p(train_df['copiesSold'].clip(lower=0))\n",
    "train_df['log_price'] = np.log1p(train_df['price'].clip(lower=0))\n"
   ]
  },
  {
   "cell_type": "code",
   "execution_count": 1318,
   "id": "a4f9ff05",
   "metadata": {},
   "outputs": [],
   "source": [
    "def cap_outliers(series, lower_quantile=0.01, upper_quantile=0.99):\n",
    "    lower = series.quantile(lower_quantile)\n",
    "    upper = series.quantile(upper_quantile)\n",
    "    return series.clip(lower=lower, upper=upper)\n",
    "\n",
    "train_df['copiesSold'] = cap_outliers(train_df['copiesSold'])\n",
    "train_df['price'] = cap_outliers(train_df['price'])\n",
    "train_df['achievements_total'] = cap_outliers(train_df['achievements_total'])\n",
    "train_df['dlc_count'] = cap_outliers(train_df['dlc_count'])"
   ]
  },
  {
   "cell_type": "code",
   "execution_count": 1319,
   "id": "479bee5f",
   "metadata": {},
   "outputs": [],
   "source": [
    "#train_df = pd.get_dummies(train_df, columns=['publisherClass', 'price_category'], dtype=int)"
   ]
  },
  {
   "cell_type": "code",
   "execution_count": 1320,
   "id": "df5a9d49",
   "metadata": {},
   "outputs": [
    {
     "data": {
      "text/plain": [
       "reviewScore\n",
       "Positive                   21501\n",
       "Mixed                      11976\n",
       "Mostly Positive             7481\n",
       "Very Positive               6710\n",
       "Negative                    4877\n",
       "Mostly Negative             2348\n",
       "Overwhelmingly Positive      621\n",
       "Very Negative                 21\n",
       "Overwhelmingly Negative        7\n",
       "Name: count, dtype: int64"
      ]
     },
     "execution_count": 1320,
     "metadata": {},
     "output_type": "execute_result"
    }
   ],
   "source": [
    "train_df.reviewScore.value_counts()"
   ]
  },
  {
   "cell_type": "code",
   "execution_count": 1321,
   "id": "5808fa7b",
   "metadata": {},
   "outputs": [],
   "source": [
    "categorical_columns = ['steam_achievements', 'steam_trading_cards', 'workshop_support','reviewScore']\n",
    "encoder = LabelEncoder()\n",
    "for col in categorical_columns:\n",
    "    train_df[col] = encoder.fit_transform(train_df[col])"
   ]
  },
  {
   "cell_type": "markdown",
   "id": "2c9c884d",
   "metadata": {},
   "source": [
    "### Copiessold outliers "
   ]
  },
  {
   "cell_type": "code",
   "execution_count": 1322,
   "id": "290133d3",
   "metadata": {},
   "outputs": [
    {
     "data": {
      "text/plain": [
       "count    5.554200e+04\n",
       "mean     3.517690e+04\n",
       "std      1.669331e+05\n",
       "min      1.000000e+00\n",
       "25%      6.000000e+01\n",
       "50%      4.540000e+02\n",
       "75%      3.956000e+03\n",
       "max      1.360106e+06\n",
       "Name: copiesSold, dtype: float64"
      ]
     },
     "execution_count": 1322,
     "metadata": {},
     "output_type": "execute_result"
    }
   ],
   "source": [
    "train_df['copiesSold'].describe()"
   ]
  },
  {
   "cell_type": "code",
   "execution_count": 1323,
   "id": "06125664",
   "metadata": {},
   "outputs": [
    {
     "name": "stdout",
     "output_type": "stream",
     "text": [
      "-5784.0\n",
      "9800.0\n"
     ]
    }
   ],
   "source": [
    "Q1 = train_df['copiesSold'].quantile(0.25)\n",
    "Q3 = train_df['copiesSold'].quantile(0.75)\n",
    "IQR = Q3 - Q1\n",
    "\n",
    "# Define outlier thresholds\n",
    "lower_bound = Q1 - 1.5 * IQR\n",
    "upper_bound = Q3 + 1.5 * IQR\n",
    "\n",
    "# Detect outliers\n",
    "outliers = train_df[(train_df['copiesSold'] < lower_bound) | (train_df['copiesSold'] > upper_bound)]\n",
    "print(lower_bound)\n",
    "print(upper_bound)"
   ]
  },
  {
   "cell_type": "code",
   "execution_count": 1324,
   "id": "f3b9c0c1",
   "metadata": {},
   "outputs": [],
   "source": [
    "train_df.loc[train_df['copiesSold'] <= 0, 'copiesSold'] *= -1"
   ]
  },
  {
   "cell_type": "code",
   "execution_count": 1325,
   "id": "f5c12638",
   "metadata": {},
   "outputs": [],
   "source": [
    "#train_df = (train_df[train_df['copiesSold'] <= 1])"
   ]
  },
  {
   "cell_type": "markdown",
   "id": "01dd0667",
   "metadata": {},
   "source": [
    "## Price outliers"
   ]
  },
  {
   "cell_type": "code",
   "execution_count": 1326,
   "id": "17611ebb",
   "metadata": {},
   "outputs": [
    {
     "data": {
      "text/plain": [
       "count    55542.000000\n",
       "mean         7.344236\n",
       "std          8.303910\n",
       "min          0.000000\n",
       "25%          0.990000\n",
       "50%          4.990000\n",
       "75%          9.990000\n",
       "max         44.990000\n",
       "Name: price, dtype: float64"
      ]
     },
     "execution_count": 1326,
     "metadata": {},
     "output_type": "execute_result"
    }
   ],
   "source": [
    "train_df.price.describe()"
   ]
  },
  {
   "cell_type": "code",
   "execution_count": 1327,
   "id": "26ffd015",
   "metadata": {},
   "outputs": [
    {
     "name": "stdout",
     "output_type": "stream",
     "text": [
      "-12.51\n",
      "23.490000000000002\n"
     ]
    }
   ],
   "source": [
    "Q1 = train_df['price'].quantile(0.25)\n",
    "Q3 = train_df['price'].quantile(0.75)\n",
    "IQR = Q3 - Q1\n",
    "\n",
    "# Define outlier thresholds\n",
    "lower_bound = Q1 - 1.5 * IQR\n",
    "upper_bound = Q3 + 1.5 * IQR\n",
    "\n",
    "# Detect outliers\n",
    "outliers = train_df[(train_df['price'] < lower_bound) | (train_df['price'] > upper_bound)]\n",
    "print(lower_bound)\n",
    "print(upper_bound)"
   ]
  },
  {
   "cell_type": "code",
   "execution_count": 1328,
   "id": "e9ef8384",
   "metadata": {},
   "outputs": [
    {
     "data": {
      "text/html": [
       "<div>\n",
       "<style scoped>\n",
       "    .dataframe tbody tr th:only-of-type {\n",
       "        vertical-align: middle;\n",
       "    }\n",
       "\n",
       "    .dataframe tbody tr th {\n",
       "        vertical-align: top;\n",
       "    }\n",
       "\n",
       "    .dataframe thead th {\n",
       "        text-align: right;\n",
       "    }\n",
       "</style>\n",
       "<table border=\"1\" class=\"dataframe\">\n",
       "  <thead>\n",
       "    <tr style=\"text-align: right;\">\n",
       "      <th></th>\n",
       "      <th>id</th>\n",
       "      <th>name</th>\n",
       "      <th>metacritic</th>\n",
       "      <th>steam_achievements</th>\n",
       "      <th>steam_trading_cards</th>\n",
       "      <th>workshop_support</th>\n",
       "      <th>genres</th>\n",
       "      <th>achievements_total</th>\n",
       "      <th>release_date</th>\n",
       "      <th>supported_platforms</th>\n",
       "      <th>...</th>\n",
       "      <th>game_age</th>\n",
       "      <th>price_category</th>\n",
       "      <th>isWindows</th>\n",
       "      <th>isMac</th>\n",
       "      <th>isLinux</th>\n",
       "      <th>num_platforms</th>\n",
       "      <th>price_per_dlc</th>\n",
       "      <th>achievements_per_dlc</th>\n",
       "      <th>log_copiesSold</th>\n",
       "      <th>log_price</th>\n",
       "    </tr>\n",
       "  </thead>\n",
       "  <tbody>\n",
       "  </tbody>\n",
       "</table>\n",
       "<p>0 rows × 27 columns</p>\n",
       "</div>"
      ],
      "text/plain": [
       "Empty DataFrame\n",
       "Columns: [id, name, metacritic, steam_achievements, steam_trading_cards, workshop_support, genres, achievements_total, release_date, supported_platforms, price, copiesSold, publisherClass, reviewScore, dlc_count, hasDemo, release_year, game_age, price_category, isWindows, isMac, isLinux, num_platforms, price_per_dlc, achievements_per_dlc, log_copiesSold, log_price]\n",
       "Index: []\n",
       "\n",
       "[0 rows x 27 columns]"
      ]
     },
     "execution_count": 1328,
     "metadata": {},
     "output_type": "execute_result"
    }
   ],
   "source": [
    "train_df[train_df['price'] > 200 ]"
   ]
  },
  {
   "cell_type": "code",
   "execution_count": 1329,
   "id": "6993a753",
   "metadata": {},
   "outputs": [],
   "source": [
    "train_df = train_df[(train_df['price'] <= 200)]"
   ]
  },
  {
   "cell_type": "code",
   "execution_count": 1330,
   "id": "6d423d0c",
   "metadata": {},
   "outputs": [],
   "source": [
    "train_df['genres_split'] = train_df['genres'].str.split(',')\n",
    "\n",
    "exploded_genres = train_df.explode('genres_split')\n",
    "exploded_genres['genres_split'] = exploded_genres['genres_split'].str.strip()\n",
    "genre_counts = exploded_genres['genres_split'].value_counts()\n",
    "\n",
    "\n",
    "rare_genres = genre_counts[genre_counts < 5000].index\n",
    "exploded_genres['genres_split'] = exploded_genres['genres_split'].apply(lambda x: 'Other_genres' if x in rare_genres else x)\n",
    "\n",
    "train_df['genres'] = (\n",
    "    exploded_genres\n",
    "    .groupby(exploded_genres.index)['genres_split']\n",
    "    .apply(lambda x: ', '.join(sorted(set(x))))\n",
    ")\n",
    "\n",
    "train_df.drop(columns=['genres_split'],inplace=True)\n",
    "train_df['genre_diversity'] = train_df['genres'].str.split(',').apply(len)"
   ]
  },
  {
   "cell_type": "code",
   "execution_count": 1331,
   "id": "5c11b4c7",
   "metadata": {},
   "outputs": [],
   "source": [
    "train_df['genres_list'] = train_df['genres'].str.split(', ')\n",
    "\n",
    "mlb = MultiLabelBinarizer()\n",
    "\n",
    "genres_encoded = mlb.fit_transform(list(train_df['genres_list']))\n",
    "genres_df = pd.DataFrame(genres_encoded, columns=mlb.classes_,index=train_df.index)\n",
    "\n",
    "train_df = pd.concat([train_df, genres_df], axis=1)\n",
    "train_df.drop(columns=['genres_list','genres'], inplace=True)"
   ]
  },
  {
   "cell_type": "code",
   "execution_count": 1332,
   "id": "0c9aaf84",
   "metadata": {},
   "outputs": [],
   "source": [
    "temp_encoder = LabelEncoder()\n",
    "train_df['temp_reviewScore'] = temp_encoder.fit_transform(train_df['reviewScore'])\n",
    "publisher_success = train_df.groupby('publisherClass')['temp_reviewScore'].mean().to_dict()\n",
    "train_df['publisher_success_score'] = train_df['publisherClass'].map(publisher_success)\n",
    "train_df.drop(columns=['temp_reviewScore'], inplace=True)\n",
    "\n",
    "# 7. NEW: Platform Exclusivity\n",
    "train_df['is_exclusive'] = (train_df['num_platforms'] == 1).astype(int)\n",
    "\n",
    "# 8. NEW: Release Seasonality\n",
    "train_df['release_month'] = train_df['release_date'].dt.month.fillna(train_df['release_date'].dt.month.mode()[0])\n",
    "train_df['release_quarter'] = train_df['release_date'].dt.quarter.fillna(train_df['release_date'].dt.quarter.mode()[0])\n",
    "\n",
    "# 9. NEW: Price-to-CopiesSold Ratio\n",
    "train_df['price_to_copies_ratio'] = train_df['price'] / (train_df['log_copiesSold'] + 1e-6)\n",
    "\n",
    "# 10. NEW: Game Complexity Proxy\n",
    "train_df['game_complexity'] = (\n",
    "    train_df['achievements_total'] / (train_df['achievements_total'].max() + 1e-6) +\n",
    "    train_df['dlc_count'] / (train_df['dlc_count'].max() + 1e-6) +\n",
    "    train_df['genre_diversity'] / (train_df['genre_diversity'].max() + 1e-6)\n",
    ")\n",
    "\n",
    "# 11. NEW: Metacritic Binary\n",
    "train_df['has_metacritic'] = (train_df['metacritic'] > 0).astype(int)"
   ]
  },
  {
   "cell_type": "code",
   "execution_count": 1333,
   "id": "e293797b",
   "metadata": {},
   "outputs": [],
   "source": [
    "train_df = pd.get_dummies(train_df, columns=['publisherClass', 'price_category'], dtype=int)"
   ]
  },
  {
   "cell_type": "code",
   "execution_count": 1334,
   "id": "f9eecf56",
   "metadata": {},
   "outputs": [],
   "source": [
    "genre_cols = mlb.classes_\n",
    "genre_popularity = {}\n",
    "for genre in genre_cols:\n",
    "    mask = train_df[genre] == 1\n",
    "    genre_popularity[genre] = train_df[mask]['copiesSold'].mean() if mask.sum() > 0 else 0\n",
    "train_df['genre_popularity'] = train_df[genre_cols].dot(list(genre_popularity.values())) / train_df[genre_cols].sum(axis=1)\n",
    "\n",
    "# NEW: Free-to-Play Interaction\n",
    "train_df['free_to_play_interaction'] = train_df['price_category_Free'] * train_df['Free To Play']"
   ]
  },
  {
   "cell_type": "code",
   "execution_count": 1335,
   "id": "a45fcfa6",
   "metadata": {},
   "outputs": [
    {
     "name": "stdout",
     "output_type": "stream",
     "text": [
      "<class 'pandas.core.frame.DataFrame'>\n",
      "Index: 55542 entries, 33136 to 15795\n",
      "Data columns (total 54 columns):\n",
      " #   Column                    Non-Null Count  Dtype         \n",
      "---  ------                    --------------  -----         \n",
      " 0   id                        55542 non-null  object        \n",
      " 1   name                      55542 non-null  object        \n",
      " 2   metacritic                55542 non-null  float64       \n",
      " 3   steam_achievements        55542 non-null  int64         \n",
      " 4   steam_trading_cards       55542 non-null  int64         \n",
      " 5   workshop_support          55542 non-null  int64         \n",
      " 6   achievements_total        55542 non-null  float64       \n",
      " 7   release_date              54575 non-null  datetime64[ns]\n",
      " 8   supported_platforms       55542 non-null  object        \n",
      " 9   price                     55542 non-null  float64       \n",
      " 10  copiesSold                55542 non-null  float64       \n",
      " 11  reviewScore               55542 non-null  int32         \n",
      " 12  dlc_count                 55542 non-null  float64       \n",
      " 13  hasDemo                   55542 non-null  int32         \n",
      " 14  release_year              55542 non-null  float64       \n",
      " 15  game_age                  55542 non-null  float64       \n",
      " 16  isWindows                 55542 non-null  int64         \n",
      " 17  isMac                     55542 non-null  int64         \n",
      " 18  isLinux                   55542 non-null  int64         \n",
      " 19  num_platforms             55542 non-null  int64         \n",
      " 20  price_per_dlc             55542 non-null  float64       \n",
      " 21  achievements_per_dlc      55542 non-null  float64       \n",
      " 22  log_copiesSold            55542 non-null  float64       \n",
      " 23  log_price                 55542 non-null  float64       \n",
      " 24  genre_diversity           55542 non-null  int64         \n",
      " 25  Action                    55542 non-null  int32         \n",
      " 26  Adventure                 55542 non-null  int32         \n",
      " 27  Casual                    55542 non-null  int32         \n",
      " 28  Early Access              55542 non-null  int32         \n",
      " 29  Free To Play              55542 non-null  int32         \n",
      " 30  Indie                     55542 non-null  int32         \n",
      " 31  Other_genres              55542 non-null  int32         \n",
      " 32  RPG                       55542 non-null  int32         \n",
      " 33  Simulation                55542 non-null  int32         \n",
      " 34  Strategy                  55542 non-null  int32         \n",
      " 35  publisher_success_score   55542 non-null  float64       \n",
      " 36  is_exclusive              55542 non-null  int32         \n",
      " 37  release_month             55542 non-null  float64       \n",
      " 38  release_quarter           55542 non-null  float64       \n",
      " 39  price_to_copies_ratio     55542 non-null  float64       \n",
      " 40  game_complexity           55542 non-null  float64       \n",
      " 41  has_metacritic            55542 non-null  int32         \n",
      " 42  publisherClass_AA         55542 non-null  int32         \n",
      " 43  publisherClass_AAA        55542 non-null  int32         \n",
      " 44  publisherClass_Hobbyist   55542 non-null  int32         \n",
      " 45  publisherClass_Indie      55542 non-null  int32         \n",
      " 46  price_category_Free       55542 non-null  int32         \n",
      " 47  price_category_Low        55542 non-null  int32         \n",
      " 48  price_category_Medium     55542 non-null  int32         \n",
      " 49  price_category_High       55542 non-null  int32         \n",
      " 50  price_category_Very High  55542 non-null  int32         \n",
      " 51  price_category_Premium    55542 non-null  int32         \n",
      " 52  genre_popularity          55542 non-null  float64       \n",
      " 53  free_to_play_interaction  55542 non-null  int32         \n",
      "dtypes: datetime64[ns](1), float64(17), int32(25), int64(8), object(3)\n",
      "memory usage: 18.0+ MB\n"
     ]
    }
   ],
   "source": [
    "train_df.info()"
   ]
  },
  {
   "cell_type": "code",
   "execution_count": 1336,
   "id": "fd3cb4cb",
   "metadata": {},
   "outputs": [],
   "source": [
    "features = [\n",
    "    'metacritic', 'steam_achievements', 'steam_trading_cards', 'workshop_support',\n",
    "    'achievements_total', 'dlc_count', 'hasDemo', 'release_year', 'game_age',\n",
    "    'isWindows', 'isMac', 'isLinux', 'num_platforms', 'price_per_dlc',\n",
    "    'achievements_per_dlc', 'log_copiesSold', 'log_price', 'genre_diversity',\n",
    "    'publisherClass_AA', 'publisherClass_AAA', 'publisherClass_Hobbyist',\n",
    "    'publisherClass_Indie', 'price_category_Free', 'price_category_Low',\n",
    "    'price_category_Medium', 'price_category_High', 'price_category_Very High',\n",
    "    'price_category_Premium', 'Action', 'Adventure', 'Casual', 'Early Access',\n",
    "    'Free To Play', 'Indie', 'Other_genres', 'RPG', 'Simulation', 'Strategy',\n",
    "    'publisher_success_score', 'is_exclusive', 'release_month', 'release_quarter',\n",
    "    'price_to_copies_ratio', 'game_complexity', 'has_metacritic',\n",
    "    'genre_popularity', 'free_to_play_interaction'\n",
    "]"
   ]
  },
  {
   "cell_type": "code",
   "execution_count": 1337,
   "id": "1d31c203",
   "metadata": {},
   "outputs": [
    {
     "data": {
      "text/plain": [
       "47"
      ]
     },
     "execution_count": 1337,
     "metadata": {},
     "output_type": "execute_result"
    }
   ],
   "source": [
    "len(features)"
   ]
  },
  {
   "cell_type": "markdown",
   "id": "da937f90",
   "metadata": {},
   "source": [
    "### Chi_squared "
   ]
  },
  {
   "cell_type": "code",
   "execution_count": 1338,
   "id": "401ee43c",
   "metadata": {},
   "outputs": [],
   "source": [
    "X = train_df[features]\n",
    "y = train_df['reviewScore']\n",
    "scaler = StandardScaler()\n",
    "# numerical_cols = [\n",
    "#     'metacritic', 'achievements_total', 'dlc_count', 'release_year', 'game_age',\n",
    "#     'num_platforms', 'price_per_dlc', 'achievements_per_dlc', 'log_copiesSold',\n",
    "#     'log_price', 'genre_diversity'\n",
    "# ]\n",
    "numerical_cols = [\n",
    "    'metacritic', 'achievements_total', 'dlc_count', 'release_year', 'game_age',\n",
    "    'num_platforms', 'price_per_dlc', 'achievements_per_dlc', 'log_copiesSold',\n",
    "    'log_price', 'genre_diversity', 'publisher_success_score', 'release_month',\n",
    "    'release_quarter', 'price_to_copies_ratio', 'game_complexity',\n",
    "    'genre_popularity'\n",
    "]\n",
    "X_scaled = X.copy()\n",
    "X_scaled[numerical_cols] = scaler.fit_transform(X[numerical_cols])\n",
    "# Apply Chi-Squared\n",
    "# chi2_selector = SelectKBest(score_func=chi2, k='all')\n",
    "# chi2_selector.fit(X, y)\n",
    "# feature_scores = pd.DataFrame({'Feature': columns, 'Chi2 Score': chi2_selector.scores_})\n",
    "# print(feature_scores.sort_values(by='Chi2 Score', ascending=False))"
   ]
  },
  {
   "cell_type": "code",
   "execution_count": 1339,
   "id": "44648632",
   "metadata": {},
   "outputs": [
    {
     "name": "stdout",
     "output_type": "stream",
     "text": [
      "Selected Features: ['metacritic', 'steam_achievements', 'steam_trading_cards', 'workshop_support', 'achievements_total', 'dlc_count', 'hasDemo', 'release_year', 'game_age', 'num_platforms', 'price_per_dlc', 'achievements_per_dlc', 'log_copiesSold', 'log_price', 'publisherClass_AA', 'publisherClass_AAA', 'publisherClass_Hobbyist', 'publisherClass_Indie', 'price_category_Free', 'price_category_Low', 'price_category_High', 'price_category_Very High', 'Free To Play', 'Simulation', 'publisher_success_score', 'price_to_copies_ratio', 'game_complexity', 'has_metacritic', 'genre_popularity', 'free_to_play_interaction']\n"
     ]
    }
   ],
   "source": [
    "for col in numerical_cols:\n",
    "    min_val = X_scaled[col].min()\n",
    "    if min_val < 0:\n",
    "        X_scaled[col] = X_scaled[col] - min_val + 1e-6  # Small constant to avoid zero\n",
    "    X_scaled[col] = X_scaled[col].clip(lower=0)  # Ensure no negatives\n",
    "\n",
    "# Handle any infinities or NaNs\n",
    "X_scaled = X_scaled.replace([np.inf, -np.inf], 0).fillna(0)\n",
    "\n",
    "# Apply SMOTE to the top 5 classes\n",
    "# smote = SMOTE(random_state=42)\n",
    "# X_resampled, y_resampled = smote.fit_resample(X_scaled, y)\n",
    "\n",
    "# Feature Selection with Chi-Squared\n",
    "chi2_selector = SelectKBest(score_func=chi2, k=30)\n",
    "X_selected = chi2_selector.fit_transform(X_scaled, y)\n",
    "selected_features = [features[i] for i in chi2_selector.get_support(indices=True)]\n",
    "print(\"Selected Features:\", selected_features)"
   ]
  },
  {
   "cell_type": "markdown",
   "id": "f6ee4624",
   "metadata": {},
   "source": [
    "### get top features score"
   ]
  },
  {
   "cell_type": "code",
   "execution_count": 1340,
   "id": "4c16b5ec",
   "metadata": {},
   "outputs": [
    {
     "name": "stdout",
     "output_type": "stream",
     "text": [
      "Top Features Ordered by Chi-Squared Score:\n",
      "                      Feature    Chi2 Score\n",
      "0                 metacritic  27808.930478\n",
      "38   publisher_success_score  16001.681917\n",
      "15            log_copiesSold  15342.621271\n",
      "4         achievements_total   5616.988137\n",
      "44            has_metacritic   4933.186908\n",
      "5                  dlc_count   4736.782179\n",
      "8                   game_age   4523.969636\n",
      "20   publisherClass_Hobbyist   4460.084024\n",
      "42     price_to_copies_ratio   4399.603424\n",
      "21      publisherClass_Indie   3809.683373\n",
      "43           game_complexity   3007.157650\n",
      "18         publisherClass_AA   2594.328764\n",
      "23        price_category_Low   2047.202061\n",
      "25       price_category_High   1897.108046\n",
      "14      achievements_per_dlc   1615.372718\n",
      "2        steam_trading_cards   1564.706097\n",
      "19        publisherClass_AAA   1381.236134\n",
      "22       price_category_Free   1212.630220\n",
      "13             price_per_dlc   1019.828692\n",
      "12             num_platforms    960.083787\n",
      "46  free_to_play_interaction    948.780210\n",
      "32              Free To Play    931.234858\n",
      "1         steam_achievements    790.775807\n",
      "7               release_year    762.073160\n",
      "45          genre_popularity    703.472736\n",
      "36                Simulation    654.962717\n",
      "26  price_category_Very High    619.114207\n",
      "16                 log_price    494.540169\n",
      "3           workshop_support    485.586285\n",
      "6                    hasDemo    458.409102\n",
      "10                     isMac    457.259504\n",
      "34              Other_genres    426.116050\n",
      "11                   isLinux    331.985928\n",
      "30                    Casual    295.977782\n",
      "35                       RPG    262.689490\n",
      "17           genre_diversity    250.032580\n",
      "39              is_exclusive    208.249252\n",
      "31              Early Access    121.934818\n",
      "27    price_category_Premium    119.457153\n",
      "37                  Strategy     94.111034\n",
      "33                     Indie     83.292843\n",
      "29                 Adventure     70.324615\n",
      "24     price_category_Medium     40.052173\n",
      "40             release_month     26.463254\n",
      "28                    Action     23.675930\n",
      "41           release_quarter     17.613316\n",
      "9                  isWindows      0.001483\n",
      "\n",
      "Top 20 Features:\n",
      "                     Feature    Chi2 Score\n",
      "0                metacritic  27808.930478\n",
      "38  publisher_success_score  16001.681917\n",
      "15           log_copiesSold  15342.621271\n",
      "4        achievements_total   5616.988137\n",
      "44           has_metacritic   4933.186908\n",
      "5                 dlc_count   4736.782179\n",
      "8                  game_age   4523.969636\n",
      "20  publisherClass_Hobbyist   4460.084024\n",
      "42    price_to_copies_ratio   4399.603424\n",
      "21     publisherClass_Indie   3809.683373\n",
      "43          game_complexity   3007.157650\n",
      "18        publisherClass_AA   2594.328764\n",
      "23       price_category_Low   2047.202061\n",
      "25      price_category_High   1897.108046\n",
      "14     achievements_per_dlc   1615.372718\n",
      "2       steam_trading_cards   1564.706097\n",
      "19       publisherClass_AAA   1381.236134\n",
      "22      price_category_Free   1212.630220\n",
      "13            price_per_dlc   1019.828692\n",
      "12            num_platforms    960.083787\n"
     ]
    }
   ],
   "source": [
    "feature_scores = pd.DataFrame({\n",
    "    'Feature': features,\n",
    "    'Chi2 Score': chi2_selector.scores_\n",
    "})\n",
    "\n",
    "# Sort features by Chi2 Score in descending order\n",
    "top_features = feature_scores.sort_values(by='Chi2 Score', ascending=False)\n",
    "\n",
    "# Print the top features\n",
    "print(\"Top Features Ordered by Chi-Squared Score:\\n\", top_features)\n",
    "\n",
    "# Optionally, get the top N features (e.g., top 20)\n",
    "N = 20\n",
    "print(f\"\\nTop {N} Features:\\n\", top_features.head(N))"
   ]
  },
  {
   "cell_type": "code",
   "execution_count": 1341,
   "id": "69c88126",
   "metadata": {},
   "outputs": [
    {
     "data": {
      "text/plain": [
       "47"
      ]
     },
     "execution_count": 1341,
     "metadata": {},
     "output_type": "execute_result"
    }
   ],
   "source": [
    "len(top_features)"
   ]
  },
  {
   "cell_type": "code",
   "execution_count": 1342,
   "id": "e11fc0b4",
   "metadata": {},
   "outputs": [],
   "source": [
    "# top_features = feature_scores.sort_values(by='Chi2 Score', ascending=False).head(47)['Feature'].tolist()\n",
    "# X_selected = X[top_features] "
   ]
  },
  {
   "cell_type": "code",
   "execution_count": 1343,
   "id": "860127fe",
   "metadata": {},
   "outputs": [],
   "source": [
    "# top_features"
   ]
  },
  {
   "cell_type": "code",
   "execution_count": 1344,
   "id": "1c756b6e",
   "metadata": {},
   "outputs": [],
   "source": [
    "# X_chi2 = X.copy()\n",
    "# for col in X_chi2.columns:\n",
    "#     min_val = X_chi2[col].min()\n",
    "#     if min_val < 0:\n",
    "#         X_chi2[col] = X_chi2[col] - min_val\n",
    "\n",
    "# selector = SelectKBest(score_func=chi2, k=10)\n",
    "# X_selected = selector.fit_transform(X_chi2, y)"
   ]
  },
  {
   "cell_type": "markdown",
   "id": "ee8f001a",
   "metadata": {},
   "source": [
    "### Hypertuning 1"
   ]
  },
  {
   "cell_type": "code",
   "execution_count": 1345,
   "id": "7fd45d45",
   "metadata": {},
   "outputs": [],
   "source": [
    "# catboost = CatBoostClassifier(verbose=0, random_state=42)\n",
    "# param_grid = {\n",
    "#     'depth': [6, 8],\n",
    "#     'learning_rate': [0.01, 0.05],\n",
    "#     'iterations': [500, 1000]\n",
    "# }\n",
    "# grid_search = GridSearchCV(\n",
    "#     estimator=catboost,\n",
    "#     param_grid=param_grid,\n",
    "#     cv=3,\n",
    "#     scoring='accuracy',\n",
    "#     n_jobs=-1\n",
    "# )\n",
    "# grid_search.fit(X_train, y_train)\n",
    "\n",
    "# # Best Model\n",
    "# best_model = grid_search.best_estimator_\n",
    "# print(\"Best Parameters:\", grid_search.best_params_)"
   ]
  },
  {
   "cell_type": "markdown",
   "id": "a2358b39",
   "metadata": {},
   "source": [
    "- random state 53 ==> 59.82% \n",
    "- random state 57 ==> 59.98%\n",
    "- random state 55 ==> 60.04%\n",
    "- random state 54 1400 iter ==> 60.35%\n",
    "- random state 54 1500 iter ==> 60.52%\n",
    "- random state 54 test size 15% 1400 iter ==> 60.60 %\n",
    "- random state 54 test size 20% 1500 iter 0.08 lr ==> 60.67%"
   ]
  },
  {
   "cell_type": "code",
   "execution_count": 1346,
   "id": "c4bedb96",
   "metadata": {},
   "outputs": [
    {
     "name": "stdout",
     "output_type": "stream",
     "text": [
      "CatBoost Accuracy: 60.67152759024215\n",
      "              precision    recall  f1-score   support\n",
      "\n",
      "           0       0.50      0.42      0.46      2400\n",
      "           1       0.38      0.04      0.08       427\n",
      "           2       0.49      0.07      0.12      1514\n",
      "           3       0.69      0.67      0.68       965\n",
      "           5       0.47      0.22      0.30       129\n",
      "           6       0.64      0.87      0.74      4271\n",
      "           7       0.00      0.00      0.00         4\n",
      "           8       0.61      0.87      0.72      1399\n",
      "\n",
      "    accuracy                           0.61     11109\n",
      "   macro avg       0.47      0.40      0.39     11109\n",
      "weighted avg       0.58      0.61      0.55     11109\n",
      "\n"
     ]
    },
    {
     "name": "stderr",
     "output_type": "stream",
     "text": [
      "c:\\Users\\abdel\\AppData\\Local\\Programs\\Python\\Python312\\Lib\\site-packages\\sklearn\\metrics\\_classification.py:1509: UndefinedMetricWarning: Precision is ill-defined and being set to 0.0 in labels with no predicted samples. Use `zero_division` parameter to control this behavior.\n",
      "  _warn_prf(average, modifier, f\"{metric.capitalize()} is\", len(result))\n",
      "c:\\Users\\abdel\\AppData\\Local\\Programs\\Python\\Python312\\Lib\\site-packages\\sklearn\\metrics\\_classification.py:1509: UndefinedMetricWarning: Precision is ill-defined and being set to 0.0 in labels with no predicted samples. Use `zero_division` parameter to control this behavior.\n",
      "  _warn_prf(average, modifier, f\"{metric.capitalize()} is\", len(result))\n",
      "c:\\Users\\abdel\\AppData\\Local\\Programs\\Python\\Python312\\Lib\\site-packages\\sklearn\\metrics\\_classification.py:1509: UndefinedMetricWarning: Precision is ill-defined and being set to 0.0 in labels with no predicted samples. Use `zero_division` parameter to control this behavior.\n",
      "  _warn_prf(average, modifier, f\"{metric.capitalize()} is\", len(result))\n"
     ]
    }
   ],
   "source": [
    "from catboost import CatBoostClassifier\n",
    "X_train, X_test, y_train, y_test = train_test_split(X_selected, y, test_size=0.2, random_state=54)\n",
    "\n",
    "catboost_model = CatBoostClassifier(verbose=0,bagging_temperature=0, depth= 6, iterations= 1500, l2_leaf_reg= 5, learning_rate=0.08)  \n",
    "catboost_model.fit(X_train, y_train)\n",
    "\n",
    "# Evaluation\n",
    "y_pred = catboost_model.predict(X_test)\n",
    "print(\"CatBoost Accuracy:\", accuracy_score(y_test, y_pred)*100)\n",
    "print(classification_report(y_test, y_pred))"
   ]
  },
  {
   "cell_type": "code",
   "execution_count": 1357,
   "id": "fe045a00",
   "metadata": {},
   "outputs": [
    {
     "name": "stdout",
     "output_type": "stream",
     "text": [
      "xgb Accuracy: 60.1404266810694\n",
      "              precision    recall  f1-score   support\n",
      "\n",
      "           0       0.49      0.41      0.45      2400\n",
      "           1       0.38      0.05      0.09       427\n",
      "           2       0.42      0.07      0.12      1514\n",
      "           3       0.69      0.67      0.68       965\n",
      "           5       0.39      0.19      0.25       129\n",
      "           6       0.64      0.86      0.73      4271\n",
      "           7       0.00      0.00      0.00         4\n",
      "           8       0.60      0.86      0.71      1399\n",
      "\n",
      "    accuracy                           0.60     11109\n",
      "   macro avg       0.45      0.39      0.38     11109\n",
      "weighted avg       0.56      0.60      0.55     11109\n",
      "\n"
     ]
    }
   ],
   "source": [
    "xgboost_model =xgb.XGBClassifier(colsample_bytree= 0.8, learning_rate= 0.09, max_depth= 5, n_estimators= 500, subsample= 0.8)  \n",
    "xgboost_model.fit(X_train, y_train)\n",
    "\n",
    "# Evaluation\n",
    "y_pred = xgboost_model.predict(X_test)\n",
    "print(\"xgb Accuracy:\", accuracy_score(y_test, y_pred)*100)\n",
    "print(classification_report(y_test, y_pred))"
   ]
  },
  {
   "cell_type": "code",
   "execution_count": 1367,
   "id": "368bdd9c",
   "metadata": {},
   "outputs": [
    {
     "name": "stdout",
     "output_type": "stream",
     "text": [
      "[LightGBM] [Warning] No further splits with positive gain, best gain: -inf\n",
      "[LightGBM] [Warning] No further splits with positive gain, best gain: -inf\n",
      "[LightGBM] [Warning] No further splits with positive gain, best gain: -inf\n",
      "[LightGBM] [Warning] No further splits with positive gain, best gain: -inf\n",
      "[LightGBM] [Warning] No further splits with positive gain, best gain: -inf\n",
      "[LightGBM] [Warning] No further splits with positive gain, best gain: -inf\n",
      "[LightGBM] [Warning] No further splits with positive gain, best gain: -inf\n",
      "[LightGBM] [Warning] No further splits with positive gain, best gain: -inf\n",
      "[LightGBM] [Warning] No further splits with positive gain, best gain: -inf\n",
      "[LightGBM] [Warning] No further splits with positive gain, best gain: -inf\n",
      "[LightGBM] [Warning] No further splits with positive gain, best gain: -inf\n",
      "[LightGBM] [Warning] No further splits with positive gain, best gain: -inf\n",
      "[LightGBM] [Warning] No further splits with positive gain, best gain: -inf\n",
      "[LightGBM] [Warning] No further splits with positive gain, best gain: -inf\n",
      "[LightGBM] [Warning] No further splits with positive gain, best gain: -inf\n",
      "[LightGBM] [Warning] No further splits with positive gain, best gain: -inf\n",
      "[LightGBM] [Warning] No further splits with positive gain, best gain: -inf\n",
      "[LightGBM] [Warning] No further splits with positive gain, best gain: -inf\n",
      "[LightGBM] [Warning] No further splits with positive gain, best gain: -inf\n",
      "[LightGBM] [Warning] No further splits with positive gain, best gain: -inf\n",
      "[LightGBM] [Warning] No further splits with positive gain, best gain: -inf\n",
      "[LightGBM] [Warning] No further splits with positive gain, best gain: -inf\n",
      "[LightGBM] [Warning] No further splits with positive gain, best gain: -inf\n",
      "[LightGBM] [Warning] No further splits with positive gain, best gain: -inf\n",
      "[LightGBM] [Warning] No further splits with positive gain, best gain: -inf\n",
      "[LightGBM] [Warning] No further splits with positive gain, best gain: -inf\n",
      "[LightGBM] [Warning] No further splits with positive gain, best gain: -inf\n",
      "[LightGBM] [Warning] No further splits with positive gain, best gain: -inf\n",
      "[LightGBM] [Warning] No further splits with positive gain, best gain: -inf\n",
      "[LightGBM] [Warning] No further splits with positive gain, best gain: -inf\n",
      "[LightGBM] [Warning] No further splits with positive gain, best gain: -inf\n",
      "[LightGBM] [Warning] No further splits with positive gain, best gain: -inf\n",
      "[LightGBM] [Warning] No further splits with positive gain, best gain: -inf\n",
      "[LightGBM] [Warning] No further splits with positive gain, best gain: -inf\n",
      "[LightGBM] [Warning] No further splits with positive gain, best gain: -inf\n",
      "[LightGBM] [Warning] No further splits with positive gain, best gain: -inf\n",
      "[LightGBM] [Warning] No further splits with positive gain, best gain: -inf\n",
      "[LightGBM] [Warning] No further splits with positive gain, best gain: -inf\n",
      "[LightGBM] [Warning] No further splits with positive gain, best gain: -inf\n",
      "[LightGBM] [Warning] No further splits with positive gain, best gain: -inf\n",
      "[LightGBM] [Warning] No further splits with positive gain, best gain: -inf\n",
      "[LightGBM] [Warning] No further splits with positive gain, best gain: -inf\n",
      "[LightGBM] [Warning] No further splits with positive gain, best gain: -inf\n",
      "[LightGBM] [Warning] No further splits with positive gain, best gain: -inf\n",
      "[LightGBM] [Warning] No further splits with positive gain, best gain: -inf\n",
      "[LightGBM] [Warning] No further splits with positive gain, best gain: -inf\n",
      "[LightGBM] [Warning] No further splits with positive gain, best gain: -inf\n",
      "[LightGBM] [Warning] No further splits with positive gain, best gain: -inf\n",
      "[LightGBM] [Warning] No further splits with positive gain, best gain: -inf\n",
      "[LightGBM] [Warning] No further splits with positive gain, best gain: -inf\n",
      "[LightGBM] [Warning] No further splits with positive gain, best gain: -inf\n",
      "[LightGBM] [Warning] No further splits with positive gain, best gain: -inf\n",
      "[LightGBM] [Warning] No further splits with positive gain, best gain: -inf\n",
      "[LightGBM] [Warning] No further splits with positive gain, best gain: -inf\n",
      "[LightGBM] [Warning] No further splits with positive gain, best gain: -inf\n",
      "[LightGBM] [Warning] No further splits with positive gain, best gain: -inf\n",
      "[LightGBM] [Warning] No further splits with positive gain, best gain: -inf\n",
      "[LightGBM] [Warning] No further splits with positive gain, best gain: -inf\n",
      "[LightGBM] [Warning] No further splits with positive gain, best gain: -inf\n",
      "[LightGBM] [Warning] No further splits with positive gain, best gain: -inf\n",
      "[LightGBM] [Warning] No further splits with positive gain, best gain: -inf\n",
      "[LightGBM] [Warning] No further splits with positive gain, best gain: -inf\n",
      "[LightGBM] [Warning] No further splits with positive gain, best gain: -inf\n",
      "[LightGBM] [Warning] No further splits with positive gain, best gain: -inf\n",
      "[LightGBM] [Warning] No further splits with positive gain, best gain: -inf\n",
      "[LightGBM] [Warning] No further splits with positive gain, best gain: -inf\n",
      "[LightGBM] [Warning] No further splits with positive gain, best gain: -inf\n",
      "[LightGBM] [Warning] No further splits with positive gain, best gain: -inf\n",
      "[LightGBM] [Warning] No further splits with positive gain, best gain: -inf\n",
      "[LightGBM] [Warning] No further splits with positive gain, best gain: -inf\n",
      "[LightGBM] [Warning] No further splits with positive gain, best gain: -inf\n",
      "[LightGBM] [Warning] No further splits with positive gain, best gain: -inf\n",
      "[LightGBM] [Warning] No further splits with positive gain, best gain: -inf\n",
      "[LightGBM] [Warning] No further splits with positive gain, best gain: -inf\n",
      "[LightGBM] [Warning] No further splits with positive gain, best gain: -inf\n",
      "[LightGBM] [Warning] No further splits with positive gain, best gain: -inf\n",
      "[LightGBM] [Warning] No further splits with positive gain, best gain: -inf\n",
      "[LightGBM] [Warning] No further splits with positive gain, best gain: -inf\n",
      "[LightGBM] [Warning] No further splits with positive gain, best gain: -inf\n",
      "[LightGBM] [Warning] No further splits with positive gain, best gain: -inf\n",
      "[LightGBM] [Warning] No further splits with positive gain, best gain: -inf\n",
      "[LightGBM] [Warning] No further splits with positive gain, best gain: -inf\n",
      "[LightGBM] [Warning] No further splits with positive gain, best gain: -inf\n",
      "[LightGBM] [Warning] No further splits with positive gain, best gain: -inf\n",
      "[LightGBM] [Warning] No further splits with positive gain, best gain: -inf\n",
      "[LightGBM] [Warning] No further splits with positive gain, best gain: -inf\n",
      "[LightGBM] [Warning] No further splits with positive gain, best gain: -inf\n",
      "[LightGBM] [Warning] No further splits with positive gain, best gain: -inf\n",
      "[LightGBM] [Warning] No further splits with positive gain, best gain: -inf\n",
      "[LightGBM] [Warning] No further splits with positive gain, best gain: -inf\n",
      "[LightGBM] [Warning] No further splits with positive gain, best gain: -inf\n",
      "[LightGBM] [Warning] No further splits with positive gain, best gain: -inf\n",
      "[LightGBM] [Warning] No further splits with positive gain, best gain: -inf\n",
      "[LightGBM] [Warning] No further splits with positive gain, best gain: -inf\n",
      "[LightGBM] [Warning] No further splits with positive gain, best gain: -inf\n",
      "[LightGBM] [Warning] No further splits with positive gain, best gain: -inf\n",
      "[LightGBM] [Warning] No further splits with positive gain, best gain: -inf\n",
      "[LightGBM] [Warning] No further splits with positive gain, best gain: -inf\n",
      "[LightGBM] [Warning] No further splits with positive gain, best gain: -inf\n",
      "[LightGBM] [Warning] No further splits with positive gain, best gain: -inf\n",
      "[LightGBM] [Warning] No further splits with positive gain, best gain: -inf\n",
      "[LightGBM] [Warning] No further splits with positive gain, best gain: -inf\n",
      "[LightGBM] [Warning] No further splits with positive gain, best gain: -inf\n",
      "[LightGBM] [Warning] No further splits with positive gain, best gain: -inf\n",
      "[LightGBM] [Warning] No further splits with positive gain, best gain: -inf\n",
      "[LightGBM] [Warning] No further splits with positive gain, best gain: -inf\n",
      "[LightGBM] [Warning] No further splits with positive gain, best gain: -inf\n",
      "[LightGBM] [Warning] No further splits with positive gain, best gain: -inf\n",
      "[LightGBM] [Warning] No further splits with positive gain, best gain: -inf\n",
      "[LightGBM] [Warning] No further splits with positive gain, best gain: -inf\n",
      "[LightGBM] [Warning] No further splits with positive gain, best gain: -inf\n",
      "[LightGBM] [Warning] No further splits with positive gain, best gain: -inf\n",
      "[LightGBM] [Warning] No further splits with positive gain, best gain: -inf\n",
      "[LightGBM] [Warning] No further splits with positive gain, best gain: -inf\n",
      "[LightGBM] [Warning] No further splits with positive gain, best gain: -inf\n",
      "[LightGBM] [Warning] No further splits with positive gain, best gain: -inf\n",
      "[LightGBM] [Warning] No further splits with positive gain, best gain: -inf\n",
      "[LightGBM] [Warning] No further splits with positive gain, best gain: -inf\n",
      "[LightGBM] [Warning] No further splits with positive gain, best gain: -inf\n",
      "[LightGBM] [Warning] No further splits with positive gain, best gain: -inf\n",
      "[LightGBM] [Warning] No further splits with positive gain, best gain: -inf\n",
      "[LightGBM] [Warning] No further splits with positive gain, best gain: -inf\n",
      "[LightGBM] [Warning] No further splits with positive gain, best gain: -inf\n",
      "[LightGBM] [Warning] No further splits with positive gain, best gain: -inf\n",
      "[LightGBM] [Warning] No further splits with positive gain, best gain: -inf\n",
      "[LightGBM] [Warning] No further splits with positive gain, best gain: -inf\n",
      "[LightGBM] [Warning] No further splits with positive gain, best gain: -inf\n",
      "[LightGBM] [Warning] No further splits with positive gain, best gain: -inf\n",
      "[LightGBM] [Warning] No further splits with positive gain, best gain: -inf\n",
      "[LightGBM] [Warning] No further splits with positive gain, best gain: -inf\n",
      "[LightGBM] [Warning] No further splits with positive gain, best gain: -inf\n",
      "[LightGBM] [Warning] No further splits with positive gain, best gain: -inf\n",
      "[LightGBM] [Warning] No further splits with positive gain, best gain: -inf\n",
      "[LightGBM] [Warning] No further splits with positive gain, best gain: -inf\n",
      "[LightGBM] [Warning] No further splits with positive gain, best gain: -inf\n",
      "[LightGBM] [Warning] No further splits with positive gain, best gain: -inf\n",
      "[LightGBM] [Warning] No further splits with positive gain, best gain: -inf\n",
      "[LightGBM] [Warning] No further splits with positive gain, best gain: -inf\n",
      "[LightGBM] [Warning] No further splits with positive gain, best gain: -inf\n",
      "[LightGBM] [Warning] No further splits with positive gain, best gain: -inf\n",
      "[LightGBM] [Warning] No further splits with positive gain, best gain: -inf\n",
      "[LightGBM] [Warning] No further splits with positive gain, best gain: -inf\n",
      "[LightGBM] [Warning] No further splits with positive gain, best gain: -inf\n",
      "[LightGBM] [Warning] No further splits with positive gain, best gain: -inf\n",
      "[LightGBM] [Warning] No further splits with positive gain, best gain: -inf\n",
      "[LightGBM] [Warning] No further splits with positive gain, best gain: -inf\n",
      "[LightGBM] [Warning] No further splits with positive gain, best gain: -inf\n",
      "[LightGBM] [Warning] No further splits with positive gain, best gain: -inf\n",
      "[LightGBM] [Warning] No further splits with positive gain, best gain: -inf\n",
      "[LightGBM] [Warning] No further splits with positive gain, best gain: -inf\n",
      "[LightGBM] [Warning] No further splits with positive gain, best gain: -inf\n",
      "[LightGBM] [Warning] No further splits with positive gain, best gain: -inf\n",
      "[LightGBM] [Warning] No further splits with positive gain, best gain: -inf\n",
      "[LightGBM] [Warning] No further splits with positive gain, best gain: -inf\n",
      "[LightGBM] [Warning] No further splits with positive gain, best gain: -inf\n",
      "[LightGBM] [Warning] No further splits with positive gain, best gain: -inf\n",
      "[LightGBM] [Warning] No further splits with positive gain, best gain: -inf\n",
      "[LightGBM] [Warning] No further splits with positive gain, best gain: -inf\n",
      "[LightGBM] [Warning] No further splits with positive gain, best gain: -inf\n",
      "[LightGBM] [Warning] No further splits with positive gain, best gain: -inf\n",
      "[LightGBM] [Warning] No further splits with positive gain, best gain: -inf\n",
      "[LightGBM] [Warning] No further splits with positive gain, best gain: -inf\n",
      "[LightGBM] [Warning] No further splits with positive gain, best gain: -inf\n",
      "[LightGBM] [Warning] No further splits with positive gain, best gain: -inf\n",
      "[LightGBM] [Warning] No further splits with positive gain, best gain: -inf\n",
      "[LightGBM] [Warning] No further splits with positive gain, best gain: -inf\n",
      "[LightGBM] [Warning] No further splits with positive gain, best gain: -inf\n",
      "[LightGBM] [Warning] No further splits with positive gain, best gain: -inf\n",
      "[LightGBM] [Warning] No further splits with positive gain, best gain: -inf\n",
      "[LightGBM] [Warning] No further splits with positive gain, best gain: -inf\n",
      "[LightGBM] [Warning] No further splits with positive gain, best gain: -inf\n",
      "[LightGBM] [Warning] No further splits with positive gain, best gain: -inf\n",
      "[LightGBM] [Warning] No further splits with positive gain, best gain: -inf\n",
      "[LightGBM] [Warning] No further splits with positive gain, best gain: -inf\n",
      "[LightGBM] [Warning] No further splits with positive gain, best gain: -inf\n",
      "[LightGBM] [Warning] No further splits with positive gain, best gain: -inf\n",
      "[LightGBM] [Warning] No further splits with positive gain, best gain: -inf\n",
      "[LightGBM] [Warning] No further splits with positive gain, best gain: -inf\n",
      "[LightGBM] [Warning] No further splits with positive gain, best gain: -inf\n",
      "[LightGBM] [Warning] No further splits with positive gain, best gain: -inf\n",
      "[LightGBM] [Warning] No further splits with positive gain, best gain: -inf\n",
      "[LightGBM] [Warning] No further splits with positive gain, best gain: -inf\n",
      "[LightGBM] [Warning] No further splits with positive gain, best gain: -inf\n",
      "[LightGBM] [Warning] No further splits with positive gain, best gain: -inf\n",
      "[LightGBM] [Warning] No further splits with positive gain, best gain: -inf\n",
      "[LightGBM] [Warning] No further splits with positive gain, best gain: -inf\n",
      "[LightGBM] [Warning] No further splits with positive gain, best gain: -inf\n",
      "[LightGBM] [Warning] No further splits with positive gain, best gain: -inf\n",
      "[LightGBM] [Warning] No further splits with positive gain, best gain: -inf\n",
      "[LightGBM] [Warning] No further splits with positive gain, best gain: -inf\n",
      "[LightGBM] [Warning] No further splits with positive gain, best gain: -inf\n",
      "[LightGBM] [Warning] No further splits with positive gain, best gain: -inf\n",
      "[LightGBM] [Warning] No further splits with positive gain, best gain: -inf\n",
      "[LightGBM] [Warning] No further splits with positive gain, best gain: -inf\n",
      "[LightGBM] [Warning] No further splits with positive gain, best gain: -inf\n",
      "[LightGBM] [Warning] No further splits with positive gain, best gain: -inf\n",
      "[LightGBM] [Warning] No further splits with positive gain, best gain: -inf\n",
      "[LightGBM] [Warning] No further splits with positive gain, best gain: -inf\n",
      "[LightGBM] [Warning] No further splits with positive gain, best gain: -inf\n",
      "[LightGBM] [Warning] No further splits with positive gain, best gain: -inf\n",
      "[LightGBM] [Warning] No further splits with positive gain, best gain: -inf\n",
      "[LightGBM] [Warning] No further splits with positive gain, best gain: -inf\n",
      "[LightGBM] [Warning] No further splits with positive gain, best gain: -inf\n",
      "[LightGBM] [Warning] No further splits with positive gain, best gain: -inf\n",
      "[LightGBM] [Warning] No further splits with positive gain, best gain: -inf\n",
      "[LightGBM] [Warning] No further splits with positive gain, best gain: -inf\n",
      "[LightGBM] [Warning] No further splits with positive gain, best gain: -inf\n",
      "[LightGBM] [Warning] No further splits with positive gain, best gain: -inf\n",
      "[LightGBM] [Warning] No further splits with positive gain, best gain: -inf\n",
      "[LightGBM] [Warning] No further splits with positive gain, best gain: -inf\n",
      "[LightGBM] [Warning] No further splits with positive gain, best gain: -inf\n",
      "[LightGBM] [Warning] No further splits with positive gain, best gain: -inf\n",
      "[LightGBM] [Warning] No further splits with positive gain, best gain: -inf\n",
      "[LightGBM] [Warning] No further splits with positive gain, best gain: -inf\n",
      "[LightGBM] [Warning] No further splits with positive gain, best gain: -inf\n",
      "[LightGBM] [Warning] No further splits with positive gain, best gain: -inf\n",
      "[LightGBM] [Warning] No further splits with positive gain, best gain: -inf\n",
      "[LightGBM] [Warning] No further splits with positive gain, best gain: -inf\n",
      "[LightGBM] [Warning] No further splits with positive gain, best gain: -inf\n",
      "[LightGBM] [Warning] No further splits with positive gain, best gain: -inf\n",
      "[LightGBM] [Warning] No further splits with positive gain, best gain: -inf\n",
      "[LightGBM] [Warning] No further splits with positive gain, best gain: -inf\n",
      "[LightGBM] [Warning] No further splits with positive gain, best gain: -inf\n",
      "[LightGBM] [Warning] No further splits with positive gain, best gain: -inf\n",
      "[LightGBM] [Warning] No further splits with positive gain, best gain: -inf\n",
      "[LightGBM] [Warning] No further splits with positive gain, best gain: -inf\n",
      "[LightGBM] [Warning] No further splits with positive gain, best gain: -inf\n",
      "[LightGBM] [Warning] No further splits with positive gain, best gain: -inf\n",
      "[LightGBM] [Warning] No further splits with positive gain, best gain: -inf\n",
      "[LightGBM] [Warning] No further splits with positive gain, best gain: -inf\n",
      "[LightGBM] [Warning] No further splits with positive gain, best gain: -inf\n",
      "[LightGBM] [Warning] No further splits with positive gain, best gain: -inf\n",
      "[LightGBM] [Warning] No further splits with positive gain, best gain: -inf\n",
      "[LightGBM] [Warning] No further splits with positive gain, best gain: -inf\n",
      "[LightGBM] [Warning] No further splits with positive gain, best gain: -inf\n",
      "[LightGBM] [Warning] No further splits with positive gain, best gain: -inf\n",
      "[LightGBM] [Warning] No further splits with positive gain, best gain: -inf\n",
      "[LightGBM] [Warning] No further splits with positive gain, best gain: -inf\n",
      "[LightGBM] [Warning] No further splits with positive gain, best gain: -inf\n",
      "[LightGBM] [Warning] No further splits with positive gain, best gain: -inf\n",
      "[LightGBM] [Warning] No further splits with positive gain, best gain: -inf\n",
      "[LightGBM] [Warning] No further splits with positive gain, best gain: -inf\n",
      "[LightGBM] [Warning] No further splits with positive gain, best gain: -inf\n",
      "[LightGBM] [Warning] No further splits with positive gain, best gain: -inf\n",
      "[LightGBM] [Warning] No further splits with positive gain, best gain: -inf\n",
      "[LightGBM] [Warning] No further splits with positive gain, best gain: -inf\n",
      "[LightGBM] [Warning] No further splits with positive gain, best gain: -inf\n",
      "[LightGBM] [Warning] No further splits with positive gain, best gain: -inf\n",
      "[LightGBM] [Warning] No further splits with positive gain, best gain: -inf\n",
      "[LightGBM] [Warning] No further splits with positive gain, best gain: -inf\n",
      "[LightGBM] [Warning] No further splits with positive gain, best gain: -inf\n",
      "[LightGBM] [Warning] No further splits with positive gain, best gain: -inf\n",
      "[LightGBM] [Warning] No further splits with positive gain, best gain: -inf\n",
      "[LightGBM] [Warning] No further splits with positive gain, best gain: -inf\n",
      "[LightGBM] [Warning] No further splits with positive gain, best gain: -inf\n",
      "[LightGBM] [Warning] No further splits with positive gain, best gain: -inf\n",
      "[LightGBM] [Warning] No further splits with positive gain, best gain: -inf\n",
      "[LightGBM] [Warning] No further splits with positive gain, best gain: -inf\n",
      "[LightGBM] [Warning] No further splits with positive gain, best gain: -inf\n",
      "[LightGBM] [Warning] No further splits with positive gain, best gain: -inf\n",
      "[LightGBM] [Warning] No further splits with positive gain, best gain: -inf\n",
      "[LightGBM] [Warning] No further splits with positive gain, best gain: -inf\n",
      "[LightGBM] [Warning] No further splits with positive gain, best gain: -inf\n",
      "[LightGBM] [Warning] No further splits with positive gain, best gain: -inf\n",
      "[LightGBM] [Warning] No further splits with positive gain, best gain: -inf\n",
      "[LightGBM] [Warning] No further splits with positive gain, best gain: -inf\n",
      "[LightGBM] [Warning] No further splits with positive gain, best gain: -inf\n",
      "[LightGBM] [Warning] No further splits with positive gain, best gain: -inf\n",
      "[LightGBM] [Warning] No further splits with positive gain, best gain: -inf\n",
      "[LightGBM] [Warning] No further splits with positive gain, best gain: -inf\n",
      "[LightGBM] [Warning] No further splits with positive gain, best gain: -inf\n",
      "[LightGBM] [Warning] No further splits with positive gain, best gain: -inf\n",
      "[LightGBM] [Warning] No further splits with positive gain, best gain: -inf\n",
      "[LightGBM] [Warning] No further splits with positive gain, best gain: -inf\n",
      "[LightGBM] [Warning] No further splits with positive gain, best gain: -inf\n",
      "[LightGBM] [Warning] No further splits with positive gain, best gain: -inf\n",
      "[LightGBM] [Warning] No further splits with positive gain, best gain: -inf\n",
      "[LightGBM] [Warning] No further splits with positive gain, best gain: -inf\n",
      "[LightGBM] [Warning] No further splits with positive gain, best gain: -inf\n",
      "[LightGBM] [Warning] No further splits with positive gain, best gain: -inf\n",
      "[LightGBM] [Warning] No further splits with positive gain, best gain: -inf\n",
      "[LightGBM] [Warning] No further splits with positive gain, best gain: -inf\n",
      "[LightGBM] [Warning] No further splits with positive gain, best gain: -inf\n",
      "[LightGBM] [Warning] No further splits with positive gain, best gain: -inf\n",
      "[LightGBM] [Warning] No further splits with positive gain, best gain: -inf\n",
      "[LightGBM] [Warning] No further splits with positive gain, best gain: -inf\n",
      "[LightGBM] [Warning] No further splits with positive gain, best gain: -inf\n",
      "[LightGBM] [Warning] No further splits with positive gain, best gain: -inf\n",
      "[LightGBM] [Warning] No further splits with positive gain, best gain: -inf\n",
      "[LightGBM] [Warning] No further splits with positive gain, best gain: -inf\n",
      "[LightGBM] [Warning] No further splits with positive gain, best gain: -inf\n",
      "[LightGBM] [Warning] No further splits with positive gain, best gain: -inf\n",
      "[LightGBM] [Warning] No further splits with positive gain, best gain: -inf\n",
      "[LightGBM] [Warning] No further splits with positive gain, best gain: -inf\n",
      "[LightGBM] [Warning] No further splits with positive gain, best gain: -inf\n",
      "[LightGBM] [Warning] No further splits with positive gain, best gain: -inf\n",
      "[LightGBM] [Warning] No further splits with positive gain, best gain: -inf\n",
      "[LightGBM] [Warning] No further splits with positive gain, best gain: -inf\n",
      "[LightGBM] [Warning] No further splits with positive gain, best gain: -inf\n",
      "[LightGBM] [Warning] No further splits with positive gain, best gain: -inf\n",
      "[LightGBM] [Warning] No further splits with positive gain, best gain: -inf\n",
      "[LightGBM] [Warning] No further splits with positive gain, best gain: -inf\n",
      "[LightGBM] [Warning] No further splits with positive gain, best gain: -inf\n",
      "[LightGBM] [Warning] No further splits with positive gain, best gain: -inf\n",
      "[LightGBM] [Warning] No further splits with positive gain, best gain: -inf\n",
      "[LightGBM] [Warning] No further splits with positive gain, best gain: -inf\n",
      "[LightGBM] [Warning] No further splits with positive gain, best gain: -inf\n",
      "[LightGBM] [Warning] No further splits with positive gain, best gain: -inf\n",
      "[LightGBM] [Warning] No further splits with positive gain, best gain: -inf\n",
      "[LightGBM] [Warning] No further splits with positive gain, best gain: -inf\n",
      "[LightGBM] [Warning] No further splits with positive gain, best gain: -inf\n",
      "[LightGBM] [Warning] No further splits with positive gain, best gain: -inf\n",
      "[LightGBM] [Warning] No further splits with positive gain, best gain: -inf\n",
      "[LightGBM] [Warning] No further splits with positive gain, best gain: -inf\n",
      "[LightGBM] [Warning] No further splits with positive gain, best gain: -inf\n",
      "[LightGBM] [Warning] No further splits with positive gain, best gain: -inf\n",
      "[LightGBM] [Warning] No further splits with positive gain, best gain: -inf\n",
      "[LightGBM] [Warning] No further splits with positive gain, best gain: -inf\n",
      "[LightGBM] [Warning] No further splits with positive gain, best gain: -inf\n",
      "[LightGBM] [Warning] No further splits with positive gain, best gain: -inf\n",
      "[LightGBM] [Warning] No further splits with positive gain, best gain: -inf\n",
      "[LightGBM] [Warning] No further splits with positive gain, best gain: -inf\n",
      "[LightGBM] [Warning] No further splits with positive gain, best gain: -inf\n",
      "[LightGBM] [Warning] No further splits with positive gain, best gain: -inf\n",
      "[LightGBM] [Warning] No further splits with positive gain, best gain: -inf\n",
      "[LightGBM] [Warning] No further splits with positive gain, best gain: -inf\n",
      "[LightGBM] [Warning] No further splits with positive gain, best gain: -inf\n",
      "[LightGBM] [Warning] No further splits with positive gain, best gain: -inf\n",
      "[LightGBM] [Warning] No further splits with positive gain, best gain: -inf\n",
      "[LightGBM] [Warning] No further splits with positive gain, best gain: -inf\n",
      "[LightGBM] [Warning] No further splits with positive gain, best gain: -inf\n",
      "[LightGBM] [Warning] No further splits with positive gain, best gain: -inf\n",
      "[LightGBM] [Warning] No further splits with positive gain, best gain: -inf\n",
      "[LightGBM] [Warning] No further splits with positive gain, best gain: -inf\n",
      "[LightGBM] [Warning] No further splits with positive gain, best gain: -inf\n",
      "[LightGBM] [Warning] No further splits with positive gain, best gain: -inf\n",
      "[LightGBM] [Warning] No further splits with positive gain, best gain: -inf\n",
      "[LightGBM] [Warning] No further splits with positive gain, best gain: -inf\n",
      "[LightGBM] [Warning] No further splits with positive gain, best gain: -inf\n",
      "[LightGBM] [Warning] No further splits with positive gain, best gain: -inf\n",
      "[LightGBM] [Warning] No further splits with positive gain, best gain: -inf\n",
      "[LightGBM] [Warning] No further splits with positive gain, best gain: -inf\n",
      "[LightGBM] [Warning] No further splits with positive gain, best gain: -inf\n",
      "[LightGBM] [Warning] No further splits with positive gain, best gain: -inf\n",
      "[LightGBM] [Warning] No further splits with positive gain, best gain: -inf\n",
      "[LightGBM] [Warning] No further splits with positive gain, best gain: -inf\n",
      "[LightGBM] [Warning] No further splits with positive gain, best gain: -inf\n",
      "[LightGBM] [Warning] No further splits with positive gain, best gain: -inf\n",
      "[LightGBM] [Warning] No further splits with positive gain, best gain: -inf\n",
      "[LightGBM] [Warning] No further splits with positive gain, best gain: -inf\n",
      "[LightGBM] [Warning] No further splits with positive gain, best gain: -inf\n",
      "[LightGBM] [Warning] No further splits with positive gain, best gain: -inf\n",
      "[LightGBM] [Warning] No further splits with positive gain, best gain: -inf\n",
      "[LightGBM] [Warning] No further splits with positive gain, best gain: -inf\n",
      "[LightGBM] [Warning] No further splits with positive gain, best gain: -inf\n",
      "[LightGBM] [Warning] No further splits with positive gain, best gain: -inf\n",
      "[LightGBM] [Warning] No further splits with positive gain, best gain: -inf\n",
      "[LightGBM] [Warning] No further splits with positive gain, best gain: -inf\n",
      "[LightGBM] [Warning] No further splits with positive gain, best gain: -inf\n",
      "[LightGBM] [Warning] No further splits with positive gain, best gain: -inf\n",
      "[LightGBM] [Warning] No further splits with positive gain, best gain: -inf\n",
      "[LightGBM] [Warning] No further splits with positive gain, best gain: -inf\n",
      "[LightGBM] [Warning] No further splits with positive gain, best gain: -inf\n",
      "[LightGBM] [Warning] No further splits with positive gain, best gain: -inf\n",
      "[LightGBM] [Warning] No further splits with positive gain, best gain: -inf\n",
      "[LightGBM] [Warning] No further splits with positive gain, best gain: -inf\n",
      "[LightGBM] [Warning] No further splits with positive gain, best gain: -inf\n",
      "[LightGBM] [Warning] No further splits with positive gain, best gain: -inf\n",
      "[LightGBM] [Warning] No further splits with positive gain, best gain: -inf\n",
      "[LightGBM] [Warning] No further splits with positive gain, best gain: -inf\n",
      "[LightGBM] [Warning] No further splits with positive gain, best gain: -inf\n",
      "[LightGBM] [Warning] No further splits with positive gain, best gain: -inf\n",
      "[LightGBM] [Warning] No further splits with positive gain, best gain: -inf\n",
      "[LightGBM] [Warning] No further splits with positive gain, best gain: -inf\n",
      "[LightGBM] [Warning] No further splits with positive gain, best gain: -inf\n",
      "[LightGBM] [Warning] No further splits with positive gain, best gain: -inf\n",
      "[LightGBM] [Warning] No further splits with positive gain, best gain: -inf\n",
      "[LightGBM] [Warning] No further splits with positive gain, best gain: -inf\n",
      "[LightGBM] [Warning] No further splits with positive gain, best gain: -inf\n",
      "[LightGBM] [Warning] No further splits with positive gain, best gain: -inf\n",
      "[LightGBM] [Warning] No further splits with positive gain, best gain: -inf\n",
      "[LightGBM] [Warning] No further splits with positive gain, best gain: -inf\n",
      "[LightGBM] [Warning] No further splits with positive gain, best gain: -inf\n",
      "[LightGBM] [Warning] No further splits with positive gain, best gain: -inf\n",
      "[LightGBM] [Warning] No further splits with positive gain, best gain: -inf\n",
      "[LightGBM] [Warning] No further splits with positive gain, best gain: -inf\n",
      "[LightGBM] [Warning] No further splits with positive gain, best gain: -inf\n",
      "[LightGBM] [Warning] No further splits with positive gain, best gain: -inf\n",
      "[LightGBM] [Warning] No further splits with positive gain, best gain: -inf\n",
      "[LightGBM] [Warning] No further splits with positive gain, best gain: -inf\n",
      "[LightGBM] [Warning] No further splits with positive gain, best gain: -inf\n",
      "[LightGBM] [Warning] No further splits with positive gain, best gain: -inf\n",
      "[LightGBM] [Warning] No further splits with positive gain, best gain: -inf\n",
      "[LightGBM] [Warning] No further splits with positive gain, best gain: -inf\n",
      "[LightGBM] [Warning] No further splits with positive gain, best gain: -inf\n",
      "[LightGBM] [Warning] No further splits with positive gain, best gain: -inf\n",
      "[LightGBM] [Warning] No further splits with positive gain, best gain: -inf\n",
      "[LightGBM] [Warning] No further splits with positive gain, best gain: -inf\n",
      "[LightGBM] [Warning] No further splits with positive gain, best gain: -inf\n",
      "[LightGBM] [Warning] No further splits with positive gain, best gain: -inf\n",
      "[LightGBM] [Warning] No further splits with positive gain, best gain: -inf\n",
      "[LightGBM] [Warning] No further splits with positive gain, best gain: -inf\n",
      "[LightGBM] [Warning] No further splits with positive gain, best gain: -inf\n",
      "[LightGBM] [Warning] No further splits with positive gain, best gain: -inf\n",
      "[LightGBM] [Warning] No further splits with positive gain, best gain: -inf\n",
      "[LightGBM] [Warning] No further splits with positive gain, best gain: -inf\n",
      "[LightGBM] [Warning] No further splits with positive gain, best gain: -inf\n",
      "[LightGBM] [Warning] No further splits with positive gain, best gain: -inf\n",
      "[LightGBM] [Warning] No further splits with positive gain, best gain: -inf\n",
      "[LightGBM] [Warning] No further splits with positive gain, best gain: -inf\n",
      "[LightGBM] [Warning] No further splits with positive gain, best gain: -inf\n",
      "[LightGBM] [Warning] No further splits with positive gain, best gain: -inf\n",
      "[LightGBM] [Warning] No further splits with positive gain, best gain: -inf\n",
      "[LightGBM] [Warning] No further splits with positive gain, best gain: -inf\n",
      "[LightGBM] [Warning] No further splits with positive gain, best gain: -inf\n",
      "[LightGBM] [Warning] No further splits with positive gain, best gain: -inf\n",
      "[LightGBM] [Warning] No further splits with positive gain, best gain: -inf\n",
      "[LightGBM] [Warning] No further splits with positive gain, best gain: -inf\n",
      "[LightGBM] [Warning] No further splits with positive gain, best gain: -inf\n",
      "[LightGBM] [Warning] No further splits with positive gain, best gain: -inf\n",
      "[LightGBM] [Warning] No further splits with positive gain, best gain: -inf\n",
      "[LightGBM] [Warning] No further splits with positive gain, best gain: -inf\n",
      "[LightGBM] [Warning] No further splits with positive gain, best gain: -inf\n",
      "[LightGBM] [Warning] No further splits with positive gain, best gain: -inf\n",
      "[LightGBM] [Warning] No further splits with positive gain, best gain: -inf\n",
      "[LightGBM] [Warning] No further splits with positive gain, best gain: -inf\n",
      "[LightGBM] [Warning] No further splits with positive gain, best gain: -inf\n",
      "[LightGBM] [Warning] No further splits with positive gain, best gain: -inf\n",
      "LightGBM Accuracy: 56.71077504725898\n",
      "              precision    recall  f1-score   support\n",
      "\n",
      "           0       0.45      0.40      0.43      2400\n",
      "           1       0.22      0.10      0.14       427\n",
      "           2       0.30      0.13      0.19      1514\n",
      "           3       0.64      0.64      0.64       965\n",
      "           4       0.00      0.00      0.00         0\n",
      "           5       0.23      0.29      0.25       129\n",
      "           6       0.65      0.80      0.71      4271\n",
      "           7       0.05      0.25      0.08         4\n",
      "           8       0.62      0.73      0.67      1399\n",
      "\n",
      "    accuracy                           0.57     11109\n",
      "   macro avg       0.35      0.37      0.34     11109\n",
      "weighted avg       0.53      0.57      0.54     11109\n",
      "\n"
     ]
    },
    {
     "name": "stderr",
     "output_type": "stream",
     "text": [
      "c:\\Users\\abdel\\AppData\\Local\\Programs\\Python\\Python312\\Lib\\site-packages\\sklearn\\metrics\\_classification.py:1509: UndefinedMetricWarning: Recall is ill-defined and being set to 0.0 in labels with no true samples. Use `zero_division` parameter to control this behavior.\n",
      "  _warn_prf(average, modifier, f\"{metric.capitalize()} is\", len(result))\n",
      "c:\\Users\\abdel\\AppData\\Local\\Programs\\Python\\Python312\\Lib\\site-packages\\sklearn\\metrics\\_classification.py:1509: UndefinedMetricWarning: Recall is ill-defined and being set to 0.0 in labels with no true samples. Use `zero_division` parameter to control this behavior.\n",
      "  _warn_prf(average, modifier, f\"{metric.capitalize()} is\", len(result))\n",
      "c:\\Users\\abdel\\AppData\\Local\\Programs\\Python\\Python312\\Lib\\site-packages\\sklearn\\metrics\\_classification.py:1509: UndefinedMetricWarning: Recall is ill-defined and being set to 0.0 in labels with no true samples. Use `zero_division` parameter to control this behavior.\n",
      "  _warn_prf(average, modifier, f\"{metric.capitalize()} is\", len(result))\n"
     ]
    }
   ],
   "source": [
    "from lightgbm import LGBMClassifier\n",
    "\n",
    "lightgbm_model = LGBMClassifier(\n",
    "    colsample_bytree=0.8,\n",
    "    learning_rate=0.08,\n",
    "    num_leaves=80,\n",
    "    n_estimators=500,\n",
    "    subsample=0.8,\n",
    "    random_state=54\n",
    ")\n",
    "\n",
    "# Fit the model\n",
    "lightgbm_model.fit(X_train, y_train)\n",
    "\n",
    "# Evaluation\n",
    "y_pred = lightgbm_model.predict(X_test)\n",
    "print(\"LightGBM Accuracy:\", accuracy_score(y_test, y_pred) * 100)\n",
    "print(classification_report(y_test, y_pred))"
   ]
  },
  {
   "cell_type": "markdown",
   "id": "73eb0ca2",
   "metadata": {},
   "source": [
    "\n",
    "- Best CatBoost Parameters: {'bagging_temperature': 0, 'depth': 6, 'iterations': 1500, 'l2_leaf_reg': 5, 'learning_rate': 0.05}\n",
    "\n",
    "- Best XGBoost Parameters: {'colsample_bytree': 0.8, 'learning_rate': 0.05, 'max_depth': 5, 'n_estimators': 500, 'subsample': 0.8}"
   ]
  },
  {
   "cell_type": "markdown",
   "id": "45db2b5f",
   "metadata": {},
   "source": [
    "### Hypertuning 2 "
   ]
  },
  {
   "cell_type": "code",
   "execution_count": 1348,
   "id": "40ed5636",
   "metadata": {},
   "outputs": [],
   "source": [
    "# from xgboost import XGBClassifier\n",
    "# from lightgbm import LGBMClassifier\n",
    "# from sklearn.ensemble import VotingClassifier\n",
    "# catboost = CatBoostClassifier(verbose=0, random_state=42)\n",
    "# catboost_param_grid = {\n",
    "#     'depth': [4, 6, 8, 10],\n",
    "#     'learning_rate': [0.01, 0.05, 0.1],\n",
    "#     'iterations': [500, 1000, 1500],\n",
    "#     'l2_leaf_reg': [1, 3, 5],\n",
    "#     'bagging_temperature': [0, 0.5, 1]\n",
    "# }\n",
    "# catboost_grid = GridSearchCV(\n",
    "#     estimator=catboost,\n",
    "#     param_grid=catboost_param_grid,\n",
    "#     cv=3,\n",
    "#     scoring='accuracy',\n",
    "#     n_jobs=-1\n",
    "# )\n",
    "# catboost_grid.fit(X_train, y_train)\n",
    "# best_catboost = catboost_grid.best_estimator_\n",
    "# print(\"Best CatBoost Parameters:\", catboost_grid.best_params_)\n",
    "\n",
    "# # Hyperparameter Tuning for XGBoost\n",
    "# xgboost = XGBClassifier(random_state=42, use_label_encoder=False, eval_metric='mlogloss')\n",
    "# xgboost_param_grid = {\n",
    "#     'max_depth': [3, 5, 7],\n",
    "#     'learning_rate': [0.01, 0.05, 0.1],\n",
    "#     'n_estimators': [100, 200, 500],\n",
    "#     'subsample': [0.8, 1.0],\n",
    "#     'colsample_bytree': [0.8, 1.0]\n",
    "# }\n",
    "# xgboost_grid = GridSearchCV(\n",
    "#     estimator=xgboost,\n",
    "#     param_grid=xgboost_param_grid,\n",
    "#     cv=3,\n",
    "#     scoring='accuracy',\n",
    "#     n_jobs=-1\n",
    "# )\n",
    "# xgboost_grid.fit(X_train, y_train)\n",
    "# best_xgboost = xgboost_grid.best_estimator_\n",
    "# print(\"Best XGBoost Parameters:\", xgboost_grid.best_params_)\n",
    "\n",
    "# # Hyperparameter Tuning for LightGBM\n",
    "# lightgbm = LGBMClassifier(random_state=42)\n",
    "# lightgbm_param_grid = {\n",
    "#     'num_leaves': [31, 50, 70],\n",
    "#     'learning_rate': [0.01, 0.05, 0.1],\n",
    "#     'n_estimators': [100, 200, 500],\n",
    "#     'subsample': [0.8, 1.0],\n",
    "#     'colsample_bytree': [0.8, 1.0]\n",
    "# }\n",
    "# lightgbm_grid = GridSearchCV(\n",
    "#     estimator=lightgbm,\n",
    "#     param_grid=lightgbm_param_grid,\n",
    "#     cv=3,\n",
    "#     scoring='accuracy',\n",
    "#     n_jobs=-1\n",
    "# )\n",
    "# lightgbm_grid.fit(X_train, y_train)\n",
    "# best_lightgbm = lightgbm_grid.best_estimator_\n",
    "# print(\"Best LightGBM Parameters:\", lightgbm_grid.best_params_)\n",
    "\n",
    "# # Ensemble: Voting Classifier\n",
    "# voting_clf = VotingClassifier(\n",
    "#     estimators=[\n",
    "#         ('catboost', best_catboost),\n",
    "#         ('xgboost', best_xgboost),\n",
    "#         ('lightgbm', best_lightgbm)\n",
    "#     ],\n",
    "#     voting='soft'\n",
    "# )\n",
    "# voting_clf.fit(X_train, y_train)\n",
    "\n",
    "# # Evaluate All Models\n",
    "# models = {\n",
    "#     'CatBoost': best_catboost,\n",
    "#     'XGBoost': best_xgboost,\n",
    "#     'LightGBM': best_lightgbm,\n",
    "#     'Voting Classifier': voting_clf\n",
    "# }\n",
    "\n",
    "# for name, model in models.items():\n",
    "#     y_pred = model.predict(X_test)\n",
    "#     print(f\"\\n{name} Evaluation:\")\n",
    "#     print(\"Accuracy:\", accuracy_score(y_test, y_pred))"
   ]
  },
  {
   "cell_type": "code",
   "execution_count": null,
   "id": "619ad44f",
   "metadata": {},
   "outputs": [],
   "source": []
  }
 ],
 "metadata": {
  "kernelspec": {
   "display_name": "Python 3",
   "language": "python",
   "name": "python3"
  },
  "language_info": {
   "codemirror_mode": {
    "name": "ipython",
    "version": 3
   },
   "file_extension": ".py",
   "mimetype": "text/x-python",
   "name": "python",
   "nbconvert_exporter": "python",
   "pygments_lexer": "ipython3",
   "version": "3.12.6"
  }
 },
 "nbformat": 4,
 "nbformat_minor": 5
}
